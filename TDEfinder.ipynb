{
 "cells": [
  {
   "cell_type": "markdown",
   "id": "029a3915-ff06-410b-8728-5db7636d9b8b",
   "metadata": {},
   "source": [
    "# Simple TDE Filter\n",
    "\n",
    "Search for several broad line emission features characteristic of TDE spectra and select object with all or several of those features. Examples:\n",
    "1. H$\\alpha$ emission.\n",
    "1. O III $\\lambda5007$ line.\n",
    "1. He II $\\lambda4800$ line.\n",
    "1. etc."
   ]
  },
  {
   "cell_type": "code",
   "execution_count": 181,
   "id": "31577aff-b8e1-4c99-a547-eba327480802",
   "metadata": {},
   "outputs": [],
   "source": [
    "import os\n",
    "from glob import glob      # This is used for \"wildcard\" searches of folders.\n",
    "\n",
    "from abc import ABC\n",
    "\n",
    "from astropy.table import Table\n",
    "\n",
    "from desispec.io import read_spectra, write_spectra\n",
    "from desispec.spectra import stack as specstack\n",
    "from desispec.coaddition import coadd_cameras\n",
    "\n",
    "import numpy as np\n",
    "import matplotlib as mpl\n",
    "import matplotlib.pyplot as plt\n",
    "\n",
    "import scipy.signal\n",
    "from scipy.ndimage import gaussian_filter1d\n",
    "from scipy.stats import norm\n",
    "from scipy.optimize import curve_fit\n",
    "\n",
    "# import math\n",
    "# import statistics\n",
    "\n",
    "# import sys"
   ]
  },
  {
   "cell_type": "markdown",
   "id": "ddb002c1-0920-4c3d-9d44-2cecbed22051",
   "metadata": {},
   "source": [
    "## Access to Tile ToO from JuTy 2021\n",
    "\n",
    "This is a dummy data set we'll use as a sandbox to test the TDE filter.\n",
    "\n",
    "Locally cache the selected spectra so we don't have to have a time consuming loop and selectio over data."
   ]
  },
  {
   "cell_type": "code",
   "execution_count": 185,
   "id": "a376c1aa-cc8d-4f2d-8eed-41632b9e000a",
   "metadata": {},
   "outputs": [
    {
     "name": "stdout",
     "output_type": "stream",
     "text": [
      "INFO:spectra.py:282:read_spectra: iotime 0.703 sec to read coadd-0-80980-thru20210708.fits at 2021-08-16T15:02:13.266063\n",
      "INFO:spectra.py:177:write_spectra: iotime 0.345 sec to write selected_coadds_80980_80981.fits at 2021-08-16T15:02:18.652892\n"
     ]
    }
   ],
   "source": [
    "redux = 'daily/tiles/cumulative'\n",
    "basedir = os.environ['DESI_SPECTRO_REDUX']\n",
    "\n",
    "tiles = ['80980', '80981']\n",
    "tiledate = '20210708'\n",
    "\n",
    "coadd_file = 'selected_coadds_80980_80981.fits'\n",
    "use_cache = True\n",
    "\n",
    "if os.path.exists(coadd_file) and use_cache:\n",
    "    spectra = read_spectra(coadd_file)\n",
    "else:    \n",
    "    spectra = None\n",
    "    # Loop over all tiles in our tile list.\n",
    "    for tile in tiles:\n",
    "        tilefolder = '{}/{}/{}/{}'.format(basedir, redux, tile, tiledate)\n",
    "        coadds = sorted(glob('{}/coadd*.fits'.format(tilefolder)))\n",
    "\n",
    "        # Loop over all petals in the spectroscopic reduction.\n",
    "        for coadd in coadds:\n",
    "            # Read the spectra and the best-fit redshifts from redrock and combine into one stack of spectra.\n",
    "            spec = read_spectra(coadd)\n",
    "            zbest_files = coadd.replace('coadd', 'zbest')\n",
    "            zbest = Table.read(zbest_files, 'ZBEST')\n",
    "\n",
    "            # Select spectra with good redshifts at low z to pick TDE candidates.\n",
    "            select = (zbest['DELTACHI2']>25) & (zbest['ZWARN']==0) & (zbest['Z']<=0.15) & (zbest['SPECTYPE']=='GALAXY')\n",
    "\n",
    "            # Match TARGETID between good redshifts in zbest and the spectra fibermap table.\n",
    "            idx = np.in1d(spec.fibermap['TARGETID'], zbest['TARGETID'][select])\n",
    "\n",
    "            # Coadd our selected (good redshift) spectra across the b, r, z cameras.\n",
    "            cspec = coadd_cameras(spec[idx])\n",
    "            cspec.extra_catalog = zbest[select]\n",
    "\n",
    "            # Accumulate spectra from all petals into one object, \"spectra.\"\n",
    "            if spectra is None:\n",
    "                spectra = cspec\n",
    "            else:\n",
    "                spectra = specstack([spectra, cspec])\n",
    "\n",
    "    write_spectra(coadd_file, spectra)\n",
    "    zbest = spectra.extra_catalog"
   ]
  },
  {
   "cell_type": "markdown",
   "id": "10287603-cb71-4c9d-9810-f49dbc1bc4f5",
   "metadata": {},
   "source": [
    "### Select Quality Redshifts\n",
    "\n",
    "Select spectra with good redshifts according to redrock. We'll use this to move to the objects' restframes and look for TDE-like spectra lines."
   ]
  },
  {
   "cell_type": "code",
   "execution_count": 138,
   "id": "cb1c9601-1c4d-4dce-8ce6-2d060c76493a",
   "metadata": {},
   "outputs": [
    {
     "data": {
      "text/html": [
       "<i>Table length=66</i>\n",
       "<table id=\"table46913381682336\" class=\"table-striped table-bordered table-condensed\">\n",
       "<thead><tr><th>TARGETID</th><th>PETAL_LOC</th><th>DEVICE_LOC</th><th>LOCATION</th><th>FIBER</th><th>FIBERSTATUS</th><th>TARGET_RA</th><th>TARGET_DEC</th><th>PMRA</th><th>PMDEC</th><th>REF_EPOCH</th><th>LAMBDA_REF</th><th>FA_TARGET</th><th>FA_TYPE</th><th>OBJTYPE</th><th>PRIORITY</th><th>SUBPRIORITY</th><th>OBSCONDITIONS</th><th>RELEASE</th><th>BRICKID</th><th>BRICK_OBJID</th><th>MORPHTYPE</th><th>FLUX_G</th><th>FLUX_R</th><th>FLUX_Z</th><th>FLUX_IVAR_G</th><th>FLUX_IVAR_R</th><th>FLUX_IVAR_Z</th><th>MASKBITS</th><th>REF_ID</th><th>REF_CAT</th><th>GAIA_PHOT_G_MEAN_MAG</th><th>GAIA_PHOT_BP_MEAN_MAG</th><th>GAIA_PHOT_RP_MEAN_MAG</th><th>PARALLAX</th><th>BRICKNAME</th><th>EBV</th><th>FLUX_W1</th><th>FLUX_W2</th><th>FLUX_IVAR_W1</th><th>FLUX_IVAR_W2</th><th>FIBERFLUX_G</th><th>FIBERFLUX_R</th><th>FIBERFLUX_Z</th><th>FIBERTOTFLUX_G</th><th>FIBERTOTFLUX_R</th><th>FIBERTOTFLUX_Z</th><th>SERSIC</th><th>SHAPE_R</th><th>SHAPE_E1</th><th>SHAPE_E2</th><th>PHOTSYS</th><th>PRIORITY_INIT</th><th>NUMOBS_INIT</th><th>DESI_TARGET</th><th>BGS_TARGET</th><th>MWS_TARGET</th><th>SCND_TARGET</th><th>PLATE_RA</th><th>PLATE_DEC</th><th>PSF_TO_FIBER_SPECFLUX</th><th>TILEID</th><th>COADD_NUMEXP</th><th>COADD_EXPTIME</th><th>MEAN_DELTA_X</th><th>RMS_DELTA_X</th><th>MEAN_DELTA_Y</th><th>RMS_DELTA_Y</th><th>MEAN_FIBER_X</th><th>MEAN_FIBER_Y</th><th>MEAN_FIBER_RA</th><th>MEAN_FIBER_DEC</th><th>MEAN_FIBERASSIGN_X</th><th>MEAN_FIBERASSIGN_Y</th><th>FIRST_NIGHT</th><th>LAST_NIGHT</th><th>NUM_NIGHT</th><th>FIRST_EXPID</th><th>LAST_EXPID</th><th>NUM_EXPID</th><th>FIRST_TILEID</th><th>LAST_TILEID</th><th>NUM_TILEID</th><th>FIRST_FIBER</th><th>LAST_FIBER</th><th>NUM_FIBER</th><th>FIRST_MJD</th><th>LAST_MJD</th><th>NUM_MJD</th></tr></thead>\n",
       "<thead><tr><th>int64</th><th>int16</th><th>int32</th><th>int64</th><th>int32</th><th>int32</th><th>float64</th><th>float64</th><th>float32</th><th>float32</th><th>float32</th><th>float32</th><th>int64</th><th>uint8</th><th>bytes3</th><th>int32</th><th>float64</th><th>int32</th><th>int16</th><th>int32</th><th>int32</th><th>bytes4</th><th>float32</th><th>float32</th><th>float32</th><th>float32</th><th>float32</th><th>float32</th><th>int16</th><th>int64</th><th>bytes2</th><th>float32</th><th>float32</th><th>float32</th><th>float32</th><th>bytes8</th><th>float32</th><th>float32</th><th>float32</th><th>float32</th><th>float32</th><th>float32</th><th>float32</th><th>float32</th><th>float32</th><th>float32</th><th>float32</th><th>float32</th><th>float32</th><th>float32</th><th>float32</th><th>bytes1</th><th>int64</th><th>int64</th><th>int64</th><th>int64</th><th>int64</th><th>int64</th><th>float64</th><th>float64</th><th>float64</th><th>int32</th><th>int16</th><th>float32</th><th>float32</th><th>float32</th><th>float32</th><th>float32</th><th>float32</th><th>float32</th><th>float64</th><th>float64</th><th>float32</th><th>float32</th><th>int32</th><th>int32</th><th>int16</th><th>int32</th><th>int32</th><th>int16</th><th>int32</th><th>int32</th><th>int16</th><th>int32</th><th>int32</th><th>int16</th><th>float32</th><th>float32</th><th>int16</th></tr></thead>\n",
       "<tr><td>43978251332224297</td><td>0</td><td>522</td><td>522</td><td>478</td><td>0</td><td>218.813975</td><td>35.121953</td><td>0.0</td><td>0.0</td><td>2015.5</td><td>5400.0</td><td>4611686018427387904</td><td>1</td><td>TGT</td><td>950</td><td>0.9742937853685163</td><td>5</td><td>0</td><td>0</td><td>0</td><td></td><td>0.0</td><td>0.0</td><td>0.0</td><td>0.0</td><td>0.0</td><td>0.0</td><td>0</td><td>0</td><td></td><td>0.0</td><td>0.0</td><td>0.0</td><td>0.0</td><td></td><td>0.0</td><td>0.0</td><td>0.0</td><td>0.0</td><td>0.0</td><td>0.0</td><td>0.0</td><td>0.0</td><td>0.0</td><td>0.0</td><td>0.0</td><td>0.0</td><td>0.0</td><td>0.0</td><td>0.0</td><td></td><td>950</td><td>1</td><td>4611686018427387904</td><td>0</td><td>0</td><td>576460752303423488</td><td>218.813975</td><td>35.121953</td><td>0.7926560553510068</td><td>80980</td><td>2</td><td>2112.8784</td><td>-0.004</td><td>0.004</td><td>-0.004</td><td>0.004</td><td>37.89</td><td>-399.857</td><td>218.81395557359048</td><td>35.12196767708496</td><td>37.86777</td><td>-399.8724</td><td>20210708</td><td>20210708</td><td>1</td><td>97938</td><td>97939</td><td>2</td><td>80980</td><td>80980</td><td>1</td><td>478</td><td>478</td><td>1</td><td>59404.168</td><td>59404.184</td><td>2</td></tr>\n",
       "<tr><td>43978251336418634</td><td>0</td><td>503</td><td>503</td><td>497</td><td>0</td><td>219.080169</td><td>35.122149</td><td>0.0</td><td>0.0</td><td>2015.5</td><td>5400.0</td><td>4611686018427387904</td><td>1</td><td>TGT</td><td>950</td><td>0.34329178283455775</td><td>5</td><td>0</td><td>0</td><td>0</td><td></td><td>0.0</td><td>0.0</td><td>0.0</td><td>0.0</td><td>0.0</td><td>0.0</td><td>0</td><td>0</td><td></td><td>0.0</td><td>0.0</td><td>0.0</td><td>0.0</td><td></td><td>0.0</td><td>0.0</td><td>0.0</td><td>0.0</td><td>0.0</td><td>0.0</td><td>0.0</td><td>0.0</td><td>0.0</td><td>0.0</td><td>0.0</td><td>0.0</td><td>0.0</td><td>0.0</td><td>0.0</td><td></td><td>950</td><td>1</td><td>4611686018427387904</td><td>0</td><td>0</td><td>576460752303423488</td><td>219.080169</td><td>35.122149</td><td>0.7924976169140224</td><td>80980</td><td>2</td><td>2112.8784</td><td>-0.001</td><td>0.001</td><td>-0.001</td><td>0.001</td><td>-17.279</td><td>-399.621</td><td>219.08016420293768</td><td>35.122152639496015</td><td>-17.301447</td><td>-399.6295</td><td>20210708</td><td>20210708</td><td>1</td><td>97938</td><td>97939</td><td>2</td><td>80980</td><td>80980</td><td>1</td><td>497</td><td>497</td><td>1</td><td>59404.168</td><td>59404.184</td><td>2</td></tr>\n",
       "<tr><td>43978251340612978</td><td>0</td><td>483</td><td>483</td><td>345</td><td>0</td><td>219.292823</td><td>35.10903</td><td>0.0</td><td>0.0</td><td>2015.5</td><td>5400.0</td><td>4611686018427387904</td><td>1</td><td>TGT</td><td>950</td><td>0.7245738764353887</td><td>5</td><td>0</td><td>0</td><td>0</td><td></td><td>0.0</td><td>0.0</td><td>0.0</td><td>0.0</td><td>0.0</td><td>0.0</td><td>0</td><td>0</td><td></td><td>0.0</td><td>0.0</td><td>0.0</td><td>0.0</td><td></td><td>0.0</td><td>0.0</td><td>0.0</td><td>0.0</td><td>0.0</td><td>0.0</td><td>0.0</td><td>0.0</td><td>0.0</td><td>0.0</td><td>0.0</td><td>0.0</td><td>0.0</td><td>0.0</td><td>0.0</td><td></td><td>950</td><td>1</td><td>4611686018427387904</td><td>0</td><td>0</td><td>576460752303423488</td><td>219.292823</td><td>35.10903</td><td>0.7926175156620128</td><td>80980</td><td>2</td><td>2112.8784</td><td>-0.004</td><td>0.004</td><td>0.001</td><td>0.001</td><td>-61.447</td><td>-403.418</td><td>219.29280369081238</td><td>35.10902625495025</td><td>-61.476753</td><td>-403.43625</td><td>20210708</td><td>20210708</td><td>1</td><td>97938</td><td>97939</td><td>2</td><td>80980</td><td>80980</td><td>1</td><td>345</td><td>345</td><td>1</td><td>59404.168</td><td>59404.184</td><td>2</td></tr>\n",
       "<tr><td>43978256277309425</td><td>0</td><td>476</td><td>476</td><td>362</td><td>0</td><td>218.737992</td><td>35.238934</td><td>0.0</td><td>0.0</td><td>2015.5</td><td>5400.0</td><td>4611686018427387904</td><td>1</td><td>TGT</td><td>950</td><td>0.3470135953025786</td><td>5</td><td>0</td><td>0</td><td>0</td><td></td><td>0.0</td><td>0.0</td><td>0.0</td><td>0.0</td><td>0.0</td><td>0.0</td><td>0</td><td>0</td><td></td><td>0.0</td><td>0.0</td><td>0.0</td><td>0.0</td><td></td><td>0.0</td><td>0.0</td><td>0.0</td><td>0.0</td><td>0.0</td><td>0.0</td><td>0.0</td><td>0.0</td><td>0.0</td><td>0.0</td><td>0.0</td><td>0.0</td><td>0.0</td><td>0.0</td><td>0.0</td><td></td><td>950</td><td>1</td><td>4611686018427387904</td><td>0</td><td>0</td><td>576460752303423488</td><td>218.737992</td><td>35.238934</td><td>0.7923371452480882</td><td>80980</td><td>2</td><td>2112.8784</td><td>-0.001</td><td>0.001</td><td>0.001</td><td>0.001</td><td>53.302</td><td>-368.135</td><td>218.7379871982229</td><td>35.238930326368056</td><td>53.28337</td><td>-368.13284</td><td>20210708</td><td>20210708</td><td>1</td><td>97938</td><td>97939</td><td>2</td><td>80980</td><td>80980</td><td>1</td><td>362</td><td>362</td><td>1</td><td>59404.168</td><td>59404.184</td><td>2</td></tr>\n",
       "<tr><td>43978256277309427</td><td>0</td><td>510</td><td>510</td><td>397</td><td>0</td><td>218.745077</td><td>35.171691</td><td>0.0</td><td>0.0</td><td>2015.5</td><td>5400.0</td><td>4611686018427387904</td><td>1</td><td>TGT</td><td>950</td><td>0.7236805231892964</td><td>5</td><td>0</td><td>0</td><td>0</td><td></td><td>0.0</td><td>0.0</td><td>0.0</td><td>0.0</td><td>0.0</td><td>0.0</td><td>0</td><td>0</td><td></td><td>0.0</td><td>0.0</td><td>0.0</td><td>0.0</td><td></td><td>0.0</td><td>0.0</td><td>0.0</td><td>0.0</td><td>0.0</td><td>0.0</td><td>0.0</td><td>0.0</td><td>0.0</td><td>0.0</td><td>0.0</td><td>0.0</td><td>0.0</td><td>0.0</td><td>0.0</td><td></td><td>950</td><td>1</td><td>4611686018427387904</td><td>0</td><td>0</td><td>576460752303423488</td><td>218.745077</td><td>35.171691</td><td>0.7924538542850936</td><td>80980</td><td>2</td><td>2112.8784</td><td>-0.002</td><td>0.002</td><td>0.0</td><td>0.0</td><td>52.038</td><td>-386.374</td><td>218.74506733589592</td><td>35.171691069821925</td><td>52.01692</td><td>-386.37582</td><td>20210708</td><td>20210708</td><td>1</td><td>97938</td><td>97939</td><td>2</td><td>80980</td><td>80980</td><td>1</td><td>397</td><td>397</td><td>1</td><td>59404.168</td><td>59404.184</td><td>2</td></tr>\n",
       "<tr><td>43978256277309431</td><td>0</td><td>454</td><td>454</td><td>351</td><td>0</td><td>218.804636</td><td>35.284476</td><td>0.0</td><td>0.0</td><td>2015.5</td><td>5400.0</td><td>4611686018427387904</td><td>1</td><td>TGT</td><td>950</td><td>0.5421135700719298</td><td>5</td><td>0</td><td>0</td><td>0</td><td></td><td>0.0</td><td>0.0</td><td>0.0</td><td>0.0</td><td>0.0</td><td>0.0</td><td>0</td><td>0</td><td></td><td>0.0</td><td>0.0</td><td>0.0</td><td>0.0</td><td></td><td>0.0</td><td>0.0</td><td>0.0</td><td>0.0</td><td>0.0</td><td>0.0</td><td>0.0</td><td>0.0</td><td>0.0</td><td>0.0</td><td>0.0</td><td>0.0</td><td>0.0</td><td>0.0</td><td>0.0</td><td></td><td>950</td><td>1</td><td>4611686018427387904</td><td>0</td><td>0</td><td>576460752303423488</td><td>218.804636</td><td>35.284476</td><td>0.7927663428407707</td><td>80980</td><td>2</td><td>2112.8784</td><td>-0.01</td><td>0.01</td><td>0.0</td><td>0.0</td><td>39.49</td><td>-355.759</td><td>218.80458728344323</td><td>35.284476261036524</td><td>39.462524</td><td>-355.75806</td><td>20210708</td><td>20210708</td><td>1</td><td>97938</td><td>97939</td><td>2</td><td>80980</td><td>80980</td><td>1</td><td>351</td><td>351</td><td>1</td><td>59404.168</td><td>59404.184</td><td>2</td></tr>\n",
       "<tr><td>43978256281503761</td><td>0</td><td>385</td><td>385</td><td>150</td><td>0</td><td>218.933501</td><td>35.350179</td><td>0.0</td><td>0.0</td><td>2015.5</td><td>5400.0</td><td>4611686018427387904</td><td>1</td><td>TGT</td><td>950</td><td>0.18048291284039275</td><td>5</td><td>0</td><td>0</td><td>0</td><td></td><td>0.0</td><td>0.0</td><td>0.0</td><td>0.0</td><td>0.0</td><td>0.0</td><td>0</td><td>0</td><td></td><td>0.0</td><td>0.0</td><td>0.0</td><td>0.0</td><td></td><td>0.0</td><td>0.0</td><td>0.0</td><td>0.0</td><td>0.0</td><td>0.0</td><td>0.0</td><td>0.0</td><td>0.0</td><td>0.0</td><td>0.0</td><td>0.0</td><td>0.0</td><td>0.0</td><td>0.0</td><td></td><td>950</td><td>1</td><td>4611686018427387904</td><td>0</td><td>0</td><td>576460752303423488</td><td>218.933501</td><td>35.350179</td><td>0.7921997399093639</td><td>80980</td><td>2</td><td>2112.8784</td><td>-0.002</td><td>0.002</td><td>0.002</td><td>0.002</td><td>13.012</td><td>-338.075</td><td>218.93349121955058</td><td>35.35017148490169</td><td>12.9953165</td><td>-338.07355</td><td>20210708</td><td>20210708</td><td>1</td><td>97938</td><td>97939</td><td>2</td><td>80980</td><td>80980</td><td>1</td><td>150</td><td>150</td><td>1</td><td>59404.168</td><td>59404.184</td><td>2</td></tr>\n",
       "<tr><td>43978256281503765</td><td>0</td><td>489</td><td>489</td><td>491</td><td>0</td><td>218.990389</td><td>35.172385</td><td>0.0</td><td>0.0</td><td>2015.5</td><td>5400.0</td><td>4611686018427387904</td><td>1</td><td>TGT</td><td>950</td><td>0.03093541059846816</td><td>5</td><td>0</td><td>0</td><td>0</td><td></td><td>0.0</td><td>0.0</td><td>0.0</td><td>0.0</td><td>0.0</td><td>0.0</td><td>0</td><td>0</td><td></td><td>0.0</td><td>0.0</td><td>0.0</td><td>0.0</td><td></td><td>0.0</td><td>0.0</td><td>0.0</td><td>0.0</td><td>0.0</td><td>0.0</td><td>0.0</td><td>0.0</td><td>0.0</td><td>0.0</td><td>0.0</td><td>0.0</td><td>0.0</td><td>0.0</td><td>0.0</td><td></td><td>950</td><td>1</td><td>4611686018427387904</td><td>0</td><td>0</td><td>576460752303423488</td><td>218.990389</td><td>35.172385</td><td>0.792437407855344</td><td>80980</td><td>2</td><td>2112.8784</td><td>-0.001</td><td>0.001</td><td>0.002</td><td>0.002</td><td>1.338</td><td>-385.895</td><td>218.990384145686</td><td>35.17237766192699</td><td>1.3169256</td><td>-385.89084</td><td>20210708</td><td>20210708</td><td>1</td><td>97938</td><td>97939</td><td>2</td><td>80980</td><td>80980</td><td>1</td><td>491</td><td>491</td><td>1</td><td>59404.168</td><td>59404.184</td><td>2</td></tr>\n",
       "<tr><td>43978256281503767</td><td>0</td><td>384</td><td>384</td><td>167</td><td>0</td><td>219.014991</td><td>35.328847</td><td>0.0</td><td>0.0</td><td>2015.5</td><td>5400.0</td><td>4611686018427387904</td><td>1</td><td>TGT</td><td>950</td><td>0.7349580509568063</td><td>5</td><td>0</td><td>0</td><td>0</td><td></td><td>0.0</td><td>0.0</td><td>0.0</td><td>0.0</td><td>0.0</td><td>0.0</td><td>0</td><td>0</td><td></td><td>0.0</td><td>0.0</td><td>0.0</td><td>0.0</td><td></td><td>0.0</td><td>0.0</td><td>0.0</td><td>0.0</td><td>0.0</td><td>0.0</td><td>0.0</td><td>0.0</td><td>0.0</td><td>0.0</td><td>0.0</td><td>0.0</td><td>0.0</td><td>0.0</td><td>0.0</td><td></td><td>950</td><td>1</td><td>4611686018427387904</td><td>0</td><td>0</td><td>576460752303423488</td><td>219.014991</td><td>35.328847</td><td>0.7922626707021059</td><td>80980</td><td>2</td><td>2112.8784</td><td>-0.004</td><td>0.004</td><td>0.001</td><td>0.001</td><td>-3.645</td><td>-343.714</td><td>219.0149714260948</td><td>35.32884326059451</td><td>-3.6651888</td><td>-343.7121</td><td>20210708</td><td>20210708</td><td>1</td><td>97938</td><td>97939</td><td>2</td><td>80980</td><td>80980</td><td>1</td><td>167</td><td>167</td><td>1</td><td>59404.168</td><td>59404.184</td><td>2</td></tr>\n",
       "<tr><td>43978256281503770</td><td>0</td><td>470</td><td>470</td><td>483</td><td>0</td><td>219.018955</td><td>35.194052</td><td>0.0</td><td>0.0</td><td>2015.5</td><td>5400.0</td><td>4611686018427387904</td><td>1</td><td>TGT</td><td>950</td><td>0.8593557506540024</td><td>5</td><td>0</td><td>0</td><td>0</td><td></td><td>0.0</td><td>0.0</td><td>0.0</td><td>0.0</td><td>0.0</td><td>0.0</td><td>0</td><td>0</td><td></td><td>0.0</td><td>0.0</td><td>0.0</td><td>0.0</td><td></td><td>0.0</td><td>0.0</td><td>0.0</td><td>0.0</td><td>0.0</td><td>0.0</td><td>0.0</td><td>0.0</td><td>0.0</td><td>0.0</td><td>0.0</td><td>0.0</td><td>0.0</td><td>0.0</td><td>0.0</td><td></td><td>950</td><td>1</td><td>4611686018427387904</td><td>0</td><td>0</td><td>576460752303423488</td><td>219.018955</td><td>35.194052</td><td>0.7924040874528342</td><td>80980</td><td>2</td><td>2112.8784</td><td>-0.002</td><td>0.002</td><td>-0.001</td><td>0.001</td><td>-4.546</td><td>-379.987</td><td>219.01894531416468</td><td>35.19405569373653</td><td>-4.567324</td><td>-379.98434</td><td>20210708</td><td>20210708</td><td>1</td><td>97938</td><td>97939</td><td>2</td><td>80980</td><td>80980</td><td>1</td><td>483</td><td>483</td><td>1</td><td>59404.168</td><td>59404.184</td><td>2</td></tr>\n",
       "<tr><td>...</td><td>...</td><td>...</td><td>...</td><td>...</td><td>...</td><td>...</td><td>...</td><td>...</td><td>...</td><td>...</td><td>...</td><td>...</td><td>...</td><td>...</td><td>...</td><td>...</td><td>...</td><td>...</td><td>...</td><td>...</td><td>...</td><td>...</td><td>...</td><td>...</td><td>...</td><td>...</td><td>...</td><td>...</td><td>...</td><td>...</td><td>...</td><td>...</td><td>...</td><td>...</td><td>...</td><td>...</td><td>...</td><td>...</td><td>...</td><td>...</td><td>...</td><td>...</td><td>...</td><td>...</td><td>...</td><td>...</td><td>...</td><td>...</td><td>...</td><td>...</td><td>...</td><td>...</td><td>...</td><td>...</td><td>...</td><td>...</td><td>...</td><td>...</td><td>...</td><td>...</td><td>...</td><td>...</td><td>...</td><td>...</td><td>...</td><td>...</td><td>...</td><td>...</td><td>...</td><td>...</td><td>...</td><td>...</td><td>...</td><td>...</td><td>...</td><td>...</td><td>...</td><td>...</td><td>...</td><td>...</td><td>...</td><td>...</td><td>...</td><td>...</td><td>...</td><td>...</td><td>...</td><td>...</td></tr>\n",
       "<tr><td>43978275931820146</td><td>0</td><td>52</td><td>52</td><td>445</td><td>0</td><td>218.856203</td><td>36.187431</td><td>0.0</td><td>0.0</td><td>2015.5</td><td>5400.0</td><td>4611686018427387904</td><td>1</td><td>TGT</td><td>950</td><td>0.3592216926058892</td><td>5</td><td>0</td><td>0</td><td>0</td><td></td><td>0.0</td><td>0.0</td><td>0.0</td><td>0.0</td><td>0.0</td><td>0.0</td><td>0</td><td>0</td><td></td><td>0.0</td><td>0.0</td><td>0.0</td><td>0.0</td><td></td><td>0.0</td><td>0.0</td><td>0.0</td><td>0.0</td><td>0.0</td><td>0.0</td><td>0.0</td><td>0.0</td><td>0.0</td><td>0.0</td><td>0.0</td><td>0.0</td><td>0.0</td><td>0.0</td><td>0.0</td><td></td><td>950</td><td>1</td><td>4611686018427387904</td><td>0</td><td>0</td><td>576460752303423488</td><td>218.856203</td><td>36.187431</td><td>0.7908606174342213</td><td>80980</td><td>2</td><td>2112.8784</td><td>-0.004</td><td>0.004</td><td>0.001</td><td>0.001</td><td>28.106</td><td>-125.148</td><td>218.8561827296077</td><td>36.18742696251159</td><td>28.09849</td><td>-125.13708</td><td>20210708</td><td>20210708</td><td>1</td><td>97938</td><td>97939</td><td>2</td><td>80980</td><td>80980</td><td>1</td><td>445</td><td>445</td><td>1</td><td>59404.168</td><td>59404.184</td><td>2</td></tr>\n",
       "<tr><td>43978275931820150</td><td>0</td><td>60</td><td>60</td><td>407</td><td>0</td><td>218.882828</td><td>36.155326</td><td>0.0</td><td>0.0</td><td>2015.5</td><td>5400.0</td><td>4611686018427387904</td><td>1</td><td>TGT</td><td>950</td><td>0.9269884176161635</td><td>5</td><td>0</td><td>0</td><td>0</td><td></td><td>0.0</td><td>0.0</td><td>0.0</td><td>0.0</td><td>0.0</td><td>0.0</td><td>0</td><td>0</td><td></td><td>0.0</td><td>0.0</td><td>0.0</td><td>0.0</td><td></td><td>0.0</td><td>0.0</td><td>0.0</td><td>0.0</td><td>0.0</td><td>0.0</td><td>0.0</td><td>0.0</td><td>0.0</td><td>0.0</td><td>0.0</td><td>0.0</td><td>0.0</td><td>0.0</td><td>0.0</td><td></td><td>950</td><td>1</td><td>4611686018427387904</td><td>0</td><td>0</td><td>576460752303423488</td><td>218.882828</td><td>36.155326</td><td>0.7908960009421329</td><td>80980</td><td>2</td><td>2112.8784</td><td>-0.004</td><td>0.004</td><td>-0.001</td><td>0.001</td><td>22.867</td><td>-133.044</td><td>218.882807733611</td><td>36.155330089238284</td><td>22.860548</td><td>-133.03546</td><td>20210708</td><td>20210708</td><td>1</td><td>97938</td><td>97939</td><td>2</td><td>80980</td><td>80980</td><td>1</td><td>407</td><td>407</td><td>1</td><td>59404.168</td><td>59404.184</td><td>2</td></tr>\n",
       "<tr><td>43978275936014478</td><td>0</td><td>24</td><td>24</td><td>442</td><td>0</td><td>218.998482</td><td>36.312156</td><td>0.0</td><td>0.0</td><td>2015.5</td><td>5400.0</td><td>4611686018427387904</td><td>1</td><td>TGT</td><td>950</td><td>0.8565827970383368</td><td>5</td><td>0</td><td>0</td><td>0</td><td></td><td>0.0</td><td>0.0</td><td>0.0</td><td>0.0</td><td>0.0</td><td>0.0</td><td>0</td><td>0</td><td></td><td>0.0</td><td>0.0</td><td>0.0</td><td>0.0</td><td></td><td>0.0</td><td>0.0</td><td>0.0</td><td>0.0</td><td>0.0</td><td>0.0</td><td>0.0</td><td>0.0</td><td>0.0</td><td>0.0</td><td>0.0</td><td>0.0</td><td>0.0</td><td>0.0</td><td>0.0</td><td></td><td>950</td><td>1</td><td>4611686018427387904</td><td>0</td><td>0</td><td>576460752303423488</td><td>218.998482</td><td>36.312156</td><td>0.7907104896726633</td><td>80980</td><td>2</td><td>2112.8784</td><td>-0.004</td><td>0.004</td><td>0.001</td><td>0.001</td><td>0.129</td><td>-94.49</td><td>218.99846163824787</td><td>36.31215194001115</td><td>0.12265292</td><td>-94.47329</td><td>20210708</td><td>20210708</td><td>1</td><td>97938</td><td>97939</td><td>2</td><td>80980</td><td>80980</td><td>1</td><td>442</td><td>442</td><td>1</td><td>59404.168</td><td>59404.184</td><td>2</td></tr>\n",
       "<tr><td>43978275936014483</td><td>0</td><td>58</td><td>58</td><td>109</td><td>0</td><td>219.01048</td><td>36.131348</td><td>0.0</td><td>0.0</td><td>2015.5</td><td>5400.0</td><td>4611686018427387904</td><td>1</td><td>TGT</td><td>950</td><td>0.027643002058451938</td><td>5</td><td>0</td><td>0</td><td>0</td><td></td><td>0.0</td><td>0.0</td><td>0.0</td><td>0.0</td><td>0.0</td><td>0.0</td><td>0</td><td>0</td><td></td><td>0.0</td><td>0.0</td><td>0.0</td><td>0.0</td><td></td><td>0.0</td><td>0.0</td><td>0.0</td><td>0.0</td><td>0.0</td><td>0.0</td><td>0.0</td><td>0.0</td><td>0.0</td><td>0.0</td><td>0.0</td><td>0.0</td><td>0.0</td><td>0.0</td><td>0.0</td><td></td><td>950</td><td>1</td><td>4611686018427387904</td><td>0</td><td>0</td><td>576460752303423488</td><td>219.01048</td><td>36.131348</td><td>0.7911707524122817</td><td>80980</td><td>2</td><td>2112.8784</td><td>-0.007</td><td>0.007</td><td>0.0</td><td>0.0</td><td>-2.311</td><td>-138.913</td><td>219.01044455348958</td><td>36.13134804803338</td><td>-2.3199198</td><td>-138.90218</td><td>20210708</td><td>20210708</td><td>1</td><td>97938</td><td>97939</td><td>2</td><td>80980</td><td>80980</td><td>1</td><td>109</td><td>109</td><td>1</td><td>59404.168</td><td>59404.184</td><td>2</td></tr>\n",
       "<tr><td>43978275936014495</td><td>0</td><td>22</td><td>22</td><td>138</td><td>0</td><td>219.081969</td><td>36.313792</td><td>0.0</td><td>0.0</td><td>2015.5</td><td>5400.0</td><td>4611686018427387904</td><td>1</td><td>TGT</td><td>950</td><td>0.5648907491381594</td><td>5</td><td>0</td><td>0</td><td>0</td><td></td><td>0.0</td><td>0.0</td><td>0.0</td><td>0.0</td><td>0.0</td><td>0.0</td><td>0</td><td>0</td><td></td><td>0.0</td><td>0.0</td><td>0.0</td><td>0.0</td><td></td><td>0.0</td><td>0.0</td><td>0.0</td><td>0.0</td><td>0.0</td><td>0.0</td><td>0.0</td><td>0.0</td><td>0.0</td><td>0.0</td><td>0.0</td><td>0.0</td><td>0.0</td><td>0.0</td><td>0.0</td><td></td><td>950</td><td>1</td><td>4611686018427387904</td><td>0</td><td>0</td><td>576460752303423488</td><td>219.081969</td><td>36.313792</td><td>0.790946209963174</td><td>80980</td><td>2</td><td>2112.8784</td><td>-0.006</td><td>0.006</td><td>0.003</td><td>0.003</td><td>-16.257</td><td>-94.064</td><td>219.08193842667245</td><td>36.313779787330596</td><td>-16.263206</td><td>-94.04453</td><td>20210708</td><td>20210708</td><td>1</td><td>97938</td><td>97939</td><td>2</td><td>80980</td><td>80980</td><td>1</td><td>138</td><td>138</td><td>1</td><td>59404.168</td><td>59404.184</td><td>2</td></tr>\n",
       "<tr><td>43978275936014503</td><td>0</td><td>16</td><td>16</td><td>446</td><td>0</td><td>219.120532</td><td>36.337357</td><td>0.0</td><td>0.0</td><td>2015.5</td><td>5400.0</td><td>4611686018427387904</td><td>1</td><td>TGT</td><td>950</td><td>0.3100294767362354</td><td>5</td><td>0</td><td>0</td><td>0</td><td></td><td>0.0</td><td>0.0</td><td>0.0</td><td>0.0</td><td>0.0</td><td>0.0</td><td>0</td><td>0</td><td></td><td>0.0</td><td>0.0</td><td>0.0</td><td>0.0</td><td></td><td>0.0</td><td>0.0</td><td>0.0</td><td>0.0</td><td>0.0</td><td>0.0</td><td>0.0</td><td>0.0</td><td>0.0</td><td>0.0</td><td>0.0</td><td>0.0</td><td>0.0</td><td>0.0</td><td>0.0</td><td></td><td>950</td><td>1</td><td>4611686018427387904</td><td>0</td><td>0</td><td>576460752303423488</td><td>219.120532</td><td>36.337357</td><td>0.7908327738762991</td><td>80980</td><td>2</td><td>2112.8784</td><td>-0.005</td><td>0.005</td><td>0.003</td><td>0.003</td><td>-23.805</td><td>-88.285</td><td>219.1205064958345</td><td>36.33734477565713</td><td>-23.81012</td><td>-88.26535</td><td>20210708</td><td>20210708</td><td>1</td><td>97938</td><td>97939</td><td>2</td><td>80980</td><td>80980</td><td>1</td><td>446</td><td>446</td><td>1</td><td>59404.168</td><td>59404.184</td><td>2</td></tr>\n",
       "<tr><td>43978280805601913</td><td>0</td><td>4</td><td>4</td><td>403</td><td>0</td><td>218.995062</td><td>36.491039</td><td>0.0</td><td>0.0</td><td>2015.5</td><td>5400.0</td><td>4611686018427387904</td><td>1</td><td>TGT</td><td>950</td><td>0.8158913121318266</td><td>5</td><td>0</td><td>0</td><td>0</td><td></td><td>0.0</td><td>0.0</td><td>0.0</td><td>0.0</td><td>0.0</td><td>0.0</td><td>0</td><td>0</td><td></td><td>0.0</td><td>0.0</td><td>0.0</td><td>0.0</td><td></td><td>0.0</td><td>0.0</td><td>0.0</td><td>0.0</td><td>0.0</td><td>0.0</td><td>0.0</td><td>0.0</td><td>0.0</td><td>0.0</td><td>0.0</td><td>0.0</td><td>0.0</td><td>0.0</td><td>0.0</td><td></td><td>950</td><td>1</td><td>4611686018427387904</td><td>0</td><td>0</td><td>576460752303423488</td><td>218.995062</td><td>36.491039</td><td>0.7905449630445021</td><td>80980</td><td>2</td><td>2112.8784</td><td>-0.003</td><td>0.003</td><td>0.001</td><td>0.001</td><td>0.872</td><td>-50.831</td><td>218.9950466679343</td><td>36.4910349123685</td><td>0.86604685</td><td>-50.815315</td><td>20210708</td><td>20210708</td><td>1</td><td>97938</td><td>97939</td><td>2</td><td>80980</td><td>80980</td><td>1</td><td>403</td><td>403</td><td>1</td><td>59404.168</td><td>59404.184</td><td>2</td></tr>\n",
       "<tr><td>43978280805601916</td><td>0</td><td>0</td><td>0</td><td>400</td><td>0</td><td>218.998766</td><td>36.583115</td><td>0.0</td><td>0.0</td><td>2015.5</td><td>5400.0</td><td>4611686018427387904</td><td>1</td><td>TGT</td><td>950</td><td>0.5561733933521558</td><td>5</td><td>0</td><td>0</td><td>0</td><td></td><td>0.0</td><td>0.0</td><td>0.0</td><td>0.0</td><td>0.0</td><td>0.0</td><td>0</td><td>0</td><td></td><td>0.0</td><td>0.0</td><td>0.0</td><td>0.0</td><td></td><td>0.0</td><td>0.0</td><td>0.0</td><td>0.0</td><td>0.0</td><td>0.0</td><td>0.0</td><td>0.0</td><td>0.0</td><td>0.0</td><td>0.0</td><td>0.0</td><td>0.0</td><td>0.0</td><td>0.0</td><td></td><td>950</td><td>1</td><td>4611686018427387904</td><td>0</td><td>0</td><td>576460752303423488</td><td>218.998766</td><td>36.583115</td><td>0.7910658925929299</td><td>80980</td><td>2</td><td>2112.8784</td><td>-0.009</td><td>0.009</td><td>-0.001</td><td>0.001</td><td>0.194</td><td>-28.422</td><td>218.99871996327576</td><td>36.58311917608465</td><td>0.18071912</td><td>-28.412561</td><td>20210708</td><td>20210708</td><td>1</td><td>97938</td><td>97939</td><td>2</td><td>80980</td><td>80980</td><td>1</td><td>400</td><td>400</td><td>1</td><td>59404.168</td><td>59404.184</td><td>2</td></tr>\n",
       "<tr><td>43978280805601939</td><td>0</td><td>8</td><td>8</td><td>437</td><td>0</td><td>219.077068</td><td>36.408922</td><td>0.0</td><td>0.0</td><td>2015.5</td><td>5400.0</td><td>4611686018427387904</td><td>1</td><td>TGT</td><td>950</td><td>0.6255537599184068</td><td>5</td><td>0</td><td>0</td><td>0</td><td></td><td>0.0</td><td>0.0</td><td>0.0</td><td>0.0</td><td>0.0</td><td>0.0</td><td>0</td><td>0</td><td></td><td>0.0</td><td>0.0</td><td>0.0</td><td>0.0</td><td></td><td>0.0</td><td>0.0</td><td>0.0</td><td>0.0</td><td>0.0</td><td>0.0</td><td>0.0</td><td>0.0</td><td>0.0</td><td>0.0</td><td>0.0</td><td>0.0</td><td>0.0</td><td>0.0</td><td>0.0</td><td></td><td>950</td><td>1</td><td>4611686018427387904</td><td>0</td><td>0</td><td>576460752303423488</td><td>219.077068</td><td>36.408922</td><td>0.7906370430328364</td><td>80980</td><td>2</td><td>2112.8784</td><td>-0.004</td><td>0.004</td><td>0.001</td><td>0.001</td><td>-15.222</td><td>-70.817</td><td>219.07704759040547</td><td>36.40891793799409</td><td>-15.226176</td><td>-70.799835</td><td>20210708</td><td>20210708</td><td>1</td><td>97938</td><td>97939</td><td>2</td><td>80980</td><td>80980</td><td>1</td><td>437</td><td>437</td><td>1</td><td>59404.168</td><td>59404.184</td><td>2</td></tr>\n",
       "<tr><td>616093753400099079</td><td>0</td><td>90</td><td>90</td><td>270</td><td>0</td><td>219.28873322548307</td><td>35.925147746287706</td><td>0.0</td><td>0.0</td><td>0.0</td><td>5400.0</td><td>68719476736</td><td>8</td><td>BAD</td><td>0</td><td>0.8270790898561665</td><td>63</td><td>9011</td><td>525471</td><td>263</td><td></td><td>0.0</td><td>0.0</td><td>0.0</td><td>0.0</td><td>0.0</td><td>0.0</td><td>0</td><td>0</td><td></td><td>0.0</td><td>0.0</td><td>0.0</td><td>0.0</td><td>2192p360</td><td>0.0</td><td>0.0</td><td>0.0</td><td>0.0</td><td>0.0</td><td>7.112984</td><td>8.0531025</td><td>3.1253762</td><td>0.0</td><td>0.0</td><td>0.0</td><td>0.0</td><td>0.0</td><td>0.0</td><td>0.0</td><td></td><td>0</td><td>0</td><td>68719476736</td><td>0</td><td>0</td><td>0</td><td>219.28873322548307</td><td>35.925147746287706</td><td>0.7914864838297563</td><td>80980</td><td>2</td><td>2112.8784</td><td>-0.006</td><td>0.006</td><td>0.002</td><td>0.002</td><td>-57.755</td><td>-190.129</td><td>219.28870301912625</td><td>35.92513973400289</td><td>-57.766388</td><td>-190.12378</td><td>20210708</td><td>20210708</td><td>1</td><td>97938</td><td>97939</td><td>2</td><td>80980</td><td>80980</td><td>1</td><td>270</td><td>270</td><td>1</td><td>59404.168</td><td>59404.184</td><td>2</td></tr>\n",
       "</table>"
      ],
      "text/plain": [
       "<Table length=66>\n",
       "     TARGETID      PETAL_LOC DEVICE_LOC LOCATION ... FIRST_MJD  LAST_MJD NUM_MJD\n",
       "      int64          int16     int32     int64   ...  float32   float32   int16 \n",
       "------------------ --------- ---------- -------- ... --------- --------- -------\n",
       " 43978251332224297         0        522      522 ... 59404.168 59404.184       2\n",
       " 43978251336418634         0        503      503 ... 59404.168 59404.184       2\n",
       " 43978251340612978         0        483      483 ... 59404.168 59404.184       2\n",
       " 43978256277309425         0        476      476 ... 59404.168 59404.184       2\n",
       " 43978256277309427         0        510      510 ... 59404.168 59404.184       2\n",
       " 43978256277309431         0        454      454 ... 59404.168 59404.184       2\n",
       " 43978256281503761         0        385      385 ... 59404.168 59404.184       2\n",
       " 43978256281503765         0        489      489 ... 59404.168 59404.184       2\n",
       " 43978256281503767         0        384      384 ... 59404.168 59404.184       2\n",
       " 43978256281503770         0        470      470 ... 59404.168 59404.184       2\n",
       "               ...       ...        ...      ... ...       ...       ...     ...\n",
       " 43978275931820146         0         52       52 ... 59404.168 59404.184       2\n",
       " 43978275931820150         0         60       60 ... 59404.168 59404.184       2\n",
       " 43978275936014478         0         24       24 ... 59404.168 59404.184       2\n",
       " 43978275936014483         0         58       58 ... 59404.168 59404.184       2\n",
       " 43978275936014495         0         22       22 ... 59404.168 59404.184       2\n",
       " 43978275936014503         0         16       16 ... 59404.168 59404.184       2\n",
       " 43978280805601913         0          4        4 ... 59404.168 59404.184       2\n",
       " 43978280805601916         0          0        0 ... 59404.168 59404.184       2\n",
       " 43978280805601939         0          8        8 ... 59404.168 59404.184       2\n",
       "616093753400099079         0         90       90 ... 59404.168 59404.184       2"
      ]
     },
     "execution_count": 138,
     "metadata": {},
     "output_type": "execute_result"
    }
   ],
   "source": [
    "spectra.fibermap"
   ]
  },
  {
   "cell_type": "code",
   "execution_count": 139,
   "id": "b48ba618-2e1d-48e5-b479-1c38b3b03bf1",
   "metadata": {},
   "outputs": [
    {
     "data": {
      "text/html": [
       "<i>Table length=66</i>\n",
       "<table id=\"table46913398290128\" class=\"table-striped table-bordered table-condensed\">\n",
       "<thead><tr><th>TARGETID</th><th>CHI2</th><th>COEFF [10]</th><th>Z</th><th>ZERR</th><th>ZWARN</th><th>NPIXELS</th><th>SPECTYPE</th><th>SUBTYPE</th><th>NCOEFF</th><th>DELTACHI2</th><th>NUMEXP</th><th>NUMTILE</th></tr></thead>\n",
       "<thead><tr><th>int64</th><th>float64</th><th>float64</th><th>float64</th><th>float64</th><th>int64</th><th>int64</th><th>bytes6</th><th>bytes20</th><th>int64</th><th>float64</th><th>int32</th><th>int32</th></tr></thead>\n",
       "<tr><td>43978251332224297</td><td>10275.067973563127</td><td>186.54133100184234 .. -2.139486242776249</td><td>0.028169338945036603</td><td>7.33099736174635e-05</td><td>0</td><td>7922</td><td>GALAXY</td><td></td><td>10</td><td>57.97290327245719</td><td>0</td><td>1</td></tr>\n",
       "<tr><td>43978251336418634</td><td>10230.57675677538</td><td>941.0080736739006 .. 15.082266471228863</td><td>0.04461884220088436</td><td>5.852139174486123e-06</td><td>0</td><td>7915</td><td>GALAXY</td><td></td><td>10</td><td>947.8218576312065</td><td>0</td><td>1</td></tr>\n",
       "<tr><td>43978251340612978</td><td>10124.402057901025</td><td>460.9684372706358 .. -21.52998659342644</td><td>0.05430422899565762</td><td>1.1063282222704019e-05</td><td>0</td><td>7909</td><td>GALAXY</td><td></td><td>10</td><td>318.8440255969763</td><td>0</td><td>1</td></tr>\n",
       "<tr><td>43978256277309425</td><td>11268.109929680824</td><td>3107.8662334522915 .. 49.173596003834135</td><td>0.05426746476189148</td><td>3.5887243507574826e-06</td><td>0</td><td>7918</td><td>GALAXY</td><td></td><td>10</td><td>6545.918428844208</td><td>0</td><td>1</td></tr>\n",
       "<tr><td>43978256277309427</td><td>10512.6166087389</td><td>2740.5318053403666 .. 117.80372789329931</td><td>0.07770015858870159</td><td>3.4346465435754205e-06</td><td>0</td><td>7924</td><td>GALAXY</td><td></td><td>10</td><td>5390.012244582176</td><td>0</td><td>1</td></tr>\n",
       "<tr><td>43978256277309431</td><td>12691.667140066624</td><td>5479.312467285019 .. 67.90531589745542</td><td>0.08530550495309075</td><td>7.3501910286467025e-06</td><td>0</td><td>7922</td><td>GALAXY</td><td></td><td>10</td><td>8664.306151263416</td><td>0</td><td>1</td></tr>\n",
       "<tr><td>43978256281503761</td><td>12625.321367502213</td><td>6281.767418081286 .. 7.142270691406357</td><td>0.04449776813100064</td><td>1.4916088727956e-06</td><td>0</td><td>7924</td><td>GALAXY</td><td></td><td>10</td><td>27798.917276144028</td><td>0</td><td>1</td></tr>\n",
       "<tr><td>43978256281503765</td><td>13706.790070198476</td><td>3748.771933120947 .. 304.3801057129196</td><td>0.054137654364171936</td><td>7.009412048980359e-06</td><td>0</td><td>7924</td><td>GALAXY</td><td></td><td>10</td><td>4395.05174074322</td><td>0</td><td>1</td></tr>\n",
       "<tr><td>43978256281503767</td><td>10185.300615906715</td><td>711.8935207803346 .. -57.17079478133657</td><td>0.08565691100877341</td><td>6.009421352586055e-06</td><td>0</td><td>7925</td><td>GALAXY</td><td></td><td>10</td><td>882.6220356225967</td><td>0</td><td>1</td></tr>\n",
       "<tr><td>43978256281503770</td><td>10652.587787240744</td><td>1359.7381364903426 .. 57.76652698314896</td><td>0.09867172686177147</td><td>6.127907845303448e-06</td><td>0</td><td>7915</td><td>GALAXY</td><td></td><td>10</td><td>2112.1447791159153</td><td>0</td><td>1</td></tr>\n",
       "<tr><td>...</td><td>...</td><td>...</td><td>...</td><td>...</td><td>...</td><td>...</td><td>...</td><td>...</td><td>...</td><td>...</td><td>...</td><td>...</td></tr>\n",
       "<tr><td>43978275931820146</td><td>19498.4307012558</td><td>39.211224438691985 .. -49.12942365740051</td><td>0.07888343279391119</td><td>4.2658593666114946e-06</td><td>0</td><td>7906</td><td>GALAXY</td><td></td><td>10</td><td>3471.910575866699</td><td>0</td><td>1</td></tr>\n",
       "<tr><td>43978275931820150</td><td>11197.466069743037</td><td>2062.2110302569236 .. 43.68959392033197</td><td>0.07915333400088055</td><td>8.421535056033882e-06</td><td>0</td><td>7926</td><td>GALAXY</td><td></td><td>10</td><td>3606.061431813054</td><td>0</td><td>1</td></tr>\n",
       "<tr><td>43978275936014478</td><td>9973.439094305038</td><td>780.1889894265338 .. 17.131443989991645</td><td>0.043336233573560215</td><td>4.7670898229526836e-06</td><td>0</td><td>7923</td><td>GALAXY</td><td></td><td>10</td><td>1156.9510688781738</td><td>0</td><td>1</td></tr>\n",
       "<tr><td>43978275936014483</td><td>11063.613112986088</td><td>2553.524673224476 .. -8.28264127530749</td><td>0.049397487854075064</td><td>2.7999180743390734e-06</td><td>0</td><td>7924</td><td>GALAXY</td><td></td><td>10</td><td>6553.733399808407</td><td>0</td><td>1</td></tr>\n",
       "<tr><td>43978275936014495</td><td>9987.909184008837</td><td>757.656501596446 .. -23.84075754007017</td><td>0.08747184167733985</td><td>7.332141774552578e-06</td><td>0</td><td>7925</td><td>GALAXY</td><td></td><td>10</td><td>706.6965052783489</td><td>0</td><td>1</td></tr>\n",
       "<tr><td>43978275936014503</td><td>14311.19780421257</td><td>3338.57348093973 .. 33.04056960592553</td><td>0.11837411673467034</td><td>1.3606492443970667e-05</td><td>0</td><td>7927</td><td>GALAXY</td><td></td><td>10</td><td>9239.384657517076</td><td>0</td><td>1</td></tr>\n",
       "<tr><td>43978280805601913</td><td>10308.996799426153</td><td>1153.7598373445105 .. 44.68522005475895</td><td>0.0874820560532535</td><td>4.274000494262823e-05</td><td>0</td><td>7919</td><td>GALAXY</td><td></td><td>10</td><td>358.826760857366</td><td>0</td><td>1</td></tr>\n",
       "<tr><td>43978280805601916</td><td>11582.496886983572</td><td>1962.8754637201407 .. -11.546104906059309</td><td>0.014189442375318304</td><td>2.045340920594213e-05</td><td>0</td><td>7913</td><td>GALAXY</td><td></td><td>10</td><td>1323.2905197182772</td><td>0</td><td>1</td></tr>\n",
       "<tr><td>43978280805601939</td><td>13707.416013889015</td><td>7193.994197914625 .. 292.5213048015553</td><td>0.0875498020533754</td><td>1.5596945131172047e-05</td><td>0</td><td>7923</td><td>GALAXY</td><td></td><td>10</td><td>12527.36556014046</td><td>0</td><td>1</td></tr>\n",
       "<tr><td>616093753400099079</td><td>11306.41999607661</td><td>4171.76636469023 .. 146.2892579010965</td><td>-0.00020988962335416434</td><td>3.3996577413588756e-05</td><td>0</td><td>7908</td><td>GALAXY</td><td></td><td>10</td><td>3118.421121339201</td><td>0</td><td>1</td></tr>\n",
       "</table>"
      ],
      "text/plain": [
       "<Table length=66>\n",
       "     TARGETID             CHI2        ... NUMEXP NUMTILE\n",
       "      int64             float64       ... int32   int32 \n",
       "------------------ ------------------ ... ------ -------\n",
       " 43978251332224297 10275.067973563127 ...      0       1\n",
       " 43978251336418634  10230.57675677538 ...      0       1\n",
       " 43978251340612978 10124.402057901025 ...      0       1\n",
       " 43978256277309425 11268.109929680824 ...      0       1\n",
       " 43978256277309427   10512.6166087389 ...      0       1\n",
       " 43978256277309431 12691.667140066624 ...      0       1\n",
       " 43978256281503761 12625.321367502213 ...      0       1\n",
       " 43978256281503765 13706.790070198476 ...      0       1\n",
       " 43978256281503767 10185.300615906715 ...      0       1\n",
       " 43978256281503770 10652.587787240744 ...      0       1\n",
       "               ...                ... ...    ...     ...\n",
       " 43978275931820146   19498.4307012558 ...      0       1\n",
       " 43978275931820150 11197.466069743037 ...      0       1\n",
       " 43978275936014478  9973.439094305038 ...      0       1\n",
       " 43978275936014483 11063.613112986088 ...      0       1\n",
       " 43978275936014495  9987.909184008837 ...      0       1\n",
       " 43978275936014503  14311.19780421257 ...      0       1\n",
       " 43978280805601913 10308.996799426153 ...      0       1\n",
       " 43978280805601916 11582.496886983572 ...      0       1\n",
       " 43978280805601939 13707.416013889015 ...      0       1\n",
       "616093753400099079  11306.41999607661 ...      0       1"
      ]
     },
     "execution_count": 139,
     "metadata": {},
     "output_type": "execute_result"
    }
   ],
   "source": [
    "spectra.extra_catalog"
   ]
  },
  {
   "cell_type": "code",
   "execution_count": 140,
   "id": "9072b7d0-617f-477e-8113-455b9ea582fd",
   "metadata": {},
   "outputs": [
    {
     "data": {
      "text/plain": [
       "66"
      ]
     },
     "execution_count": 140,
     "metadata": {},
     "output_type": "execute_result"
    }
   ],
   "source": [
    "spectra.num_spectra()"
   ]
  },
  {
   "cell_type": "code",
   "execution_count": 154,
   "id": "ab27eb57-720a-46ce-80f2-6fd952e31fbf",
   "metadata": {},
   "outputs": [
    {
     "data": {
      "text/plain": [
       "Text(0.5, 1.0, 'Picked coadded spectrum 48')"
      ]
     },
     "execution_count": 154,
     "metadata": {},
     "output_type": "execute_result"
    },
    {
     "data": {
      "image/png": "[encoded data removed]",
      "text/plain": [
       "<Figure size 432x288 with 1 Axes>"
      ]
     },
     "metadata": {
      "needs_background": "light"
     },
     "output_type": "display_data"
    }
   ],
   "source": [
    "k = np.random.choice(spectra.num_spectra())\n",
    "plt.plot(spectra.wave['brz'], spectra.flux['brz'][k])\n",
    "peaks, info = scipy.signal.find_peaks(spectra.flux['brz'][k], prominence=0, width=5)\n",
    "plt.scatter(spectra.wave['brz'][peaks], spectra.flux['brz'][k][peaks], color='r')\n",
    "plt.title('Picked coadded spectrum {}'.format(k))\n",
    "# info"
   ]
  },
  {
   "cell_type": "code",
   "execution_count": 155,
   "id": "ac8f464f-3fc3-4f9b-ad4a-74419ffde90f",
   "metadata": {},
   "outputs": [
    {
     "data": {
      "text/plain": [
       "array([  87,  145,  221,  228,  249,  333,  414,  540,  903,  930,  989,\n",
       "       1027, 1047, 1054, 1238, 1280, 1378, 1564, 1578, 1708, 2101, 2146,\n",
       "       2326, 2373, 2445, 2686, 2750, 2798, 3070, 3203, 3223, 3289, 3359,\n",
       "       3382, 3427, 3494, 3567, 3648, 3658, 3678, 3686, 3705, 3915, 3979,\n",
       "       4163, 4219, 4239, 4255, 4428, 4439, 4488, 4509, 4605, 4627, 4643,\n",
       "       4763, 4875, 5095, 5190, 5258, 5295, 5419, 5440, 5634, 5694, 5781,\n",
       "       5950, 5981, 6029, 6105, 6243, 6266, 6306, 6454, 6464, 6500, 6555,\n",
       "       6569, 6654, 6698, 6707, 6739, 6878, 6965, 7080, 7151, 7186, 7201,\n",
       "       7333, 7354, 7421, 7435, 7541, 7664, 7676, 7707])"
      ]
     },
     "execution_count": 155,
     "metadata": {},
     "output_type": "execute_result"
    },
    {
     "data": {
      "image/png": "[encoded data removed]",
      "text/plain": [
       "<Figure size 432x288 with 1 Axes>"
      ]
     },
     "metadata": {
      "needs_background": "light"
     },
     "output_type": "display_data"
    }
   ],
   "source": [
    "plt.hist(info['widths'], bins=50)\n",
    "peaks"
   ]
  },
  {
   "cell_type": "markdown",
   "id": "c16d50ee-52a3-4987-a3f1-1fb7325ab444",
   "metadata": {},
   "source": [
    "## TDE Filtering Code"
   ]
  },
  {
   "cell_type": "code",
   "execution_count": 177,
   "id": "c85def2c-0123-431f-80d2-85d3914d5453",
   "metadata": {},
   "outputs": [],
   "source": [
    "# Search code implemented as a class.\n",
    "def gauss2(x, b, a, x0, sigma):\n",
    "    \"\"\"Implementation of 1D Gaussian with arbitrary normalization.\n",
    "    \n",
    "    Parameters\n",
    "    ----------\n",
    "    x : ndarray\n",
    "        List of independent values (ordinates) where we perform the fit.\n",
    "    b : float\n",
    "        Free parameter: constant offset.\n",
    "    a : float\n",
    "        Free parameter: normalization.\n",
    "    x0 : float\n",
    "        Location parameter of the Gaussian.\n",
    "    sigma : float\n",
    "        Scale parameter (width) of the Gaussian.\n",
    "    \n",
    "    Returns\n",
    "    -------\n",
    "    y : ndarray\n",
    "        Gaussian function N(x|a,b,x0,sigma) evaluated for all x.\n",
    "    \"\"\"\n",
    "    return b + (a * np.exp(-(x - x0) ** 2 / (2 * sigma ** 2)))\n",
    "\n",
    "class TDEFilter:\n",
    "    \n",
    "    def __init__(self):\n",
    "        self.heii_line_range = [4670., 4700.]\n",
    "        self.oiii_line_range = [4992., 5022.]\n",
    "        self.halpha_line_range = [6540., 6570.]\n",
    "        \n",
    "    def get_peak_in_range(self, wave, flux, wrange, prom=0, width=1):\n",
    "        # Pick out the desired wavelength subrange of the spectrum.\n",
    "        wmin, wmax = wrange\n",
    "#        i, j = 0, len(wave)   # TEMPORARY: DELETE AFTER TESTING!\n",
    "        i = np.abs(wmin - wave).argmin()\n",
    "        j = np.abs(wmax - wave).argmin()\n",
    "        \n",
    "        # Apply the scipy peak finder to the subarray.\n",
    "        peaks, info = scipy.signal.find_peaks(flux[i:j], prominence=prom, width=width)\n",
    "\n",
    "        if len(peaks) > 0:\n",
    "            # Pick out the maximum flux in this range (eliminates noise/local minima).\n",
    "            k = flux[peaks].argmax()\n",
    "            peakidx = peaks[k]\n",
    "            peakflux = flux[peakidx]\n",
    "            peakwave = wave[peakidx]\n",
    "            peakwidth = info['widths'][k]\n",
    "            return peakidx, peakwave, peakwidth, peakflux\n",
    "\n",
    "        return None\n",
    "    \n",
    "    def snip_data_near_peak(self, wave, flux, good_peak, good_width):\n",
    "        # Extract a range of values in pixel space (2.2*peak finder width).\n",
    "        peak_edge = int(np.floor(2.2*(good_width)))\n",
    "        i = np.maximum(0, good_peak - peak_edge)\n",
    "        j = np.minimum(len(wave), good_peak + peak_edge)\n",
    "        \n",
    "        return wave[i:j], flux[i:j]\n",
    "    \n",
    "    def get_line_features(self, wave, flux, wrange):\n",
    "        # Call the peak finder for the spectrum.\n",
    "        peakinfo = self.get_peak_in_range(wave, flux, wrange)\n",
    "        if peakinfo is not None:\n",
    "            # Extract a range around the peak.\n",
    "            peakidx, peakwave, peakwidth, peakflux = peakinfo\n",
    "            subwave, subflux = self.snip_data_near_peak(wave, flux, peakidx, peakwidth)\n",
    "        \n",
    "            # Fit the feature to a 1D Gaussian.\n",
    "            pars, cov = curve_fit(gauss2, subwave, subflux, p0=[1., peakflux, peakwave, peakwidth])\n",
    "            return pars\n",
    "        return None\n",
    "            \n",
    "    def is_tde(self, wave, flux):\n",
    "        \n",
    "        # Call the peak finder for the spectral features we want.\n",
    "        try:\n",
    "            heii_pars = self.get_line_features(wave, flux, self.heii_line_range)\n",
    "            oiii_pars = self.get_line_features(wave, flux, self.oiii_line_range)\n",
    "            halpha_pars = self.get_line_features(wave, flux, self.halpha_line_range)\n",
    "        except:\n",
    "            return False\n",
    "        \n",
    "#         print(heii_pars)\n",
    "#         print(oiii_pars)\n",
    "#         print(halpha_pars)\n",
    "            \n",
    "        # Try to identify the TDE-like features.\n",
    "        # Must have Ha and HeII lines.\n",
    "        if heii_pars is None or halpha_pars is None:\n",
    "            return False\n",
    "        he_ha_ratio = heii_pars[1] / halpha_pars[1]\n",
    "        \n",
    "        # OIII line not required; set to zero by default.\n",
    "        o_ha_ratio = 0.\n",
    "        if oiii_pars is not None:\n",
    "            o_ha_ratio = oiii_pars[1] / halpha_pars[1]\n",
    "\n",
    "        # Condition: high HeII/Ha and little to no OIII/Ha.\n",
    "        return he_ha_ratio > 0.9 and o_ha_ratio < 0.1"
   ]
  },
  {
   "cell_type": "code",
   "execution_count": 178,
   "id": "a5435d6d-7e86-4943-b5bc-c3c0950a8b2b",
   "metadata": {},
   "outputs": [
    {
     "data": {
      "text/plain": [
       "True"
      ]
     },
     "execution_count": 178,
     "metadata": {},
     "output_type": "execute_result"
    }
   ],
   "source": [
    "tdefilt = TDEFilter()\n",
    "tdefilt.is_tde(spectra.wave['brz'], spectra.flux['brz'][k])"
   ]
  },
  {
   "cell_type": "code",
   "execution_count": 180,
   "id": "bc27a402-dfe9-4735-a78b-3bed1b1d4442",
   "metadata": {},
   "outputs": [
    {
     "name": "stderr",
     "output_type": "stream",
     "text": [
      "/global/common/software/desi/cori/desiconda/20200801-1.4.0-spec/conda/lib/python3.8/site-packages/scipy/optimize/minpack.py:828: OptimizeWarning: Covariance of the parameters could not be estimated\n",
      "  warnings.warn('Covariance of the parameters could not be estimated',\n",
      "/global/common/software/desi/cori/desiconda/20200801-1.4.0-spec/conda/lib/python3.8/site-packages/scipy/optimize/minpack.py:828: OptimizeWarning: Covariance of the parameters could not be estimated\n",
      "  warnings.warn('Covariance of the parameters could not be estimated',\n",
      "/global/common/software/desi/cori/desiconda/20200801-1.4.0-spec/conda/lib/python3.8/site-packages/scipy/optimize/minpack.py:828: OptimizeWarning: Covariance of the parameters could not be estimated\n",
      "  warnings.warn('Covariance of the parameters could not be estimated',\n"
     ]
    },
    {
     "data": {
      "image/png": "[encoded data removed]",
      "text/plain": [
       "<Figure size 720x288 with 1 Axes>"
      ]
     },
     "metadata": {
      "needs_background": "light"
     },
     "output_type": "display_data"
    },
    {
     "data": {
      "image/png": "[encoded data removed]",
      "text/plain": [
       "<Figure size 720x288 with 1 Axes>"
      ]
     },
     "metadata": {
      "needs_background": "light"
     },
     "output_type": "display_data"
    },
    {
     "data": {
      "image/png": "[encoded data removed]",
      "text/plain": [
       "<Figure size 720x288 with 1 Axes>"
      ]
     },
     "metadata": {
      "needs_background": "light"
     },
     "output_type": "display_data"
    }
   ],
   "source": [
    "for i in range(spectra.num_spectra()):\n",
    "    is_tde = tdefilt.is_tde(spectra.wave['brz'], spectra.flux['brz'][i])\n",
    "#     print('{} {}'.format(spectra.fibermap['TARGETID'][i], is_tde))\n",
    "    if is_tde:\n",
    "        targid = spectra.fibermap['TARGETID'][i]\n",
    "        fig, ax = plt.subplots(1,1, figsize=(10,4), tight_layout=True)\n",
    "        ax.plot(spectra.wave['brz'], gaussian_filter1d(spectra.flux['brz'][i], 5))\n",
    "        ax.set(title='{:d} (spec {:d})'.format(targid, i))"
   ]
  },
  {
   "cell_type": "code",
   "execution_count": 175,
   "id": "6d8f8af1-b83e-429c-90de-0032dc4f7b0a",
   "metadata": {},
   "outputs": [
    {
     "data": {
      "text/plain": [
       "[<matplotlib.lines.Line2D at 0x2aaae147e3a0>]"
      ]
     },
     "execution_count": 175,
     "metadata": {},
     "output_type": "execute_result"
    },
    {
     "data": {
      "image/png": "[encoded data removed]",
      "text/plain": [
       "<Figure size 432x288 with 1 Axes>"
      ]
     },
     "metadata": {
      "needs_background": "light"
     },
     "output_type": "display_data"
    }
   ],
   "source": [
    "k = np.argwhere(spectra.fibermap['TARGETID'] == 43978251340612978)[0,0] \n",
    "plt.plot(spectra.wave['brz'], gaussian_filter1d(spectra.flux['brz'][k], 5))"
   ]
  },
  {
   "cell_type": "code",
   "execution_count": null,
   "id": "934b9d64-c10f-47c9-adff-df68851c83ae",
   "metadata": {},
   "outputs": [],
   "source": [
    "# Defining the most important parts of the peak finder algorithm.\n",
    "\n",
    "def gauss2(x, b, a, x0, sigma):\n",
    "    \"\"\"Implementation of 1D Gaussian with arbitrary normalization.\n",
    "    \n",
    "    Parameters\n",
    "    ----------\n",
    "    x : ndarray\n",
    "        List of independent values (ordinates) where we perform the fit.\n",
    "    b : float\n",
    "        Free parameter: constant offset.\n",
    "    a : float\n",
    "        Free parameter: normalization.\n",
    "    x0 : float\n",
    "        Location parameter of the Gaussian.\n",
    "    sigma : float\n",
    "        Scale parameter (width) of the Gaussian.\n",
    "    \n",
    "    Returns\n",
    "    -------\n",
    "    y : ndarray\n",
    "        Gaussian function N(x|a,b,x0,sigma) evaluated for all x.\n",
    "    \"\"\"\n",
    "    return b + (a * np.exp(-(x - x0) ** 2 / (2 * sigma ** 2)))\n",
    "    \n",
    "def sub_list_into_max(thelist, flux):\n",
    "    \"\"\"Basically, return arg max(flux[j]), where j indexes local maxima.\n",
    "    \n",
    "    Parameters\n",
    "    ----------\n",
    "    thelist : ndarray of int\n",
    "        Index of values used to search.\n",
    "    flux : ndarray of float\n",
    "        List of local maxima in the flux.\n",
    "    \n",
    "    Returns\n",
    "    -------\n",
    "    argmax : int\n",
    "        Index of the global maximum out of the list of local maxima.\n",
    "    \"\"\"\n",
    "    maximum = 0\n",
    "    max_index = 0\n",
    "    for k in range(len(thelist)):\n",
    "        if flux[thelist[k]] > maximum:\n",
    "            maximum = flux[thelist[k]]\n",
    "            max_index = k\n",
    "    return max_index\n",
    "\n",
    "def has_peak_in_range(wave,flux,prom,wid,minwave,maxwave):\n",
    "    \"\"\"Find a peak (local maximum) in flux vs. wavelength within some wavelength range.\n",
    "    \n",
    "    Parameters\n",
    "    ----------\n",
    "    wave : ndarray\n",
    "        Array of input wavelengths in a spectrum.\n",
    "    \n",
    "    flux : ndarray\n",
    "        Flux values in a spectrum.\n",
    "    \n",
    "    prom : float\n",
    "        Topological prominence of the local maximum to find (threshold/cut value).\n",
    "    \n",
    "    wid : int or float\n",
    "        Minimum width (in pixels) identifying a peak.\n",
    "    \n",
    "    minwave : float\n",
    "        Minimum wavelength in search range.\n",
    "    \n",
    "    maxwave : float\n",
    "        Maximum wavelength in search range.\n",
    "    \n",
    "    Returns\n",
    "    -------\n",
    "    best_peak : int\n",
    "        Index of the best-fit peak.\n",
    "    best_width : float\n",
    "        Width of the best-fit peak.\n",
    "    \"\"\"\n",
    "    # rest wavelength in angstroms, arbitrary flux\n",
    "    good_peaks = []\n",
    "    good_widths = []\n",
    "    peaks, widths = scipy.signal.find_peaks(flux, prominence = prom, width = wid)\n",
    "    widths = widths[\"widths\"]\n",
    "    best_peak = None\n",
    "    best_width = 0\n",
    "    if len(peaks) != 0:\n",
    "        for k in range(len(peaks)):\n",
    "            if (minwave <= wave[peaks[k]]):\n",
    "                if (wave[peaks[k]] <= maxwave):\n",
    "                    good_peaks.append(peaks[k])\n",
    "                    good_widths.append(widths[k])\n",
    "        if good_peaks == []:\n",
    "            return best_peak, best_width\n",
    "        max_index = sub_list_into_max(good_peaks,flux)\n",
    "        best_peak = good_peaks[max_index]\n",
    "        best_width = good_widths[max_index]\n",
    "        return best_peak, best_width\n",
    "    else:\n",
    "        return best_peak, best_width\n",
    "    \n",
    "def snip_data_near_peak(wave,flux,good_peak,good_width):\n",
    "    \"\"\"Given a peak, select a data range for performing a Gaussian fit.\n",
    "    \n",
    "    Parameters\n",
    "    ----------\n",
    "    wave : ndarray\n",
    "        Array of input wavelengths in a spectrum.\n",
    "    \n",
    "    flux : ndarray\n",
    "        Flux values in a spectrum.\n",
    "    \n",
    "    good_peak : int\n",
    "        Index (in wave/flux arrays) of peak being fit.\n",
    "    \n",
    "    good_width : float\n",
    "        Width of peak being fit.\n",
    "    \n",
    "    Returns\n",
    "    -------\n",
    "    snipped_wave : ndarray\n",
    "        Selected wavelength range around the peak.\n",
    "    snipped_flux : ndarray\n",
    "        Selected flux values around the peak.\n",
    "    \"\"\"\n",
    "    peak_edge = math.floor(2.2*(good_width))\n",
    "    try:\n",
    "        snipped_wave = wave[good_peak-peak_edge:good_peak+peak_edge]\n",
    "        snipped_flux = flux[good_peak-peak_edge:good_peak+peak_edge]\n",
    "    except:\n",
    "        if (good_peak - peak_edge) < 0:\n",
    "            snipped_wave = wave[0:good_peak+peak_edge]\n",
    "            snipped_flux = flux[0:good_peak+peak_edge]\n",
    "        else:\n",
    "            snipped_wave = wave[good_peak - peak_edge:len(wave)-1]\n",
    "            snipped_flux = flux[good_peak - peak_edge:len(wave)-1]\n",
    "    return snipped_wave,snipped_flux\n",
    "\n",
    "def fit_gaussian_to_peak(wave,flux,good_peak,good_width):\n",
    "    \"\"\"Fit 1D Gaussian to a subselection of a spectrum using a Levenberg-Marquardt minimization.\n",
    "    \n",
    "    Parameters\n",
    "    ----------\n",
    "    wave : ndarray\n",
    "        Array of input wavelengths in a spectrum.\n",
    "    \n",
    "    flux : ndarray\n",
    "        Flux values in a spectrum.\n",
    "    \n",
    "    good_peak : int\n",
    "        Index (in wave/flux arrays) of peak being fit.\n",
    "    \n",
    "    good_width : float\n",
    "        Width of peak being fit.\n",
    "    \n",
    "    Returns\n",
    "    -------\n",
    "    params : list\n",
    "        List of best-fit 1D Gaussian parameters (xrange, offset, norm, loc, width).\n",
    "    \"\"\"\n",
    "    \n",
    "    snipped_wave, snipped_flux = snip_data_near_peak(wave,flux,good_peak,good_width)\n",
    "    params, _ = curve_fit(gauss2, snipped_wave, snipped_flux,p0=[prom,max(snipped_flux),wave[good_peak],wid])\n",
    "    return params #xrange, offset, height, average, width\n",
    "\n",
    "def is_TDE(he_params,o_params,h_params):\n",
    "    \"\"\"\n",
    "    Parameters\n",
    "    ----------\n",
    "    he_params : list\n",
    "        wrange, offset, norm, loc, width of He II line.\n",
    "    o_params : list\n",
    "        wrange, offset, norm, loc, width of O III line.\n",
    "    h_params : list\n",
    "        wrange, offset, norm, loc, width of Halpha line.\n",
    "    \n",
    "    Returns\n",
    "    -------\n",
    "    is_tde : bool\n",
    "        If true, sufficient features present for a TDE classification.\n",
    "    \"\"\"\n",
    "    if he_params == []:\n",
    "        return False\n",
    "    elif h_params == []:\n",
    "        return False\n",
    "    line_ratio = he_params[1]/h_params[1]\n",
    "    o_ratio = o_params[1]/h_params[1]\n",
    "    if line_ratio == []:\n",
    "        return False\n",
    "    if line_ratio >= 0.9:\n",
    "        print(line_ratio)\n",
    "        if o_ratio <= 0.1:\n",
    "            return True\n",
    "        elif o_params == []:\n",
    "            return True\n",
    "        return False\n",
    "    return False"
   ]
  },
  {
   "cell_type": "markdown",
   "id": "e8403bd1-b1a9-4fd4-a384-72150166fd80",
   "metadata": {},
   "source": [
    "# Test to see if the code works for DESI data"
   ]
  },
  {
   "cell_type": "code",
   "execution_count": null,
   "id": "98fb4506-402f-4500-87fc-edf342910631",
   "metadata": {},
   "outputs": [],
   "source": [
    "total = sum(select)\n",
    "prom  = 0\n",
    "wid = 0\n",
    "\n",
    "for j in range(sum(select)):\n",
    "    targetid = spectra.fibermap[select][j]['TARGETID']\n",
    "    z = spectra.extra_catalog[select][j]['Z']\n",
    "    smoothed = []\n",
    "    restwave = []\n",
    "    good_he_peaks = []\n",
    "    good_o_peaks = []\n",
    "    good_h_peaks = []\n",
    "    good_he_widths = []\n",
    "    good_o_widths = []\n",
    "    good_h_widths = []\n",
    "    for band in spectra.bands:\n",
    "        smoothed.append(gaussian_filter1d(spectra.flux[band][select][j], 5))\n",
    "        restwave.append(spectra.wave[band]/(1+z))\n",
    "    for k in range(len(smoothed)):\n",
    "        he_peaks,he_widths = has_peak_in_range(restwave[k],smoothed[k],prom,wid,4670,4700)\n",
    "        o_peaks,o_widths = has_peak_in_range(restwave[k],smoothed[k],prom,wid,4992,5022)\n",
    "        h_peaks,h_widths = has_peak_in_range(restwave[k],smoothed[k],prom,wid,6540,6570)\n",
    "        good_he_peaks.extend(he_peaks)\n",
    "        good_o_peaks.extend(o_peaks)\n",
    "        good_h_peaks.extend(h_peaks)\n",
    "        good_he_widths.extend(he_widths)\n",
    "        good_o_widths.extend(o_widths)\n",
    "        good_h_widths.extend(h_widths)\n",
    "    if\n",
    "        for k in range(len(smoothed)):\n",
    "            he_params = fit_gaussian_to_peak(restwave,smoothed[k],good_he_peaks,good_he_widths)\n",
    "            o_params = fit_gaussian_to_peak(restwave,smoothed[k],good_o_peaks,good_o_widths)\n",
    "            h_params = fit_gaussian_to_peak(restwave,smoothed[k],good_h_peaks,good_h_widths)\n",
    "        if he_params == []:\n",
    "            pass\n",
    "        elif h_params == []:\n",
    "            pass\n",
    "        else:\n",
    "            result = is_TDE(he_params,o_params,h_params)\n",
    "\n",
    "            if result is True:\n",
    "                print(targetid)"
   ]
  },
  {
   "cell_type": "markdown",
   "id": "8215b2ff-fd10-44f3-bc98-3509b12fc9fa",
   "metadata": {},
   "source": [
    "# Test on TDE.space data"
   ]
  },
  {
   "cell_type": "markdown",
   "id": "fa8bef01-cd7c-410a-b41d-cc467c29e0df",
   "metadata": {},
   "source": [
    "### iPTF16axa from ApJ Screenshot (!)"
   ]
  },
  {
   "cell_type": "code",
   "execution_count": null,
   "id": "ef261816-4552-4912-b2e4-3d692f75f50e",
   "metadata": {},
   "outputs": [],
   "source": [
    "dct0613 = Table.read('DCT_0613.csv', names=['wave', 'flux'])\n",
    "wave = dct0613['wave']\n",
    "flux = dct0613['flux']\n",
    "\n",
    "fig, axes = plt.subplots(1,3, figsize=(14,4), tight_layout=True)\n",
    "\n",
    "ax = axes[0]\n",
    "ax.plot(wave, flux)\n",
    "ax.set(xlabel='$\\lambda$ [$\\AA$]',\n",
    "       ylabel='flux [a.u.]');\n",
    "\n",
    "ax = axes[1]\n",
    "ax.plot(wave, wave*flux)\n",
    "ax.set(xlabel='$\\lambda$ [$\\AA$]',\n",
    "       ylabel='$\\lambda F_\\lambda$ [a.u.]');\n",
    "\n",
    "ax = axes[2]\n",
    "ax.hist(wave, bins=6, weights=wave*flux, log=True)\n",
    "ax.set(xlabel='$\\lambda$ [$\\AA$]',\n",
    "       ylabel='$\\lambda F_\\lambda$ [a.u.]');"
   ]
  },
  {
   "cell_type": "code",
   "execution_count": null,
   "id": "fea163aa-8841-4d6b-966d-8f4d0dfeb80a",
   "metadata": {},
   "outputs": [],
   "source": [
    "wave = []\n",
    "flux = []\n",
    "new_flux = []\n",
    "restwave = []\n",
    "file = open('samplePaperTDE.txt', 'r')\n",
    "\n",
    "prom  = 0\n",
    "wid = 0\n",
    "z = 0.043671\n",
    "\n",
    "for line in file.readlines():\n",
    "    currentline = line.rstrip().split(\"\")\n",
    "    wave.append(float(currentline[0]))\n",
    "    flux.append(float(currentline[1]))\n",
    "for k in range(len(flux)):\n",
    "    new_flux.append(flux[k]*math.pow(10.0,16.0))\n",
    "    restwave.append(wave[k]/(1+z))\n",
    "smoothed = [gaussian_filter1d(new_flux, 5)]\n",
    "good_he_peaks = []\n",
    "good_o_peaks = []\n",
    "good_h_peaks = []\n",
    "good_he_widths = []\n",
    "good_o_widths = []\n",
    "good_h_widths = []\n",
    "he_params = []\n",
    "o_params = []\n",
    "h_params = []\n",
    "\n",
    "for k in range(len(smoothed)):\n",
    "    he_peaks,he_widths = has_peak_in_range(restwave,smoothed[k],prom,wid,4670,4700)\n",
    "    o_peaks,o_widths = has_peak_in_range(restwave,smoothed[k],prom,wid,4992,5022)\n",
    "    h_peaks,h_widths = has_peak_in_range(restwave,smoothed[k],prom,wid,6540,6570)\n",
    "    good_he_peaks.extend(he_peaks)\n",
    "    good_o_peaks.extend(o_peaks)\n",
    "    good_h_peaks.extend(h_peaks)\n",
    "    good_he_widths.extend(he_widths)\n",
    "    good_o_widths.extend(o_widths)\n",
    "    good_h_widths.extend(h_widths)\n",
    "\n",
    "for k in range(len(smoothed)):\n",
    "    for j in range(len(good_he_peaks)):\n",
    "        he_params.append(fit_gaussian_to_peak(restwave,smoothed[k],good_he_peaks[j],good_he_widths[j]))\n",
    "    for j in range(len(good_o_peaks)):\n",
    "        o_params.append(fit_gaussian_to_peak(restwave,smoothed[k],good_o_peaks[j],good_o_widths[j]))\n",
    "    for j in range(len(good_h_peaks)):\n",
    "        h_params.append(fit_gaussian_to_peak(restwave,smoothed[k],good_h_peaks[j],good_h_widths[j]))\n",
    "\n",
    "if he_params == []:\n",
    "    pass\n",
    "elif h_params == []:\n",
    "    pass\n",
    "else:\n",
    "    result = is_TDE(he_params,o_params,h_params)\n",
    "\n",
    "    if result is True:\n",
    "        print('It is a TDE!')\n",
    "plt.plot(restwave,new_flux)"
   ]
  },
  {
   "cell_type": "code",
   "execution_count": null,
   "id": "dde66d0c-d111-4a6e-a34f-bc2a1390c86b",
   "metadata": {},
   "outputs": [],
   "source": [
    "lambda_F = []\n",
    "\n",
    "for k in range(len(restwave)):\n",
    "    lambda_F.append(new_flux[k]*restwave[k])\n"
   ]
  },
  {
   "cell_type": "code",
   "execution_count": null,
   "id": "63f00415-5ace-4acd-aa42-d5629bdeb592",
   "metadata": {},
   "outputs": [],
   "source": [
    "\n",
    "plt.plot(restwave,lambda_F)"
   ]
  },
  {
   "cell_type": "code",
   "execution_count": null,
   "id": "f7ad27f6-7f7f-4420-bb51-57b47b48495d",
   "metadata": {},
   "outputs": [],
   "source": [
    "nbins = 30\n",
    "\n",
    "n, _ = np.histogram(restwave, bins=nbins)\n",
    "sy, _ = np.histogram(restwave, bins=nbins, weights=lambda_F)\n",
    "sy2, _ = np.histogram(restwave, bins=nbins, weights=np.multiply(lambda_F,lambda_F))\n",
    "average = sy/n\n",
    "std = np.sqrt(sy2/n - average*average)\n",
    "\n",
    "plt.plot(restwave, lambda_F, 'bo')\n",
    "plt.errorbar((_[1:] + _[:-1])/2, average, yerr=std, fmt='r-')\n",
    "plt.show()"
   ]
  },
  {
   "cell_type": "code",
   "execution_count": null,
   "id": "06f97339-c094-4e43-84ad-6467cd75ce5e",
   "metadata": {},
   "outputs": [],
   "source": []
  }
 ],
 "metadata": {
  "kernelspec": {
   "display_name": "DESI master",
   "language": "python",
   "name": "desi-master"
  },
  "language_info": {
   "codemirror_mode": {
    "name": "ipython",
    "version": 3
   },
   "file_extension": ".py",
   "mimetype": "text/x-python",
   "name": "python",
   "nbconvert_exporter": "python",
   "pygments_lexer": "ipython3",
   "version": "3.8.3"
  },
  "toc-autonumbering": true
 },
 "nbformat": 4,
 "nbformat_minor": 5
}
