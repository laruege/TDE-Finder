{
 "cells": [
  {
   "cell_type": "markdown",
   "id": "029a3915-ff06-410b-8728-5db7636d9b8b",
   "metadata": {},
   "source": [
    "# Simple TDE Filter\n",
    "\n",
    "Search for several broad line emission features characteristic of TDE spectra and select object with all or several of those features. Examples:\n",
    "1. H$\\alpha$ emission.\n",
    "1. O III $\\lambda5007$ line.\n",
    "1. He II $\\lambda4684$ line.\n",
    "1. etc."
   ]
  },
  {
   "cell_type": "code",
   "execution_count": 1,
   "id": "31577aff-b8e1-4c99-a547-eba327480802",
   "metadata": {},
   "outputs": [],
   "source": [
    "import os\n",
    "from glob import glob      # This is used for \"wildcard\" searches of folders.\n",
    "\n",
    "from abc import ABC\n",
    "\n",
    "from astropy.table import Table\n",
    "\n",
    "from desispec.io import read_spectra, write_spectra\n",
    "from desispec.spectra import stack as specstack\n",
    "from desispec.coaddition import coadd_cameras\n",
    "\n",
    "import numpy as np\n",
    "import matplotlib as mpl\n",
    "import matplotlib.pyplot as plt\n",
    "\n",
    "import scipy.signal\n",
    "from scipy.ndimage import gaussian_filter1d\n",
    "from scipy.stats import norm\n",
    "from scipy.optimize import curve_fit\n",
    "\n",
    "# import math\n",
    "# import statistics\n",
    "\n",
    "# import sys"
   ]
  },
  {
   "cell_type": "markdown",
   "id": "ddb002c1-0920-4c3d-9d44-2cecbed22051",
   "metadata": {},
   "source": [
    "## Access to Tile ToO from JuTy 2021\n",
    "\n",
    "This is a dummy data set we'll use as a sandbox to test the TDE filter.\n",
    "\n",
    "Locally cache the selected spectra so we don't have to have a time consuming loop and selectio over data."
   ]
  },
  {
   "cell_type": "code",
   "execution_count": 2,
   "id": "a376c1aa-cc8d-4f2d-8eed-41632b9e000a",
   "metadata": {},
   "outputs": [
    {
     "name": "stdout",
     "output_type": "stream",
     "text": [
      "INFO:spectra.py:282:read_spectra: iotime 0.733 sec to read selected_coadds_80980_80981.fits at 2021-08-20T01:40:40.750208\n"
     ]
    }
   ],
   "source": [
    "redux = 'daily/tiles/cumulative'\n",
    "basedir = os.environ['DESI_SPECTRO_REDUX']\n",
    "\n",
    "tiles = ['80980', '80981']\n",
    "tiledate = '20210708'\n",
    "\n",
    "coadd_file = 'selected_coadds_80980_80981.fits'\n",
    "use_cache = True\n",
    "\n",
    "if os.path.exists(coadd_file) and use_cache:\n",
    "    spectra = read_spectra(coadd_file)\n",
    "else:    \n",
    "    spectra = None\n",
    "    # Loop over all tiles in our tile list.\n",
    "    for tile in tiles:\n",
    "        tilefolder = '{}/{}/{}/{}'.format(basedir, redux, tile, tiledate)\n",
    "        coadds = sorted(glob('{}/coadd*.fits'.format(tilefolder)))\n",
    "\n",
    "        # Loop over all petals in the spectroscopic reduction.\n",
    "        for coadd in coadds:\n",
    "            # Read the spectra and the best-fit redshifts from redrock and combine into one stack of spectra.\n",
    "            spec = read_spectra(coadd)\n",
    "            zbest_files = coadd.replace('coadd', 'zbest')\n",
    "            zbest = Table.read(zbest_files, 'ZBEST')\n",
    "\n",
    "            # Select spectra with good redshifts at low z to pick TDE candidates.\n",
    "            select = (zbest['DELTACHI2']>25) & (zbest['ZWARN']==0) & (zbest['Z']<=0.15) & (zbest['SPECTYPE']=='GALAXY')\n",
    "\n",
    "            # Match TARGETID between good redshifts in zbest and the spectra fibermap table.\n",
    "            idx = np.in1d(spec.fibermap['TARGETID'], zbest['TARGETID'][select])\n",
    "\n",
    "            # Coadd our selected (good redshift) spectra across the b, r, z cameras.\n",
    "            cspec = coadd_cameras(spec[idx])\n",
    "            cspec.scores = None\n",
    "            cspec.extra_catalog = zbest[select]\n",
    "\n",
    "            # Accumulate spectra from all petals into one object, \"spectra.\"\n",
    "            if spectra is None:\n",
    "                spectra = cspec\n",
    "            else:\n",
    "                spectra = specstack([spectra, cspec])\n",
    "\n",
    "    write_spectra(coadd_file, spectra)\n",
    "    zbest = spectra.extra_catalog"
   ]
  },
  {
   "cell_type": "markdown",
   "id": "10287603-cb71-4c9d-9810-f49dbc1bc4f5",
   "metadata": {},
   "source": [
    "### Select Quality Redshifts\n",
    "\n",
    "Select spectra with good redshifts according to redrock. We'll use this to move to the objects' restframes and look for TDE-like spectra lines."
   ]
  },
  {
   "cell_type": "code",
   "execution_count": 3,
   "id": "cb1c9601-1c4d-4dce-8ce6-2d060c76493a",
   "metadata": {},
   "outputs": [
    {
     "data": {
      "text/html": [
       "<i>Table length=798</i>\n",
       "<table id=\"table46913359064992\" class=\"table-striped table-bordered table-condensed\">\n",
       "<thead><tr><th>TARGETID</th><th>PETAL_LOC</th><th>DEVICE_LOC</th><th>LOCATION</th><th>FIBER</th><th>FIBERSTATUS</th><th>TARGET_RA</th><th>TARGET_DEC</th><th>PMRA</th><th>PMDEC</th><th>REF_EPOCH</th><th>LAMBDA_REF</th><th>FA_TARGET</th><th>FA_TYPE</th><th>OBJTYPE</th><th>PRIORITY</th><th>SUBPRIORITY</th><th>OBSCONDITIONS</th><th>RELEASE</th><th>BRICKID</th><th>BRICK_OBJID</th><th>MORPHTYPE</th><th>FLUX_G</th><th>FLUX_R</th><th>FLUX_Z</th><th>FLUX_IVAR_G</th><th>FLUX_IVAR_R</th><th>FLUX_IVAR_Z</th><th>MASKBITS</th><th>REF_ID</th><th>REF_CAT</th><th>GAIA_PHOT_G_MEAN_MAG</th><th>GAIA_PHOT_BP_MEAN_MAG</th><th>GAIA_PHOT_RP_MEAN_MAG</th><th>PARALLAX</th><th>BRICKNAME</th><th>EBV</th><th>FLUX_W1</th><th>FLUX_W2</th><th>FLUX_IVAR_W1</th><th>FLUX_IVAR_W2</th><th>FIBERFLUX_G</th><th>FIBERFLUX_R</th><th>FIBERFLUX_Z</th><th>FIBERTOTFLUX_G</th><th>FIBERTOTFLUX_R</th><th>FIBERTOTFLUX_Z</th><th>SERSIC</th><th>SHAPE_R</th><th>SHAPE_E1</th><th>SHAPE_E2</th><th>PHOTSYS</th><th>PRIORITY_INIT</th><th>NUMOBS_INIT</th><th>DESI_TARGET</th><th>BGS_TARGET</th><th>MWS_TARGET</th><th>SCND_TARGET</th><th>PLATE_RA</th><th>PLATE_DEC</th><th>PSF_TO_FIBER_SPECFLUX</th><th>TILEID</th><th>COADD_NUMEXP</th><th>COADD_EXPTIME</th><th>MEAN_DELTA_X</th><th>RMS_DELTA_X</th><th>MEAN_DELTA_Y</th><th>RMS_DELTA_Y</th><th>MEAN_FIBER_X</th><th>MEAN_FIBER_Y</th><th>MEAN_FIBER_RA</th><th>MEAN_FIBER_DEC</th><th>MEAN_FIBERASSIGN_X</th><th>MEAN_FIBERASSIGN_Y</th><th>FIRST_NIGHT</th><th>LAST_NIGHT</th><th>NUM_NIGHT</th><th>FIRST_EXPID</th><th>LAST_EXPID</th><th>NUM_EXPID</th><th>FIRST_TILEID</th><th>LAST_TILEID</th><th>NUM_TILEID</th><th>FIRST_FIBER</th><th>LAST_FIBER</th><th>NUM_FIBER</th><th>FIRST_MJD</th><th>LAST_MJD</th><th>NUM_MJD</th></tr></thead>\n",
       "<thead><tr><th>int64</th><th>int16</th><th>int32</th><th>int64</th><th>int32</th><th>int32</th><th>float64</th><th>float64</th><th>float32</th><th>float32</th><th>float32</th><th>float32</th><th>int64</th><th>uint8</th><th>bytes3</th><th>int32</th><th>float64</th><th>int32</th><th>int16</th><th>int32</th><th>int32</th><th>bytes4</th><th>float32</th><th>float32</th><th>float32</th><th>float32</th><th>float32</th><th>float32</th><th>int16</th><th>int64</th><th>bytes2</th><th>float32</th><th>float32</th><th>float32</th><th>float32</th><th>bytes8</th><th>float32</th><th>float32</th><th>float32</th><th>float32</th><th>float32</th><th>float32</th><th>float32</th><th>float32</th><th>float32</th><th>float32</th><th>float32</th><th>float32</th><th>float32</th><th>float32</th><th>float32</th><th>bytes1</th><th>int64</th><th>int64</th><th>int64</th><th>int64</th><th>int64</th><th>int64</th><th>float64</th><th>float64</th><th>float64</th><th>int32</th><th>int16</th><th>float32</th><th>float32</th><th>float32</th><th>float32</th><th>float32</th><th>float32</th><th>float32</th><th>float64</th><th>float64</th><th>float32</th><th>float32</th><th>int32</th><th>int32</th><th>int16</th><th>int32</th><th>int32</th><th>int16</th><th>int32</th><th>int32</th><th>int16</th><th>int32</th><th>int32</th><th>int16</th><th>float32</th><th>float32</th><th>int16</th></tr></thead>\n",
       "<tr><td>43978251332224297</td><td>0</td><td>522</td><td>522</td><td>478</td><td>0</td><td>218.813975</td><td>35.121953</td><td>0.0</td><td>0.0</td><td>2015.5</td><td>5400.0</td><td>4611686018427387904</td><td>1</td><td>TGT</td><td>950</td><td>0.9742937853685163</td><td>5</td><td>0</td><td>0</td><td>0</td><td></td><td>0.0</td><td>0.0</td><td>0.0</td><td>0.0</td><td>0.0</td><td>0.0</td><td>0</td><td>0</td><td></td><td>0.0</td><td>0.0</td><td>0.0</td><td>0.0</td><td></td><td>0.0</td><td>0.0</td><td>0.0</td><td>0.0</td><td>0.0</td><td>0.0</td><td>0.0</td><td>0.0</td><td>0.0</td><td>0.0</td><td>0.0</td><td>0.0</td><td>0.0</td><td>0.0</td><td>0.0</td><td></td><td>950</td><td>1</td><td>4611686018427387904</td><td>0</td><td>0</td><td>576460752303423488</td><td>218.813975</td><td>35.121953</td><td>0.7926560553510068</td><td>80980</td><td>2</td><td>2112.8784</td><td>-0.004</td><td>0.004</td><td>-0.004</td><td>0.004</td><td>37.89</td><td>-399.857</td><td>218.81395557359048</td><td>35.12196767708496</td><td>37.86777</td><td>-399.8724</td><td>20210708</td><td>20210708</td><td>1</td><td>97938</td><td>97939</td><td>2</td><td>80980</td><td>80980</td><td>1</td><td>478</td><td>478</td><td>1</td><td>59404.168</td><td>59404.184</td><td>2</td></tr>\n",
       "<tr><td>43978251336418634</td><td>0</td><td>503</td><td>503</td><td>497</td><td>0</td><td>219.080169</td><td>35.122149</td><td>0.0</td><td>0.0</td><td>2015.5</td><td>5400.0</td><td>4611686018427387904</td><td>1</td><td>TGT</td><td>950</td><td>0.34329178283455775</td><td>5</td><td>0</td><td>0</td><td>0</td><td></td><td>0.0</td><td>0.0</td><td>0.0</td><td>0.0</td><td>0.0</td><td>0.0</td><td>0</td><td>0</td><td></td><td>0.0</td><td>0.0</td><td>0.0</td><td>0.0</td><td></td><td>0.0</td><td>0.0</td><td>0.0</td><td>0.0</td><td>0.0</td><td>0.0</td><td>0.0</td><td>0.0</td><td>0.0</td><td>0.0</td><td>0.0</td><td>0.0</td><td>0.0</td><td>0.0</td><td>0.0</td><td></td><td>950</td><td>1</td><td>4611686018427387904</td><td>0</td><td>0</td><td>576460752303423488</td><td>219.080169</td><td>35.122149</td><td>0.7924976169140224</td><td>80980</td><td>2</td><td>2112.8784</td><td>-0.001</td><td>0.001</td><td>-0.001</td><td>0.001</td><td>-17.279</td><td>-399.621</td><td>219.08016420293768</td><td>35.122152639496015</td><td>-17.301447</td><td>-399.6295</td><td>20210708</td><td>20210708</td><td>1</td><td>97938</td><td>97939</td><td>2</td><td>80980</td><td>80980</td><td>1</td><td>497</td><td>497</td><td>1</td><td>59404.168</td><td>59404.184</td><td>2</td></tr>\n",
       "<tr><td>43978251340612978</td><td>0</td><td>483</td><td>483</td><td>345</td><td>0</td><td>219.292823</td><td>35.10903</td><td>0.0</td><td>0.0</td><td>2015.5</td><td>5400.0</td><td>4611686018427387904</td><td>1</td><td>TGT</td><td>950</td><td>0.7245738764353887</td><td>5</td><td>0</td><td>0</td><td>0</td><td></td><td>0.0</td><td>0.0</td><td>0.0</td><td>0.0</td><td>0.0</td><td>0.0</td><td>0</td><td>0</td><td></td><td>0.0</td><td>0.0</td><td>0.0</td><td>0.0</td><td></td><td>0.0</td><td>0.0</td><td>0.0</td><td>0.0</td><td>0.0</td><td>0.0</td><td>0.0</td><td>0.0</td><td>0.0</td><td>0.0</td><td>0.0</td><td>0.0</td><td>0.0</td><td>0.0</td><td>0.0</td><td></td><td>950</td><td>1</td><td>4611686018427387904</td><td>0</td><td>0</td><td>576460752303423488</td><td>219.292823</td><td>35.10903</td><td>0.7926175156620128</td><td>80980</td><td>2</td><td>2112.8784</td><td>-0.004</td><td>0.004</td><td>0.001</td><td>0.001</td><td>-61.447</td><td>-403.418</td><td>219.29280369081238</td><td>35.10902625495025</td><td>-61.476753</td><td>-403.43625</td><td>20210708</td><td>20210708</td><td>1</td><td>97938</td><td>97939</td><td>2</td><td>80980</td><td>80980</td><td>1</td><td>345</td><td>345</td><td>1</td><td>59404.168</td><td>59404.184</td><td>2</td></tr>\n",
       "<tr><td>43978256277309425</td><td>0</td><td>476</td><td>476</td><td>362</td><td>0</td><td>218.737992</td><td>35.238934</td><td>0.0</td><td>0.0</td><td>2015.5</td><td>5400.0</td><td>4611686018427387904</td><td>1</td><td>TGT</td><td>950</td><td>0.3470135953025786</td><td>5</td><td>0</td><td>0</td><td>0</td><td></td><td>0.0</td><td>0.0</td><td>0.0</td><td>0.0</td><td>0.0</td><td>0.0</td><td>0</td><td>0</td><td></td><td>0.0</td><td>0.0</td><td>0.0</td><td>0.0</td><td></td><td>0.0</td><td>0.0</td><td>0.0</td><td>0.0</td><td>0.0</td><td>0.0</td><td>0.0</td><td>0.0</td><td>0.0</td><td>0.0</td><td>0.0</td><td>0.0</td><td>0.0</td><td>0.0</td><td>0.0</td><td></td><td>950</td><td>1</td><td>4611686018427387904</td><td>0</td><td>0</td><td>576460752303423488</td><td>218.737992</td><td>35.238934</td><td>0.7923371452480882</td><td>80980</td><td>2</td><td>2112.8784</td><td>-0.001</td><td>0.001</td><td>0.001</td><td>0.001</td><td>53.302</td><td>-368.135</td><td>218.7379871982229</td><td>35.238930326368056</td><td>53.28337</td><td>-368.13284</td><td>20210708</td><td>20210708</td><td>1</td><td>97938</td><td>97939</td><td>2</td><td>80980</td><td>80980</td><td>1</td><td>362</td><td>362</td><td>1</td><td>59404.168</td><td>59404.184</td><td>2</td></tr>\n",
       "<tr><td>43978256277309427</td><td>0</td><td>510</td><td>510</td><td>397</td><td>0</td><td>218.745077</td><td>35.171691</td><td>0.0</td><td>0.0</td><td>2015.5</td><td>5400.0</td><td>4611686018427387904</td><td>1</td><td>TGT</td><td>950</td><td>0.7236805231892964</td><td>5</td><td>0</td><td>0</td><td>0</td><td></td><td>0.0</td><td>0.0</td><td>0.0</td><td>0.0</td><td>0.0</td><td>0.0</td><td>0</td><td>0</td><td></td><td>0.0</td><td>0.0</td><td>0.0</td><td>0.0</td><td></td><td>0.0</td><td>0.0</td><td>0.0</td><td>0.0</td><td>0.0</td><td>0.0</td><td>0.0</td><td>0.0</td><td>0.0</td><td>0.0</td><td>0.0</td><td>0.0</td><td>0.0</td><td>0.0</td><td>0.0</td><td></td><td>950</td><td>1</td><td>4611686018427387904</td><td>0</td><td>0</td><td>576460752303423488</td><td>218.745077</td><td>35.171691</td><td>0.7924538542850936</td><td>80980</td><td>2</td><td>2112.8784</td><td>-0.002</td><td>0.002</td><td>0.0</td><td>0.0</td><td>52.038</td><td>-386.374</td><td>218.74506733589592</td><td>35.171691069821925</td><td>52.01692</td><td>-386.37582</td><td>20210708</td><td>20210708</td><td>1</td><td>97938</td><td>97939</td><td>2</td><td>80980</td><td>80980</td><td>1</td><td>397</td><td>397</td><td>1</td><td>59404.168</td><td>59404.184</td><td>2</td></tr>\n",
       "<tr><td>43978256277309431</td><td>0</td><td>454</td><td>454</td><td>351</td><td>0</td><td>218.804636</td><td>35.284476</td><td>0.0</td><td>0.0</td><td>2015.5</td><td>5400.0</td><td>4611686018427387904</td><td>1</td><td>TGT</td><td>950</td><td>0.5421135700719298</td><td>5</td><td>0</td><td>0</td><td>0</td><td></td><td>0.0</td><td>0.0</td><td>0.0</td><td>0.0</td><td>0.0</td><td>0.0</td><td>0</td><td>0</td><td></td><td>0.0</td><td>0.0</td><td>0.0</td><td>0.0</td><td></td><td>0.0</td><td>0.0</td><td>0.0</td><td>0.0</td><td>0.0</td><td>0.0</td><td>0.0</td><td>0.0</td><td>0.0</td><td>0.0</td><td>0.0</td><td>0.0</td><td>0.0</td><td>0.0</td><td>0.0</td><td></td><td>950</td><td>1</td><td>4611686018427387904</td><td>0</td><td>0</td><td>576460752303423488</td><td>218.804636</td><td>35.284476</td><td>0.7927663428407707</td><td>80980</td><td>2</td><td>2112.8784</td><td>-0.01</td><td>0.01</td><td>0.0</td><td>0.0</td><td>39.49</td><td>-355.759</td><td>218.80458728344323</td><td>35.284476261036524</td><td>39.462524</td><td>-355.75806</td><td>20210708</td><td>20210708</td><td>1</td><td>97938</td><td>97939</td><td>2</td><td>80980</td><td>80980</td><td>1</td><td>351</td><td>351</td><td>1</td><td>59404.168</td><td>59404.184</td><td>2</td></tr>\n",
       "<tr><td>43978256281503761</td><td>0</td><td>385</td><td>385</td><td>150</td><td>0</td><td>218.933501</td><td>35.350179</td><td>0.0</td><td>0.0</td><td>2015.5</td><td>5400.0</td><td>4611686018427387904</td><td>1</td><td>TGT</td><td>950</td><td>0.18048291284039275</td><td>5</td><td>0</td><td>0</td><td>0</td><td></td><td>0.0</td><td>0.0</td><td>0.0</td><td>0.0</td><td>0.0</td><td>0.0</td><td>0</td><td>0</td><td></td><td>0.0</td><td>0.0</td><td>0.0</td><td>0.0</td><td></td><td>0.0</td><td>0.0</td><td>0.0</td><td>0.0</td><td>0.0</td><td>0.0</td><td>0.0</td><td>0.0</td><td>0.0</td><td>0.0</td><td>0.0</td><td>0.0</td><td>0.0</td><td>0.0</td><td>0.0</td><td></td><td>950</td><td>1</td><td>4611686018427387904</td><td>0</td><td>0</td><td>576460752303423488</td><td>218.933501</td><td>35.350179</td><td>0.7921997399093639</td><td>80980</td><td>2</td><td>2112.8784</td><td>-0.002</td><td>0.002</td><td>0.002</td><td>0.002</td><td>13.012</td><td>-338.075</td><td>218.93349121955058</td><td>35.35017148490169</td><td>12.9953165</td><td>-338.07355</td><td>20210708</td><td>20210708</td><td>1</td><td>97938</td><td>97939</td><td>2</td><td>80980</td><td>80980</td><td>1</td><td>150</td><td>150</td><td>1</td><td>59404.168</td><td>59404.184</td><td>2</td></tr>\n",
       "<tr><td>43978256281503765</td><td>0</td><td>489</td><td>489</td><td>491</td><td>0</td><td>218.990389</td><td>35.172385</td><td>0.0</td><td>0.0</td><td>2015.5</td><td>5400.0</td><td>4611686018427387904</td><td>1</td><td>TGT</td><td>950</td><td>0.03093541059846816</td><td>5</td><td>0</td><td>0</td><td>0</td><td></td><td>0.0</td><td>0.0</td><td>0.0</td><td>0.0</td><td>0.0</td><td>0.0</td><td>0</td><td>0</td><td></td><td>0.0</td><td>0.0</td><td>0.0</td><td>0.0</td><td></td><td>0.0</td><td>0.0</td><td>0.0</td><td>0.0</td><td>0.0</td><td>0.0</td><td>0.0</td><td>0.0</td><td>0.0</td><td>0.0</td><td>0.0</td><td>0.0</td><td>0.0</td><td>0.0</td><td>0.0</td><td></td><td>950</td><td>1</td><td>4611686018427387904</td><td>0</td><td>0</td><td>576460752303423488</td><td>218.990389</td><td>35.172385</td><td>0.792437407855344</td><td>80980</td><td>2</td><td>2112.8784</td><td>-0.001</td><td>0.001</td><td>0.002</td><td>0.002</td><td>1.338</td><td>-385.895</td><td>218.990384145686</td><td>35.17237766192699</td><td>1.3169256</td><td>-385.89084</td><td>20210708</td><td>20210708</td><td>1</td><td>97938</td><td>97939</td><td>2</td><td>80980</td><td>80980</td><td>1</td><td>491</td><td>491</td><td>1</td><td>59404.168</td><td>59404.184</td><td>2</td></tr>\n",
       "<tr><td>43978256281503767</td><td>0</td><td>384</td><td>384</td><td>167</td><td>0</td><td>219.014991</td><td>35.328847</td><td>0.0</td><td>0.0</td><td>2015.5</td><td>5400.0</td><td>4611686018427387904</td><td>1</td><td>TGT</td><td>950</td><td>0.7349580509568063</td><td>5</td><td>0</td><td>0</td><td>0</td><td></td><td>0.0</td><td>0.0</td><td>0.0</td><td>0.0</td><td>0.0</td><td>0.0</td><td>0</td><td>0</td><td></td><td>0.0</td><td>0.0</td><td>0.0</td><td>0.0</td><td></td><td>0.0</td><td>0.0</td><td>0.0</td><td>0.0</td><td>0.0</td><td>0.0</td><td>0.0</td><td>0.0</td><td>0.0</td><td>0.0</td><td>0.0</td><td>0.0</td><td>0.0</td><td>0.0</td><td>0.0</td><td></td><td>950</td><td>1</td><td>4611686018427387904</td><td>0</td><td>0</td><td>576460752303423488</td><td>219.014991</td><td>35.328847</td><td>0.7922626707021059</td><td>80980</td><td>2</td><td>2112.8784</td><td>-0.004</td><td>0.004</td><td>0.001</td><td>0.001</td><td>-3.645</td><td>-343.714</td><td>219.0149714260948</td><td>35.32884326059451</td><td>-3.6651888</td><td>-343.7121</td><td>20210708</td><td>20210708</td><td>1</td><td>97938</td><td>97939</td><td>2</td><td>80980</td><td>80980</td><td>1</td><td>167</td><td>167</td><td>1</td><td>59404.168</td><td>59404.184</td><td>2</td></tr>\n",
       "<tr><td>43978256281503770</td><td>0</td><td>470</td><td>470</td><td>483</td><td>0</td><td>219.018955</td><td>35.194052</td><td>0.0</td><td>0.0</td><td>2015.5</td><td>5400.0</td><td>4611686018427387904</td><td>1</td><td>TGT</td><td>950</td><td>0.8593557506540024</td><td>5</td><td>0</td><td>0</td><td>0</td><td></td><td>0.0</td><td>0.0</td><td>0.0</td><td>0.0</td><td>0.0</td><td>0.0</td><td>0</td><td>0</td><td></td><td>0.0</td><td>0.0</td><td>0.0</td><td>0.0</td><td></td><td>0.0</td><td>0.0</td><td>0.0</td><td>0.0</td><td>0.0</td><td>0.0</td><td>0.0</td><td>0.0</td><td>0.0</td><td>0.0</td><td>0.0</td><td>0.0</td><td>0.0</td><td>0.0</td><td>0.0</td><td></td><td>950</td><td>1</td><td>4611686018427387904</td><td>0</td><td>0</td><td>576460752303423488</td><td>219.018955</td><td>35.194052</td><td>0.7924040874528342</td><td>80980</td><td>2</td><td>2112.8784</td><td>-0.002</td><td>0.002</td><td>-0.001</td><td>0.001</td><td>-4.546</td><td>-379.987</td><td>219.01894531416468</td><td>35.19405569373653</td><td>-4.567324</td><td>-379.98434</td><td>20210708</td><td>20210708</td><td>1</td><td>97938</td><td>97939</td><td>2</td><td>80980</td><td>80980</td><td>1</td><td>483</td><td>483</td><td>1</td><td>59404.168</td><td>59404.184</td><td>2</td></tr>\n",
       "<tr><td>...</td><td>...</td><td>...</td><td>...</td><td>...</td><td>...</td><td>...</td><td>...</td><td>...</td><td>...</td><td>...</td><td>...</td><td>...</td><td>...</td><td>...</td><td>...</td><td>...</td><td>...</td><td>...</td><td>...</td><td>...</td><td>...</td><td>...</td><td>...</td><td>...</td><td>...</td><td>...</td><td>...</td><td>...</td><td>...</td><td>...</td><td>...</td><td>...</td><td>...</td><td>...</td><td>...</td><td>...</td><td>...</td><td>...</td><td>...</td><td>...</td><td>...</td><td>...</td><td>...</td><td>...</td><td>...</td><td>...</td><td>...</td><td>...</td><td>...</td><td>...</td><td>...</td><td>...</td><td>...</td><td>...</td><td>...</td><td>...</td><td>...</td><td>...</td><td>...</td><td>...</td><td>...</td><td>...</td><td>...</td><td>...</td><td>...</td><td>...</td><td>...</td><td>...</td><td>...</td><td>...</td><td>...</td><td>...</td><td>...</td><td>...</td><td>...</td><td>...</td><td>...</td><td>...</td><td>...</td><td>...</td><td>...</td><td>...</td><td>...</td><td>...</td><td>...</td><td>...</td><td>...</td><td>...</td></tr>\n",
       "<tr><td>43978261209811392</td><td>9</td><td>51</td><td>9051</td><td>4873</td><td>0</td><td>218.342721</td><td>35.553911</td><td>0.0</td><td>0.0</td><td>2015.5</td><td>5400.0</td><td>4611686018427387904</td><td>1</td><td>TGT</td><td>950</td><td>0.5545255342424046</td><td>5</td><td>0</td><td>0</td><td>0</td><td></td><td>0.0</td><td>0.0</td><td>0.0</td><td>0.0</td><td>0.0</td><td>0.0</td><td>0</td><td>0</td><td></td><td>0.0</td><td>0.0</td><td>0.0</td><td>0.0</td><td></td><td>0.0</td><td>0.0</td><td>0.0</td><td>0.0</td><td>0.0</td><td>0.0</td><td>0.0</td><td>0.0</td><td>0.0</td><td>0.0</td><td>0.0</td><td>0.0</td><td>0.0</td><td>0.0</td><td>0.0</td><td></td><td>950</td><td>1</td><td>4611686018427387904</td><td>0</td><td>0</td><td>576460752303423488</td><td>218.342721</td><td>35.553911</td><td>0.7911849749937665</td><td>80981</td><td>1</td><td>1081.1447</td><td>-0.003</td><td>0.003</td><td>-0.007</td><td>0.007</td><td>-68.246</td><td>-108.66</td><td>218.34270623093101</td><td>35.55393952929389</td><td>-68.24929</td><td>-108.65165</td><td>20210708</td><td>20210708</td><td>1</td><td>97940</td><td>97940</td><td>1</td><td>80981</td><td>80981</td><td>1</td><td>4873</td><td>4873</td><td>1</td><td>59404.2</td><td>59404.2</td><td>1</td></tr>\n",
       "<tr><td>43978261209811401</td><td>9</td><td>87</td><td>9087</td><td>4875</td><td>0</td><td>218.40446</td><td>35.396177</td><td>0.0</td><td>0.0</td><td>2015.5</td><td>5400.0</td><td>4611686018427387904</td><td>1</td><td>TGT</td><td>950</td><td>0.8101532897663374</td><td>5</td><td>0</td><td>0</td><td>0</td><td></td><td>0.0</td><td>0.0</td><td>0.0</td><td>0.0</td><td>0.0</td><td>0.0</td><td>0</td><td>0</td><td></td><td>0.0</td><td>0.0</td><td>0.0</td><td>0.0</td><td></td><td>0.0</td><td>0.0</td><td>0.0</td><td>0.0</td><td>0.0</td><td>0.0</td><td>0.0</td><td>0.0</td><td>0.0</td><td>0.0</td><td>0.0</td><td>0.0</td><td>0.0</td><td>0.0</td><td>0.0</td><td></td><td>950</td><td>1</td><td>4611686018427387904</td><td>0</td><td>0</td><td>576460752303423488</td><td>218.40446</td><td>35.396177</td><td>0.7910797491255771</td><td>80981</td><td>1</td><td>1081.1447</td><td>0.002</td><td>0.002</td><td>-0.003</td><td>0.003</td><td>-80.988</td><td>-147.565</td><td>218.40447015236006</td><td>35.39618911648133</td><td>-80.99276</td><td>-147.55812</td><td>20210708</td><td>20210708</td><td>1</td><td>97940</td><td>97940</td><td>1</td><td>80981</td><td>80981</td><td>1</td><td>4875</td><td>4875</td><td>1</td><td>59404.2</td><td>59404.2</td><td>1</td></tr>\n",
       "<tr><td>43978261209811420</td><td>9</td><td>48</td><td>9048</td><td>4576</td><td>0</td><td>218.476198</td><td>35.609366</td><td>0.0</td><td>0.0</td><td>2015.5</td><td>5400.0</td><td>4611686018427387904</td><td>1</td><td>TGT</td><td>950</td><td>0.24797436960271368</td><td>5</td><td>0</td><td>0</td><td>0</td><td></td><td>0.0</td><td>0.0</td><td>0.0</td><td>0.0</td><td>0.0</td><td>0.0</td><td>0</td><td>0</td><td></td><td>0.0</td><td>0.0</td><td>0.0</td><td>0.0</td><td></td><td>0.0</td><td>0.0</td><td>0.0</td><td>0.0</td><td>0.0</td><td>0.0</td><td>0.0</td><td>0.0</td><td>0.0</td><td>0.0</td><td>0.0</td><td>0.0</td><td>0.0</td><td>0.0</td><td>0.0</td><td></td><td>950</td><td>1</td><td>4611686018427387904</td><td>0</td><td>0</td><td>576460752303423488</td><td>218.476198</td><td>35.609366</td><td>0.7916182047305699</td><td>80981</td><td>1</td><td>1081.1447</td><td>-0.006</td><td>0.006</td><td>-0.009</td><td>0.009</td><td>-94.698</td><td>-95.007</td><td>218.47616839685165</td><td>35.60940273951562</td><td>-94.70463</td><td>-95.0014</td><td>20210708</td><td>20210708</td><td>1</td><td>97940</td><td>97940</td><td>1</td><td>80981</td><td>80981</td><td>1</td><td>4576</td><td>4576</td><td>1</td><td>59404.2</td><td>59404.2</td><td>1</td></tr>\n",
       "<tr><td>43978261209811429</td><td>9</td><td>84</td><td>9084</td><td>4677</td><td>0</td><td>218.524176</td><td>35.480532</td><td>0.0</td><td>0.0</td><td>2015.5</td><td>5400.0</td><td>4611686018427387904</td><td>1</td><td>TGT</td><td>950</td><td>0.8389991319674033</td><td>5</td><td>0</td><td>0</td><td>0</td><td></td><td>0.0</td><td>0.0</td><td>0.0</td><td>0.0</td><td>0.0</td><td>0.0</td><td>0</td><td>0</td><td></td><td>0.0</td><td>0.0</td><td>0.0</td><td>0.0</td><td></td><td>0.0</td><td>0.0</td><td>0.0</td><td>0.0</td><td>0.0</td><td>0.0</td><td>0.0</td><td>0.0</td><td>0.0</td><td>0.0</td><td>0.0</td><td>0.0</td><td>0.0</td><td>0.0</td><td>0.0</td><td></td><td>950</td><td>1</td><td>4611686018427387904</td><td>0</td><td>0</td><td>576460752303423488</td><td>218.524176</td><td>35.480532</td><td>0.7910036206948216</td><td>80981</td><td>1</td><td>1081.1447</td><td>-0.001</td><td>0.001</td><td>-0.002</td><td>0.002</td><td>-104.7</td><td>-126.716</td><td>218.5241711442755</td><td>35.48054010668085</td><td>-104.70623</td><td>-126.704895</td><td>20210708</td><td>20210708</td><td>1</td><td>97940</td><td>97940</td><td>1</td><td>80981</td><td>80981</td><td>1</td><td>4677</td><td>4677</td><td>1</td><td>59404.2</td><td>59404.2</td><td>1</td></tr>\n",
       "<tr><td>43978261209811431</td><td>9</td><td>64</td><td>9064</td><td>4695</td><td>0</td><td>218.531409</td><td>35.545962</td><td>0.0</td><td>0.0</td><td>2015.5</td><td>5400.0</td><td>4611686018427387904</td><td>1</td><td>TGT</td><td>950</td><td>0.9079585995811387</td><td>5</td><td>0</td><td>0</td><td>0</td><td></td><td>0.0</td><td>0.0</td><td>0.0</td><td>0.0</td><td>0.0</td><td>0.0</td><td>0</td><td>0</td><td></td><td>0.0</td><td>0.0</td><td>0.0</td><td>0.0</td><td></td><td>0.0</td><td>0.0</td><td>0.0</td><td>0.0</td><td>0.0</td><td>0.0</td><td>0.0</td><td>0.0</td><td>0.0</td><td>0.0</td><td>0.0</td><td>0.0</td><td>0.0</td><td>0.0</td><td>0.0</td><td></td><td>950</td><td>1</td><td>4611686018427387904</td><td>0</td><td>0</td><td>576460752303423488</td><td>218.531409</td><td>35.545962</td><td>0.7909007047248665</td><td>80981</td><td>1</td><td>1081.1447</td><td>-0.001</td><td>0.001</td><td>-0.001</td><td>0.001</td><td>-105.927</td><td>-110.585</td><td>218.53140406639838</td><td>35.54596606994335</td><td>-105.93172</td><td>-110.572205</td><td>20210708</td><td>20210708</td><td>1</td><td>97940</td><td>97940</td><td>1</td><td>80981</td><td>80981</td><td>1</td><td>4695</td><td>4695</td><td>1</td><td>59404.2</td><td>59404.2</td><td>1</td></tr>\n",
       "<tr><td>43978261214005777</td><td>9</td><td>138</td><td>9138</td><td>4776</td><td>0</td><td>218.817754</td><td>35.379624</td><td>0.0</td><td>0.0</td><td>2015.5</td><td>5400.0</td><td>4611686018427387904</td><td>1</td><td>TGT</td><td>950</td><td>0.23606625960637329</td><td>5</td><td>0</td><td>0</td><td>0</td><td></td><td>0.0</td><td>0.0</td><td>0.0</td><td>0.0</td><td>0.0</td><td>0.0</td><td>0</td><td>0</td><td></td><td>0.0</td><td>0.0</td><td>0.0</td><td>0.0</td><td></td><td>0.0</td><td>0.0</td><td>0.0</td><td>0.0</td><td>0.0</td><td>0.0</td><td>0.0</td><td>0.0</td><td>0.0</td><td>0.0</td><td>0.0</td><td>0.0</td><td>0.0</td><td>0.0</td><td>0.0</td><td></td><td>950</td><td>1</td><td>4611686018427387904</td><td>0</td><td>0</td><td>576460752303423488</td><td>218.817754</td><td>35.379624</td><td>0.7915806855340868</td><td>80981</td><td>1</td><td>1081.1447</td><td>-0.001</td><td>0.001</td><td>-0.005</td><td>0.005</td><td>-164.468</td><td>-151.85</td><td>218.8177496383289</td><td>35.379644056119936</td><td>-164.4838</td><td>-151.84404</td><td>20210708</td><td>20210708</td><td>1</td><td>97940</td><td>97940</td><td>1</td><td>80981</td><td>80981</td><td>1</td><td>4776</td><td>4776</td><td>1</td><td>59404.2</td><td>59404.2</td><td>1</td></tr>\n",
       "<tr><td>43978261218200096</td><td>9</td><td>136</td><td>9136</td><td>4768</td><td>0</td><td>218.915367</td><td>35.406295</td><td>0.0</td><td>0.0</td><td>2015.5</td><td>5400.0</td><td>4611686018427387904</td><td>1</td><td>TGT</td><td>950</td><td>0.5447520049062707</td><td>5</td><td>0</td><td>0</td><td>0</td><td></td><td>0.0</td><td>0.0</td><td>0.0</td><td>0.0</td><td>0.0</td><td>0.0</td><td>0</td><td>0</td><td></td><td>0.0</td><td>0.0</td><td>0.0</td><td>0.0</td><td></td><td>0.0</td><td>0.0</td><td>0.0</td><td>0.0</td><td>0.0</td><td>0.0</td><td>0.0</td><td>0.0</td><td>0.0</td><td>0.0</td><td>0.0</td><td>0.0</td><td>0.0</td><td>0.0</td><td>0.0</td><td></td><td>950</td><td>1</td><td>4611686018427387904</td><td>0</td><td>0</td><td>576460752303423488</td><td>218.915367</td><td>35.406295</td><td>0.7915552692960719</td><td>80981</td><td>1</td><td>1081.1447</td><td>-0.001</td><td>0.001</td><td>-0.001</td><td>0.001</td><td>-184.237</td><td>-145.27</td><td>218.9153622278744</td><td>35.406299002576</td><td>-184.25389</td><td>-145.25972</td><td>20210708</td><td>20210708</td><td>1</td><td>97940</td><td>97940</td><td>1</td><td>80981</td><td>80981</td><td>1</td><td>4768</td><td>4768</td><td>1</td><td>59404.2</td><td>59404.2</td><td>1</td></tr>\n",
       "<tr><td>43978261218200109</td><td>9</td><td>163</td><td>9163</td><td>4922</td><td>0</td><td>219.004337</td><td>35.382354</td><td>0.0</td><td>0.0</td><td>2015.5</td><td>5400.0</td><td>4611686018427387904</td><td>1</td><td>TGT</td><td>950</td><td>0.42278101777331756</td><td>5</td><td>0</td><td>0</td><td>0</td><td></td><td>0.0</td><td>0.0</td><td>0.0</td><td>0.0</td><td>0.0</td><td>0.0</td><td>0</td><td>0</td><td></td><td>0.0</td><td>0.0</td><td>0.0</td><td>0.0</td><td></td><td>0.0</td><td>0.0</td><td>0.0</td><td>0.0</td><td>0.0</td><td>0.0</td><td>0.0</td><td>0.0</td><td>0.0</td><td>0.0</td><td>0.0</td><td>0.0</td><td>0.0</td><td>0.0</td><td>0.0</td><td></td><td>950</td><td>1</td><td>4611686018427387904</td><td>0</td><td>0</td><td>576460752303423488</td><td>219.004337</td><td>35.382354</td><td>0.7917608503621303</td><td>80981</td><td>1</td><td>1081.1447</td><td>0.0</td><td>0.0</td><td>-0.002</td><td>0.002</td><td>-202.665</td><td>-151.326</td><td>219.0043372674921</td><td>35.38236199815257</td><td>-202.68343</td><td>-151.31519</td><td>20210708</td><td>20210708</td><td>1</td><td>97940</td><td>97940</td><td>1</td><td>80981</td><td>80981</td><td>1</td><td>4922</td><td>4922</td><td>1</td><td>59404.2</td><td>59404.2</td><td>1</td></tr>\n",
       "<tr><td>43978266129730582</td><td>9</td><td>29</td><td>9029</td><td>4567</td><td>0</td><td>218.305038</td><td>35.664283</td><td>0.0</td><td>0.0</td><td>2015.5</td><td>5400.0</td><td>4611686018427387904</td><td>1</td><td>TGT</td><td>950</td><td>0.8066179003297541</td><td>5</td><td>0</td><td>0</td><td>0</td><td></td><td>0.0</td><td>0.0</td><td>0.0</td><td>0.0</td><td>0.0</td><td>0.0</td><td>0</td><td>0</td><td></td><td>0.0</td><td>0.0</td><td>0.0</td><td>0.0</td><td></td><td>0.0</td><td>0.0</td><td>0.0</td><td>0.0</td><td>0.0</td><td>0.0</td><td>0.0</td><td>0.0</td><td>0.0</td><td>0.0</td><td>0.0</td><td>0.0</td><td>0.0</td><td>0.0</td><td>0.0</td><td></td><td>950</td><td>1</td><td>4611686018427387904</td><td>0</td><td>0</td><td>576460752303423488</td><td>218.305038</td><td>35.664283</td><td>0.790664521886686</td><td>80981</td><td>1</td><td>1081.1447</td><td>-0.002</td><td>0.002</td><td>-0.001</td><td>0.001</td><td>-60.535</td><td>-81.629</td><td>218.305027956675</td><td>35.66428711323049</td><td>-60.535515</td><td>-81.612976</td><td>20210708</td><td>20210708</td><td>1</td><td>97940</td><td>97940</td><td>1</td><td>80981</td><td>80981</td><td>1</td><td>4567</td><td>4567</td><td>1</td><td>59404.2</td><td>59404.2</td><td>1</td></tr>\n",
       "<tr><td>43978266129730591</td><td>9</td><td>34</td><td>9034</td><td>4560</td><td>0</td><td>218.389019</td><td>35.63221</td><td>0.0</td><td>0.0</td><td>2015.5</td><td>5400.0</td><td>4611686018427387904</td><td>1</td><td>TGT</td><td>950</td><td>0.6299357397100517</td><td>5</td><td>0</td><td>0</td><td>0</td><td></td><td>0.0</td><td>0.0</td><td>0.0</td><td>0.0</td><td>0.0</td><td>0.0</td><td>0</td><td>0</td><td></td><td>0.0</td><td>0.0</td><td>0.0</td><td>0.0</td><td></td><td>0.0</td><td>0.0</td><td>0.0</td><td>0.0</td><td>0.0</td><td>0.0</td><td>0.0</td><td>0.0</td><td>0.0</td><td>0.0</td><td>0.0</td><td>0.0</td><td>0.0</td><td>0.0</td><td>0.0</td><td></td><td>950</td><td>1</td><td>4611686018427387904</td><td>0</td><td>0</td><td>576460752303423488</td><td>218.389019</td><td>35.63221</td><td>0.7910045220616528</td><td>80981</td><td>1</td><td>1081.1447</td><td>0.004</td><td>0.004</td><td>-0.005</td><td>0.005</td><td>-77.287</td><td>-89.442</td><td>218.38903931815267</td><td>35.63223036292162</td><td>-77.28191</td><td>-89.4305</td><td>20210708</td><td>20210708</td><td>1</td><td>97940</td><td>97940</td><td>1</td><td>80981</td><td>80981</td><td>1</td><td>4560</td><td>4560</td><td>1</td><td>59404.2</td><td>59404.2</td><td>1</td></tr>\n",
       "</table>"
      ],
      "text/plain": [
       "<Table length=798>\n",
       "     TARGETID     PETAL_LOC DEVICE_LOC LOCATION ... FIRST_MJD  LAST_MJD NUM_MJD\n",
       "      int64         int16     int32     int64   ...  float32   float32   int16 \n",
       "----------------- --------- ---------- -------- ... --------- --------- -------\n",
       "43978251332224297         0        522      522 ... 59404.168 59404.184       2\n",
       "43978251336418634         0        503      503 ... 59404.168 59404.184       2\n",
       "43978251340612978         0        483      483 ... 59404.168 59404.184       2\n",
       "43978256277309425         0        476      476 ... 59404.168 59404.184       2\n",
       "43978256277309427         0        510      510 ... 59404.168 59404.184       2\n",
       "43978256277309431         0        454      454 ... 59404.168 59404.184       2\n",
       "43978256281503761         0        385      385 ... 59404.168 59404.184       2\n",
       "43978256281503765         0        489      489 ... 59404.168 59404.184       2\n",
       "43978256281503767         0        384      384 ... 59404.168 59404.184       2\n",
       "43978256281503770         0        470      470 ... 59404.168 59404.184       2\n",
       "              ...       ...        ...      ... ...       ...       ...     ...\n",
       "43978261209811392         9         51     9051 ...   59404.2   59404.2       1\n",
       "43978261209811401         9         87     9087 ...   59404.2   59404.2       1\n",
       "43978261209811420         9         48     9048 ...   59404.2   59404.2       1\n",
       "43978261209811429         9         84     9084 ...   59404.2   59404.2       1\n",
       "43978261209811431         9         64     9064 ...   59404.2   59404.2       1\n",
       "43978261214005777         9        138     9138 ...   59404.2   59404.2       1\n",
       "43978261218200096         9        136     9136 ...   59404.2   59404.2       1\n",
       "43978261218200109         9        163     9163 ...   59404.2   59404.2       1\n",
       "43978266129730582         9         29     9029 ...   59404.2   59404.2       1\n",
       "43978266129730591         9         34     9034 ...   59404.2   59404.2       1"
      ]
     },
     "execution_count": 3,
     "metadata": {},
     "output_type": "execute_result"
    }
   ],
   "source": [
    "spectra.fibermap"
   ]
  },
  {
   "cell_type": "code",
   "execution_count": 4,
   "id": "b48ba618-2e1d-48e5-b479-1c38b3b03bf1",
   "metadata": {},
   "outputs": [
    {
     "data": {
      "text/html": [
       "<i>Table length=798</i>\n",
       "<table id=\"table46912564587680\" class=\"table-striped table-bordered table-condensed\">\n",
       "<thead><tr><th>TARGETID</th><th>CHI2</th><th>COEFF [10]</th><th>Z</th><th>ZERR</th><th>ZWARN</th><th>NPIXELS</th><th>SPECTYPE</th><th>SUBTYPE</th><th>NCOEFF</th><th>DELTACHI2</th><th>NUMEXP</th><th>NUMTILE</th></tr></thead>\n",
       "<thead><tr><th>int64</th><th>float64</th><th>float64</th><th>float64</th><th>float64</th><th>int64</th><th>int64</th><th>bytes6</th><th>bytes20</th><th>int64</th><th>float64</th><th>int32</th><th>int32</th></tr></thead>\n",
       "<tr><td>43978251332224297</td><td>10275.067973563127</td><td>186.54133100184234 .. -2.139486242776249</td><td>0.028169338945036603</td><td>7.33099736174635e-05</td><td>0</td><td>7922</td><td>GALAXY</td><td></td><td>10</td><td>57.97290327245719</td><td>0</td><td>1</td></tr>\n",
       "<tr><td>43978251336418634</td><td>10230.57675677538</td><td>941.0080736739006 .. 15.082266471228863</td><td>0.04461884220088436</td><td>5.852139174486123e-06</td><td>0</td><td>7915</td><td>GALAXY</td><td></td><td>10</td><td>947.8218576312065</td><td>0</td><td>1</td></tr>\n",
       "<tr><td>43978251340612978</td><td>10124.402057901025</td><td>460.9684372706358 .. -21.52998659342644</td><td>0.05430422899565762</td><td>1.1063282222704019e-05</td><td>0</td><td>7909</td><td>GALAXY</td><td></td><td>10</td><td>318.8440255969763</td><td>0</td><td>1</td></tr>\n",
       "<tr><td>43978256277309425</td><td>11268.109929680824</td><td>3107.8662334522915 .. 49.173596003834135</td><td>0.05426746476189148</td><td>3.5887243507574826e-06</td><td>0</td><td>7918</td><td>GALAXY</td><td></td><td>10</td><td>6545.918428844208</td><td>0</td><td>1</td></tr>\n",
       "<tr><td>43978256277309427</td><td>10512.6166087389</td><td>2740.5318053403666 .. 117.80372789329931</td><td>0.07770015858870159</td><td>3.4346465435754205e-06</td><td>0</td><td>7924</td><td>GALAXY</td><td></td><td>10</td><td>5390.012244582176</td><td>0</td><td>1</td></tr>\n",
       "<tr><td>43978256277309431</td><td>12691.667140066624</td><td>5479.312467285019 .. 67.90531589745542</td><td>0.08530550495309075</td><td>7.3501910286467025e-06</td><td>0</td><td>7922</td><td>GALAXY</td><td></td><td>10</td><td>8664.306151263416</td><td>0</td><td>1</td></tr>\n",
       "<tr><td>43978256281503761</td><td>12625.321367502213</td><td>6281.767418081286 .. 7.142270691406357</td><td>0.04449776813100064</td><td>1.4916088727956e-06</td><td>0</td><td>7924</td><td>GALAXY</td><td></td><td>10</td><td>27798.917276144028</td><td>0</td><td>1</td></tr>\n",
       "<tr><td>43978256281503765</td><td>13706.790070198476</td><td>3748.771933120947 .. 304.3801057129196</td><td>0.054137654364171936</td><td>7.009412048980359e-06</td><td>0</td><td>7924</td><td>GALAXY</td><td></td><td>10</td><td>4395.05174074322</td><td>0</td><td>1</td></tr>\n",
       "<tr><td>43978256281503767</td><td>10185.300615906715</td><td>711.8935207803346 .. -57.17079478133657</td><td>0.08565691100877341</td><td>6.009421352586055e-06</td><td>0</td><td>7925</td><td>GALAXY</td><td></td><td>10</td><td>882.6220356225967</td><td>0</td><td>1</td></tr>\n",
       "<tr><td>43978256281503770</td><td>10652.587787240744</td><td>1359.7381364903426 .. 57.76652698314896</td><td>0.09867172686177147</td><td>6.127907845303448e-06</td><td>0</td><td>7915</td><td>GALAXY</td><td></td><td>10</td><td>2112.1447791159153</td><td>0</td><td>1</td></tr>\n",
       "<tr><td>...</td><td>...</td><td>...</td><td>...</td><td>...</td><td>...</td><td>...</td><td>...</td><td>...</td><td>...</td><td>...</td><td>...</td><td>...</td></tr>\n",
       "<tr><td>43978261209811392</td><td>17516.2020714283</td><td>2734.2981046428786 .. 169.904572686898</td><td>0.08252946777700676</td><td>5.839566287632941e-06</td><td>0</td><td>7835</td><td>GALAXY</td><td></td><td>10</td><td>17962.791746854782</td><td>0</td><td>1</td></tr>\n",
       "<tr><td>43978261209811401</td><td>10457.8476395607</td><td>1501.1788310360048 .. 33.45552783758406</td><td>0.08483657220191089</td><td>3.513013953690151e-06</td><td>0</td><td>7856</td><td>GALAXY</td><td></td><td>10</td><td>3447.7403717041016</td><td>0</td><td>1</td></tr>\n",
       "<tr><td>43978261209811420</td><td>11533.13671785593</td><td>1712.2927759216086 .. 173.26871110878233</td><td>0.03478832375026429</td><td>3.5968984843724436e-06</td><td>0</td><td>7878</td><td>GALAXY</td><td></td><td>10</td><td>6710.070890426636</td><td>0</td><td>1</td></tr>\n",
       "<tr><td>43978261209811429</td><td>9369.299164891243</td><td>1115.8765331690938 .. 61.75651287152105</td><td>0.13542937903795219</td><td>5.9959140703877e-06</td><td>0</td><td>7861</td><td>GALAXY</td><td></td><td>10</td><td>1212.2420057058334</td><td>0</td><td>1</td></tr>\n",
       "<tr><td>43978261209811431</td><td>10487.444191157818</td><td>1439.6381334216642 .. 11.080004785619375</td><td>0.06987385319381494</td><td>3.0537068349715346e-06</td><td>0</td><td>7821</td><td>GALAXY</td><td></td><td>10</td><td>4722.0430844426155</td><td>0</td><td>1</td></tr>\n",
       "<tr><td>43978261214005777</td><td>9993.481008067727</td><td>487.27628120884145 .. 8.290583295345684</td><td>0.12769606701309266</td><td>1.2144752671296494e-05</td><td>0</td><td>7800</td><td>GALAXY</td><td></td><td>10</td><td>353.5971983522177</td><td>0</td><td>1</td></tr>\n",
       "<tr><td>43978261218200096</td><td>10222.27703641355</td><td>140.77720287633596 .. -2.5744741600390912</td><td>0.13183138325715482</td><td>1.5282334117795436e-05</td><td>0</td><td>7786</td><td>GALAXY</td><td></td><td>10</td><td>672.1533231884241</td><td>0</td><td>1</td></tr>\n",
       "<tr><td>43978261218200109</td><td>11236.844792842865</td><td>3298.845992460035 .. 24.397036013903698</td><td>0.08550500589293873</td><td>6.762786211594795e-06</td><td>0</td><td>7842</td><td>GALAXY</td><td></td><td>10</td><td>4384.45134097978</td><td>0</td><td>1</td></tr>\n",
       "<tr><td>43978266129730582</td><td>11767.590280532837</td><td>2717.3674359151614 .. 76.10732958351323</td><td>0.09787027542969827</td><td>2.034266079822286e-06</td><td>0</td><td>7829</td><td>GALAXY</td><td></td><td>10</td><td>9408.954556465149</td><td>0</td><td>1</td></tr>\n",
       "<tr><td>43978266129730591</td><td>9434.650779739022</td><td>449.75895075352736 .. 19.63029819251215</td><td>0.09800527058405827</td><td>1.200780361825858e-05</td><td>0</td><td>7828</td><td>GALAXY</td><td></td><td>10</td><td>412.3192461277358</td><td>0</td><td>1</td></tr>\n",
       "</table>"
      ],
      "text/plain": [
       "<Table length=798>\n",
       "     TARGETID            CHI2        ... NUMEXP NUMTILE\n",
       "      int64            float64       ... int32   int32 \n",
       "----------------- ------------------ ... ------ -------\n",
       "43978251332224297 10275.067973563127 ...      0       1\n",
       "43978251336418634  10230.57675677538 ...      0       1\n",
       "43978251340612978 10124.402057901025 ...      0       1\n",
       "43978256277309425 11268.109929680824 ...      0       1\n",
       "43978256277309427   10512.6166087389 ...      0       1\n",
       "43978256277309431 12691.667140066624 ...      0       1\n",
       "43978256281503761 12625.321367502213 ...      0       1\n",
       "43978256281503765 13706.790070198476 ...      0       1\n",
       "43978256281503767 10185.300615906715 ...      0       1\n",
       "43978256281503770 10652.587787240744 ...      0       1\n",
       "              ...                ... ...    ...     ...\n",
       "43978261209811392   17516.2020714283 ...      0       1\n",
       "43978261209811401   10457.8476395607 ...      0       1\n",
       "43978261209811420  11533.13671785593 ...      0       1\n",
       "43978261209811429  9369.299164891243 ...      0       1\n",
       "43978261209811431 10487.444191157818 ...      0       1\n",
       "43978261214005777  9993.481008067727 ...      0       1\n",
       "43978261218200096  10222.27703641355 ...      0       1\n",
       "43978261218200109 11236.844792842865 ...      0       1\n",
       "43978266129730582 11767.590280532837 ...      0       1\n",
       "43978266129730591  9434.650779739022 ...      0       1"
      ]
     },
     "execution_count": 4,
     "metadata": {},
     "output_type": "execute_result"
    }
   ],
   "source": [
    "spectra.extra_catalog"
   ]
  },
  {
   "cell_type": "code",
   "execution_count": 5,
   "id": "9072b7d0-617f-477e-8113-455b9ea582fd",
   "metadata": {},
   "outputs": [
    {
     "data": {
      "text/plain": [
       "798"
      ]
     },
     "execution_count": 5,
     "metadata": {},
     "output_type": "execute_result"
    }
   ],
   "source": [
    "spectra.num_spectra()"
   ]
  },
  {
   "cell_type": "code",
   "execution_count": 6,
   "id": "ab27eb57-720a-46ce-80f2-6fd952e31fbf",
   "metadata": {},
   "outputs": [
    {
     "data": {
      "text/plain": [
       "Text(0.5, 1.0, 'Picked coadded spectrum 458')"
      ]
     },
     "execution_count": 6,
     "metadata": {},
     "output_type": "execute_result"
    },
    {
     "data": {
      "image/png": "[encoded data removed]",
      "text/plain": [
       "<Figure size 432x288 with 1 Axes>"
      ]
     },
     "metadata": {
      "needs_background": "light"
     },
     "output_type": "display_data"
    }
   ],
   "source": [
    "k = np.random.choice(spectra.num_spectra())\n",
    "plt.plot(spectra.wave['brz'], spectra.flux['brz'][k])\n",
    "peaks, info = scipy.signal.find_peaks(spectra.flux['brz'][k], prominence=0, width=5)\n",
    "plt.scatter(spectra.wave['brz'][peaks], spectra.flux['brz'][k][peaks], color='r')\n",
    "plt.title('Picked coadded spectrum {}'.format(k))\n",
    "# info"
   ]
  },
  {
   "cell_type": "code",
   "execution_count": 7,
   "id": "ac8f464f-3fc3-4f9b-ad4a-74419ffde90f",
   "metadata": {},
   "outputs": [
    {
     "data": {
      "text/plain": [
       "array([ 203,  222,  280,  408,  558,  604,  638,  683,  809, 1178, 1311,\n",
       "       1566, 1648, 1740, 1955, 2085, 2134, 2249, 2263, 2356, 2395, 2746,\n",
       "       2758, 2819, 2857, 2983, 3055, 3077, 3086, 3378, 3398, 3466, 3791,\n",
       "       3887, 3896, 3964, 4088, 4117, 4130, 4317, 4479, 4615, 4708, 4762,\n",
       "       4790, 4800, 4816, 4843, 4899, 4978, 5104, 5132, 5264, 5279, 5319,\n",
       "       5355, 5514, 5702, 5797, 6149, 6360, 6507, 6519, 6549, 6577, 6673,\n",
       "       6754, 6800, 6826, 6948, 6993, 7032, 7107, 7131, 7325, 7329, 7354,\n",
       "       7489, 7669, 7684, 7694, 7726])"
      ]
     },
     "execution_count": 7,
     "metadata": {},
     "output_type": "execute_result"
    },
    {
     "data": {
      "image/png": "[encoded data removed]",
      "text/plain": [
       "<Figure size 432x288 with 1 Axes>"
      ]
     },
     "metadata": {
      "needs_background": "light"
     },
     "output_type": "display_data"
    }
   ],
   "source": [
    "plt.hist(info['widths'], bins=50)\n",
    "peaks"
   ]
  },
  {
   "cell_type": "markdown",
   "id": "c16d50ee-52a3-4987-a3f1-1fb7325ab444",
   "metadata": {},
   "source": [
    "## TDE Filtering Code"
   ]
  },
  {
   "cell_type": "code",
   "execution_count": 8,
   "id": "c85def2c-0123-431f-80d2-85d3914d5453",
   "metadata": {},
   "outputs": [],
   "source": [
    "# Search code implemented as a class.\n",
    "def gauss2(x, b, a, x0, sigma):\n",
    "    \"\"\"Implementation of 1D Gaussian with arbitrary normalization.\n",
    "    \n",
    "    Parameters\n",
    "    ----------\n",
    "    x : ndarray\n",
    "        List of independent values (ordinates) where we perform the fit.\n",
    "    b : float\n",
    "        Free parameter: constant offset.\n",
    "    a : float\n",
    "        Free parameter: normalization.\n",
    "    x0 : float\n",
    "        Location parameter of the Gaussian.\n",
    "    sigma : float\n",
    "        Scale parameter (width) of the Gaussian.\n",
    "    \n",
    "    Returns\n",
    "    -------\n",
    "    y : ndarray\n",
    "        Gaussian function N(x|a,b,x0,sigma) evaluated for all x.\n",
    "    \"\"\"\n",
    "    return b + (a * np.exp(-(x - x0) ** 2 / (2 * sigma ** 2)))\n",
    "\n",
    "class TDEFilter:\n",
    "    \n",
    "    def __init__(self):\n",
    "        self.heii_line_range = [4670., 4700.]\n",
    "        self.oiii_line_range = [4992., 5022.]\n",
    "        self.halpha_line_range = [6540., 6570.]\n",
    "        \n",
    "    def get_peak_in_range(self, wave, flux, wrange):\n",
    "        # Pick out the desired wavelength subrange of the spectrum.\n",
    "        wmin, wmax = wrange\n",
    "#        i, j = 0, len(wave)   # TEMPORARY: DELETE AFTER TESTING!\n",
    "        i = np.abs(wmin - wave).argmin()\n",
    "        j = np.abs(wmax - wave).argmin()\n",
    "        prom = 0\n",
    "        width = 10*np.diff(wave)\n",
    "        # Apply the scipy peak finder to the subarray.\n",
    "        peaks, info = scipy.signal.find_peaks(flux[i:j], prominence=prom, width=width)\n",
    "\n",
    "        if len(peaks) > 0:\n",
    "            # Pick out the maximum flux in this range (eliminates noise/local minima).\n",
    "            k = flux[peaks].argmax()\n",
    "            peakidx = peaks[k]\n",
    "            peakflux = flux[peakidx]\n",
    "            peakwave = wave[peakidx]\n",
    "            peakwidth = info['widths'][k]\n",
    "            return peakidx, peakwave, peakwidth, peakflux\n",
    "\n",
    "        return None\n",
    "    \n",
    "    def snip_data_near_peak(self, wave, flux, good_peak, good_width):\n",
    "        # Extract a range of values in pixel space (2.2*peak finder width).\n",
    "        peak_edge = int(np.floor(2.2*(good_width)))\n",
    "        i = np.maximum(0, good_peak - peak_edge)\n",
    "        j = np.minimum(len(wave), good_peak + peak_edge)\n",
    "        \n",
    "        return wave[i:j], flux[i:j]\n",
    "    \n",
    "    def get_line_features(self, wave, flux, wrange):\n",
    "        # Call the peak finder for the spectrum.\n",
    "        peakinfo = self.get_peak_in_range(wave, flux, wrange)\n",
    "        if peakinfo is not None:\n",
    "            # Extract a range around the peak.\n",
    "            peakidx, peakwave, peakwidth, peakflux = peakinfo\n",
    "            subwave, subflux = self.snip_data_near_peak(wave, flux, peakidx, peakwidth)\n",
    "            # Fit the feature to a 1D Gaussian.\n",
    "            pars, cov = curve_fit(gauss2, subwave, subflux, p0=[1., peakflux, peakwave, peakwidth])\n",
    "            return pars\n",
    "        return None\n",
    "            \n",
    "    def is_tde(self, wave, flux):\n",
    "        \n",
    "        # Call the peak finder for the spectral features we want.\n",
    "        try:\n",
    "            heii_pars = self.get_line_features(wave, flux, self.heii_line_range)\n",
    "            oiii_pars = self.get_line_features(wave, flux, self.oiii_line_range)\n",
    "            halpha_pars = self.get_line_features(wave, flux, self.halpha_line_range)\n",
    "        except:\n",
    "            return False\n",
    "        \n",
    "#         print(heii_pars)\n",
    "#         print(oiii_pars)\n",
    "#         print(halpha_pars)\n",
    "            \n",
    "        # Try to identify the TDE-like features.\n",
    "        # Must have Ha and HeII lines.\n",
    "        if heii_pars is None or halpha_pars is None:\n",
    "            return False\n",
    "        he_ha_ratio = heii_pars[1] / halpha_pars[1]\n",
    "        \n",
    "        # OIII line not required; set to zero by default.\n",
    "        o_ha_ratio = 0.\n",
    "        if oiii_pars is not None:\n",
    "            o_ha_ratio = oiii_pars[1] / halpha_pars[1]\n",
    "\n",
    "        # Condition: high HeII/Ha and little to no OIII/Ha.\n",
    "        return he_ha_ratio > 0.9 and o_ha_ratio < 0.1"
   ]
  },
  {
   "cell_type": "code",
   "execution_count": 9,
   "id": "a5435d6d-7e86-4943-b5bc-c3c0950a8b2b",
   "metadata": {},
   "outputs": [
    {
     "data": {
      "text/plain": [
       "False"
      ]
     },
     "execution_count": 9,
     "metadata": {},
     "output_type": "execute_result"
    }
   ],
   "source": [
    "tdefilt = TDEFilter()\n",
    "tdefilt.is_tde(spectra.wave['brz'], spectra.flux['brz'][k])"
   ]
  },
  {
   "cell_type": "code",
   "execution_count": 10,
   "id": "bc27a402-dfe9-4735-a78b-3bed1b1d4442",
   "metadata": {},
   "outputs": [],
   "source": [
    "for i in range(spectra.num_spectra()):\n",
    "    is_tde = tdefilt.is_tde(spectra.wave['brz'], gaussian_filter1d(spectra.flux['brz'][i], 5))\n",
    "#     print('{} {}'.format(spectra.fibermap['TARGETID'][i], is_tde))\n",
    "    if is_tde:\n",
    "        targid = spectra.fibermap['TARGETID'][i]\n",
    "        fig, ax = plt.subplots(1,1, figsize=(10,4), tight_layout=True)\n",
    "        ax.plot(spectra.wave['brz'], gaussian_filter1d(spectra.flux['brz'][i], 5))\n",
    "        ax.set(title='{:d} (spec {:d})'.format(targid, i))"
   ]
  },
  {
   "cell_type": "code",
   "execution_count": 11,
   "id": "6d8f8af1-b83e-429c-90de-0032dc4f7b0a",
   "metadata": {},
   "outputs": [
    {
     "data": {
      "text/plain": [
       "[<matplotlib.lines.Line2D at 0x2aaadfb74070>]"
      ]
     },
     "execution_count": 11,
     "metadata": {},
     "output_type": "execute_result"
    },
    {
     "data": {
      "image/png": "[encoded data removed]",
      "text/plain": [
       "<Figure size 432x288 with 1 Axes>"
      ]
     },
     "metadata": {
      "needs_background": "light"
     },
     "output_type": "display_data"
    }
   ],
   "source": [
    "k = np.argwhere(spectra.fibermap['TARGETID'] == 43978251340612978)[0,0] \n",
    "plt.plot(spectra.wave['brz'], gaussian_filter1d(spectra.flux['brz'][k], 5))"
   ]
  },
  {
   "cell_type": "code",
   "execution_count": 12,
   "id": "934b9d64-c10f-47c9-adff-df68851c83ae",
   "metadata": {},
   "outputs": [],
   "source": [
    "# Defining the most important parts of the peak finder algorithm.\n",
    "\n",
    "def gauss2(x, b, a, x0, sigma):\n",
    "    \"\"\"Implementation of 1D Gaussian with arbitrary normalization.\n",
    "    \n",
    "    Parameters\n",
    "    ----------\n",
    "    x : ndarray\n",
    "        List of independent values (ordinates) where we perform the fit.\n",
    "    b : float\n",
    "        Free parameter: constant offset.\n",
    "    a : float\n",
    "        Free parameter: normalization.\n",
    "    x0 : float\n",
    "        Location parameter of the Gaussian.\n",
    "    sigma : float\n",
    "        Scale parameter (width) of the Gaussian.\n",
    "    \n",
    "    Returns\n",
    "    -------\n",
    "    y : ndarray\n",
    "        Gaussian function N(x|a,b,x0,sigma) evaluated for all x.\n",
    "    \"\"\"\n",
    "    return b + (a * np.exp(-(x - x0) ** 2 / (2 * sigma ** 2)))\n",
    "    \n",
    "def sub_list_into_max(thelist, flux):\n",
    "    \"\"\"Basically, return arg max(flux[j]), where j indexes local maxima.\n",
    "    \n",
    "    Parameters\n",
    "    ----------\n",
    "    thelist : ndarray of int\n",
    "        Index of values used to search.\n",
    "    flux : ndarray of float\n",
    "        List of local maxima in the flux.\n",
    "    \n",
    "    Returns\n",
    "    -------\n",
    "    argmax : int\n",
    "        Index of the global maximum out of the list of local maxima.\n",
    "    \"\"\"\n",
    "    maximum = 0\n",
    "    max_index = 0\n",
    "    for k in range(len(thelist)):\n",
    "        if flux[thelist[k]] > maximum:\n",
    "            maximum = flux[thelist[k]]\n",
    "            max_index = k\n",
    "    return max_index\n",
    "\n",
    "def has_peak_in_range(wave,flux,prom,wid,minwave,maxwave):\n",
    "    \"\"\"Find a peak (local maximum) in flux vs. wavelength within some wavelength range.\n",
    "    \n",
    "    Parameters\n",
    "    ----------\n",
    "    wave : ndarray\n",
    "        Array of input wavelengths in a spectrum.\n",
    "    \n",
    "    flux : ndarray\n",
    "        Flux values in a spectrum.\n",
    "    \n",
    "    prom : float\n",
    "        Topological prominence of the local maximum to find (threshold/cut value).\n",
    "    \n",
    "    wid : int or float\n",
    "        Minimum width (in pixels) identifying a peak.\n",
    "    \n",
    "    minwave : float\n",
    "        Minimum wavelength in search range.\n",
    "    \n",
    "    maxwave : float\n",
    "        Maximum wavelength in search range.\n",
    "    \n",
    "    Returns\n",
    "    -------\n",
    "    best_peak : int\n",
    "        Index of the best-fit peak.\n",
    "    best_width : float\n",
    "        Width of the best-fit peak.\n",
    "    \"\"\"\n",
    "    # rest wavelength in angstroms, arbitrary flux\n",
    "    good_peaks = []\n",
    "    good_widths = []\n",
    "    peaks, widths = scipy.signal.find_peaks(flux, prominence = prom, width = wid)\n",
    "    widths = widths[\"widths\"]\n",
    "    best_peak = None\n",
    "    best_width = 0\n",
    "    if len(peaks) != 0:\n",
    "        for k in range(len(peaks)):\n",
    "            if (minwave <= wave[peaks[k]]):\n",
    "                if (wave[peaks[k]] <= maxwave):\n",
    "                    good_peaks.append(peaks[k])\n",
    "                    good_widths.append(widths[k])\n",
    "        if good_peaks == []:\n",
    "            return best_peak, best_width\n",
    "        max_index = sub_list_into_max(good_peaks,flux)\n",
    "        best_peak = good_peaks[max_index]\n",
    "        best_width = good_widths[max_index]\n",
    "        return best_peak, best_width\n",
    "    else:\n",
    "        return best_peak, best_width\n",
    "    \n",
    "def snip_data_near_peak(wave,flux,good_peak,good_width):\n",
    "    \"\"\"Given a peak, select a data range for performing a Gaussian fit.\n",
    "    \n",
    "    Parameters\n",
    "    ----------\n",
    "    wave : ndarray\n",
    "        Array of input wavelengths in a spectrum.\n",
    "    \n",
    "    flux : ndarray\n",
    "        Flux values in a spectrum.\n",
    "    \n",
    "    good_peak : int\n",
    "        Index (in wave/flux arrays) of peak being fit.\n",
    "    \n",
    "    good_width : float\n",
    "        Width of peak being fit.\n",
    "    \n",
    "    Returns\n",
    "    -------\n",
    "    snipped_wave : ndarray\n",
    "        Selected wavelength range around the peak.\n",
    "    snipped_flux : ndarray\n",
    "        Selected flux values around the peak.\n",
    "    \"\"\"\n",
    "    peak_edge = math.floor(2.2*(good_width))\n",
    "    try:\n",
    "        snipped_wave = wave[good_peak-peak_edge:good_peak+peak_edge]\n",
    "        snipped_flux = flux[good_peak-peak_edge:good_peak+peak_edge]\n",
    "    except:\n",
    "        if (good_peak - peak_edge) < 0:\n",
    "            snipped_wave = wave[0:good_peak+peak_edge]\n",
    "            snipped_flux = flux[0:good_peak+peak_edge]\n",
    "        else:\n",
    "            snipped_wave = wave[good_peak - peak_edge:len(wave)-1]\n",
    "            snipped_flux = flux[good_peak - peak_edge:len(wave)-1]\n",
    "    return snipped_wave,snipped_flux\n",
    "\n",
    "def fit_gaussian_to_peak(wave,flux,good_peak,good_width):\n",
    "    \"\"\"Fit 1D Gaussian to a subselection of a spectrum using a Levenberg-Marquardt minimization.\n",
    "    \n",
    "    Parameters\n",
    "    ----------\n",
    "    wave : ndarray\n",
    "        Array of input wavelengths in a spectrum.\n",
    "    \n",
    "    flux : ndarray\n",
    "        Flux values in a spectrum.\n",
    "    \n",
    "    good_peak : int\n",
    "        Index (in wave/flux arrays) of peak being fit.\n",
    "    \n",
    "    good_width : float\n",
    "        Width of peak being fit.\n",
    "    \n",
    "    Returns\n",
    "    -------\n",
    "    params : list\n",
    "        List of best-fit 1D Gaussian parameters (xrange, offset, norm, loc, width).\n",
    "    \"\"\"\n",
    "    \n",
    "    snipped_wave, snipped_flux = snip_data_near_peak(wave,flux,good_peak,good_width)\n",
    "    params, _ = curve_fit(gauss2, snipped_wave, snipped_flux,p0=[prom,max(snipped_flux),wave[good_peak],wid])\n",
    "    return params #xrange, offset, height, average, width\n",
    "\n",
    "def is_TDE(he_params,o_params,h_params):\n",
    "    \"\"\"\n",
    "    Parameters\n",
    "    ----------\n",
    "    he_params : list\n",
    "        wrange, offset, norm, loc, width of He II line.\n",
    "    o_params : list\n",
    "        wrange, offset, norm, loc, width of O III line.\n",
    "    h_params : list\n",
    "        wrange, offset, norm, loc, width of Halpha line.\n",
    "    \n",
    "    Returns\n",
    "    -------\n",
    "    is_tde : bool\n",
    "        If true, sufficient features present for a TDE classification.\n",
    "    \"\"\"\n",
    "    if he_params == []:\n",
    "        return False\n",
    "    elif h_params == []:\n",
    "        return False\n",
    "    line_ratio = he_params[1]/h_params[1]\n",
    "    o_ratio = o_params[1]/h_params[1]\n",
    "    if line_ratio == []:\n",
    "        return False\n",
    "    if line_ratio >= 0.9:\n",
    "        print(line_ratio)\n",
    "        if o_ratio <= 0.1:\n",
    "            return True\n",
    "        elif o_params == []:\n",
    "            return True\n",
    "        return False\n",
    "    return False"
   ]
  },
  {
   "cell_type": "markdown",
   "id": "e8403bd1-b1a9-4fd4-a384-72150166fd80",
   "metadata": {},
   "source": [
    "# Test to see if the code works for DESI data"
   ]
  },
  {
   "cell_type": "code",
   "execution_count": 13,
   "id": "98fb4506-402f-4500-87fc-edf342910631",
   "metadata": {},
   "outputs": [
    {
     "ename": "SyntaxError",
     "evalue": "invalid syntax (<ipython-input-13-bf1f8730de66>, line 29)",
     "output_type": "error",
     "traceback": [
      "\u001b[0;36m  File \u001b[0;32m\"<ipython-input-13-bf1f8730de66>\"\u001b[0;36m, line \u001b[0;32m29\u001b[0m\n\u001b[0;31m    if\u001b[0m\n\u001b[0m      ^\u001b[0m\n\u001b[0;31mSyntaxError\u001b[0m\u001b[0;31m:\u001b[0m invalid syntax\n"
     ]
    }
   ],
   "source": [
    "total = sum(select)\n",
    "prom  = 0\n",
    "wid = 0\n",
    "\n",
    "for j in range(sum(select)):\n",
    "    targetid = spectra.fibermap[select][j]['TARGETID']\n",
    "    z = spectra.extra_catalog[select][j]['Z']\n",
    "    smoothed = []\n",
    "    restwave = []\n",
    "    good_he_peaks = []\n",
    "    good_o_peaks = []\n",
    "    good_h_peaks = []\n",
    "    good_he_widths = []\n",
    "    good_o_widths = []\n",
    "    good_h_widths = []\n",
    "    for band in spectra.bands:\n",
    "        smoothed.append(gaussian_filter1d(spectra.flux[band][select][j], 5))\n",
    "        restwave.append(spectra.wave[band]/(1+z))\n",
    "    for k in range(len(smoothed)):\n",
    "        he_peaks,he_widths = has_peak_in_range(restwave[k],smoothed[k],prom,wid,4670,4700)\n",
    "        o_peaks,o_widths = has_peak_in_range(restwave[k],smoothed[k],prom,wid,4992,5022)\n",
    "        h_peaks,h_widths = has_peak_in_range(restwave[k],smoothed[k],prom,wid,6540,6570)\n",
    "        good_he_peaks.extend(he_peaks)\n",
    "        good_o_peaks.extend(o_peaks)\n",
    "        good_h_peaks.extend(h_peaks)\n",
    "        good_he_widths.extend(he_widths)\n",
    "        good_o_widths.extend(o_widths)\n",
    "        good_h_widths.extend(h_widths)\n",
    "    if\n",
    "        for k in range(len(smoothed)):\n",
    "            he_params = fit_gaussian_to_peak(restwave,smoothed[k],good_he_peaks,good_he_widths)\n",
    "            o_params = fit_gaussian_to_peak(restwave,smoothed[k],good_o_peaks,good_o_widths)\n",
    "            h_params = fit_gaussian_to_peak(restwave,smoothed[k],good_h_peaks,good_h_widths)\n",
    "        if he_params == []:\n",
    "            pass\n",
    "        elif h_params == []:\n",
    "            pass\n",
    "        else:\n",
    "            result = is_TDE(he_params,o_params,h_params)\n",
    "\n",
    "            if result is True:\n",
    "                print(targetid)"
   ]
  },
  {
   "cell_type": "markdown",
   "id": "8215b2ff-fd10-44f3-bc98-3509b12fc9fa",
   "metadata": {},
   "source": [
    "# Test on TDE.space data"
   ]
  },
  {
   "cell_type": "markdown",
   "id": "fa8bef01-cd7c-410a-b41d-cc467c29e0df",
   "metadata": {},
   "source": [
    "### iPTF16axa from ApJ Screenshot (!)"
   ]
  },
  {
   "cell_type": "code",
   "execution_count": null,
   "id": "ef261816-4552-4912-b2e4-3d692f75f50e",
   "metadata": {},
   "outputs": [],
   "source": [
    "dct0613 = Table.read('DCT_0613.csv', names=['wave', 'flux'])\n",
    "wave = dct0613['wave']\n",
    "flux = dct0613['flux']\n",
    "\n",
    "fig, axes = plt.subplots(1,3, figsize=(14,4), tight_layout=True)\n",
    "\n",
    "ax = axes[0]\n",
    "ax.plot(wave, flux)\n",
    "ax.set(xlabel='$\\lambda$ [$\\AA$]',\n",
    "       ylabel='flux [a.u.]');\n",
    "\n",
    "ax = axes[1]\n",
    "ax.plot(wave, wave*flux)\n",
    "ax.set(xlabel='$\\lambda$ [$\\AA$]',\n",
    "       ylabel='$\\lambda F_\\lambda$ [a.u.]');\n",
    "\n",
    "ax = axes[2]\n",
    "ax.hist(wave, bins=6, weights=wave*flux, log=True)\n",
    "ax.set(xlabel='$\\lambda$ [$\\AA$]',\n",
    "       ylabel='$\\lambda F_\\lambda$ [a.u.]');"
   ]
  },
  {
   "cell_type": "code",
   "execution_count": null,
   "id": "fea163aa-8841-4d6b-966d-8f4d0dfeb80a",
   "metadata": {},
   "outputs": [],
   "source": [
    "wave = []\n",
    "flux = []\n",
    "new_flux = []\n",
    "restwave = []\n",
    "file = open('samplePaperTDE.txt', 'r')\n",
    "\n",
    "prom  = 0\n",
    "wid = 0\n",
    "z = 0.043671\n",
    "\n",
    "for line in file.readlines():\n",
    "    currentline = line.rstrip().split(\"\")\n",
    "    wave.append(float(currentline[0]))\n",
    "    flux.append(float(currentline[1]))\n",
    "for k in range(len(flux)):\n",
    "    new_flux.append(flux[k]*math.pow(10.0,16.0))\n",
    "    restwave.append(wave[k]/(1+z))\n",
    "smoothed = [gaussian_filter1d(new_flux, 5)]\n",
    "good_he_peaks = []\n",
    "good_o_peaks = []\n",
    "good_h_peaks = []\n",
    "good_he_widths = []\n",
    "good_o_widths = []\n",
    "good_h_widths = []\n",
    "he_params = []\n",
    "o_params = []\n",
    "h_params = []\n",
    "\n",
    "for k in range(len(smoothed)):\n",
    "    he_peaks,he_widths = has_peak_in_range(restwave,smoothed[k],prom,wid,4670,4700)\n",
    "    o_peaks,o_widths = has_peak_in_range(restwave,smoothed[k],prom,wid,4992,5022)\n",
    "    h_peaks,h_widths = has_peak_in_range(restwave,smoothed[k],prom,wid,6540,6570)\n",
    "    good_he_peaks.extend(he_peaks)\n",
    "    good_o_peaks.extend(o_peaks)\n",
    "    good_h_peaks.extend(h_peaks)\n",
    "    good_he_widths.extend(he_widths)\n",
    "    good_o_widths.extend(o_widths)\n",
    "    good_h_widths.extend(h_widths)\n",
    "\n",
    "for k in range(len(smoothed)):\n",
    "    for j in range(len(good_he_peaks)):\n",
    "        he_params.append(fit_gaussian_to_peak(restwave,smoothed[k],good_he_peaks[j],good_he_widths[j]))\n",
    "    for j in range(len(good_o_peaks)):\n",
    "        o_params.append(fit_gaussian_to_peak(restwave,smoothed[k],good_o_peaks[j],good_o_widths[j]))\n",
    "    for j in range(len(good_h_peaks)):\n",
    "        h_params.append(fit_gaussian_to_peak(restwave,smoothed[k],good_h_peaks[j],good_h_widths[j]))\n",
    "\n",
    "if he_params == []:\n",
    "    pass\n",
    "elif h_params == []:\n",
    "    pass\n",
    "else:\n",
    "    result = is_TDE(he_params,o_params,h_params)\n",
    "\n",
    "    if result is True:\n",
    "        print('It is a TDE!')\n",
    "plt.plot(restwave,new_flux)"
   ]
  },
  {
   "cell_type": "code",
   "execution_count": null,
   "id": "dde66d0c-d111-4a6e-a34f-bc2a1390c86b",
   "metadata": {},
   "outputs": [],
   "source": [
    "lambda_F = []\n",
    "\n",
    "for k in range(len(restwave)):\n",
    "    lambda_F.append(new_flux[k]*restwave[k])\n"
   ]
  },
  {
   "cell_type": "code",
   "execution_count": null,
   "id": "63f00415-5ace-4acd-aa42-d5629bdeb592",
   "metadata": {},
   "outputs": [],
   "source": [
    "\n",
    "plt.plot(restwave,lambda_F)"
   ]
  },
  {
   "cell_type": "code",
   "execution_count": null,
   "id": "f7ad27f6-7f7f-4420-bb51-57b47b48495d",
   "metadata": {},
   "outputs": [],
   "source": [
    "nbins = 30\n",
    "\n",
    "n, _ = np.histogram(restwave, bins=nbins)\n",
    "sy, _ = np.histogram(restwave, bins=nbins, weights=lambda_F)\n",
    "sy2, _ = np.histogram(restwave, bins=nbins, weights=np.multiply(lambda_F,lambda_F))\n",
    "average = sy/n\n",
    "std = np.sqrt(sy2/n - average*average)\n",
    "\n",
    "plt.plot(restwave, lambda_F, 'bo')\n",
    "plt.errorbar((_[1:] + _[:-1])/2, average, yerr=std, fmt='r-')\n",
    "plt.show()"
   ]
  },
  {
   "cell_type": "code",
   "execution_count": null,
   "id": "06f97339-c094-4e43-84ad-6467cd75ce5e",
   "metadata": {},
   "outputs": [],
   "source": []
  }
 ],
 "metadata": {
  "kernelspec": {
   "display_name": "DESI master",
   "language": "python",
   "name": "desi-master"
  },
  "language_info": {
   "codemirror_mode": {
    "name": "ipython",
    "version": 3
   },
   "file_extension": ".py",
   "mimetype": "text/x-python",
   "name": "python",
   "nbconvert_exporter": "python",
   "pygments_lexer": "ipython3",
   "version": "3.8.3"
  },
  "toc-autonumbering": true
 },
 "nbformat": 4,
 "nbformat_minor": 5
}
