{
 "cells": [
  {
   "cell_type": "markdown",
   "id": "029a3915-ff06-410b-8728-5db7636d9b8b",
   "metadata": {},
   "source": [
    "# Simple TDE Filter\n",
    "\n",
    "Search for several broad line emission features characteristic of TDE spectra and select object with all or several of those features. Examples:\n",
    "1. H$\\alpha$ emission.\n",
    "1. O III $\\lambda5007$ line.\n",
    "1. He II $\\lambda4800$ line.\n",
    "1. etc."
   ]
  },
  {
   "cell_type": "code",
   "execution_count": 1,
   "id": "31577aff-b8e1-4c99-a547-eba327480802",
   "metadata": {},
   "outputs": [],
   "source": [
    "import os\n",
    "from glob import glob      # This is used for \"wildcard\" searches of folders.\n",
    "\n",
    "from astropy.table import Table\n",
    "\n",
    "from desispec.io import read_spectra\n",
    "from desispec.spectra import stack as specstack\n",
    "\n",
    "import numpy as np\n",
    "import matplotlib as mpl\n",
    "import matplotlib.pyplot as plt\n",
    "import scipy.signal\n",
    "from scipy.ndimage import gaussian_filter1d\n",
    "from scipy.stats import norm\n",
    "import matplotlib.pyplot as plt\n",
    "from scipy.optimize import curve_fit\n",
    "import math\n",
    "import statistics\n",
    "\n",
    "import sys\n",
    "\n",
    "\n"
   ]
  },
  {
   "cell_type": "markdown",
   "id": "ddb002c1-0920-4c3d-9d44-2cecbed22051",
   "metadata": {},
   "source": [
    "## Access to Tile ToO from JuTy 2021\n",
    "\n",
    "This is a dummy data set we'll use as a sandbox to test the TDE filter."
   ]
  },
  {
   "cell_type": "code",
   "execution_count": 2,
   "id": "a376c1aa-cc8d-4f2d-8eed-41632b9e000a",
   "metadata": {},
   "outputs": [
    {
     "name": "stdout",
     "output_type": "stream",
     "text": [
      "INFO:spectra.py:282:read_spectra: iotime 0.991 sec to read coadd-0-80980-thru20210708.fits at 2021-08-16T12:15:10.312297\n",
      "INFO:spectra.py:282:read_spectra: iotime 0.936 sec to read coadd-1-80980-thru20210708.fits at 2021-08-16T12:15:11.788345\n",
      "INFO:spectra.py:282:read_spectra: iotime 0.863 sec to read coadd-2-80980-thru20210708.fits at 2021-08-16T12:15:15.201834\n",
      "INFO:spectra.py:282:read_spectra: iotime 0.792 sec to read coadd-3-80980-thru20210708.fits at 2021-08-16T12:15:18.956340\n",
      "INFO:spectra.py:282:read_spectra: iotime 0.951 sec to read coadd-4-80980-thru20210708.fits at 2021-08-16T12:15:24.111399\n",
      "INFO:spectra.py:282:read_spectra: iotime 0.973 sec to read coadd-5-80980-thru20210708.fits at 2021-08-16T12:15:29.874931\n",
      "INFO:spectra.py:282:read_spectra: iotime 0.959 sec to read coadd-6-80980-thru20210708.fits at 2021-08-16T12:15:36.847794\n",
      "INFO:spectra.py:282:read_spectra: iotime 0.862 sec to read coadd-7-80980-thru20210708.fits at 2021-08-16T12:15:46.151658\n",
      "INFO:spectra.py:282:read_spectra: iotime 1.064 sec to read coadd-8-80980-thru20210708.fits at 2021-08-16T12:15:55.691362\n",
      "INFO:spectra.py:282:read_spectra: iotime 0.899 sec to read coadd-9-80980-thru20210708.fits at 2021-08-16T12:16:07.661764\n",
      "INFO:spectra.py:282:read_spectra: iotime 0.807 sec to read coadd-0-80981-thru20210708.fits at 2021-08-16T12:16:18.424251\n",
      "INFO:spectra.py:282:read_spectra: iotime 0.912 sec to read coadd-1-80981-thru20210708.fits at 2021-08-16T12:16:29.366641\n",
      "INFO:spectra.py:282:read_spectra: iotime 0.825 sec to read coadd-2-80981-thru20210708.fits at 2021-08-16T12:16:41.538814\n",
      "INFO:spectra.py:282:read_spectra: iotime 0.977 sec to read coadd-3-80981-thru20210708.fits at 2021-08-16T12:16:55.343607\n",
      "INFO:spectra.py:282:read_spectra: iotime 0.890 sec to read coadd-4-80981-thru20210708.fits at 2021-08-16T12:17:09.162362\n",
      "INFO:spectra.py:282:read_spectra: iotime 0.971 sec to read coadd-5-80981-thru20210708.fits at 2021-08-16T12:17:24.326562\n",
      "INFO:spectra.py:282:read_spectra: iotime 0.923 sec to read coadd-6-80981-thru20210708.fits at 2021-08-16T12:17:41.835921\n",
      "INFO:spectra.py:282:read_spectra: iotime 0.927 sec to read coadd-7-80981-thru20210708.fits at 2021-08-16T12:17:59.223700\n",
      "INFO:spectra.py:282:read_spectra: iotime 0.940 sec to read coadd-8-80981-thru20210708.fits at 2021-08-16T12:18:15.021731\n",
      "INFO:spectra.py:282:read_spectra: iotime 0.837 sec to read coadd-9-80981-thru20210708.fits at 2021-08-16T12:18:31.413021\n"
     ]
    }
   ],
   "source": [
    "redux = 'daily/tiles/cumulative'\n",
    "basedir = os.environ['DESI_SPECTRO_REDUX']\n",
    "\n",
    "tiles = ['80980', '80981']\n",
    "tiledate = '20210708'\n",
    "\n",
    "spectra = None\n",
    "# Loop over all tiles in our tile list.\n",
    "for tile in tiles:\n",
    "    tilefolder = '{}/{}/{}/{}'.format(basedir, redux, tile, tiledate)\n",
    "    coadds = sorted(glob('{}/coadd*.fits'.format(tilefolder)))\n",
    "    \n",
    "    # Loop over all petals in the spectroscopic reduction.\n",
    "    for coadd in coadds:\n",
    "        # Read the spectra and the best-fit redshifts from redrock and combine into one stack of spectra.\n",
    "        spec = read_spectra(coadd)\n",
    "        zbest_files = coadd.replace('coadd', 'zbest')\n",
    "        zbest = Table.read(zbest_files, 'ZBEST')\n",
    "        spec.extra_catalog = zbest\n",
    "\n",
    "        # Accumulate spectra from all petals into one object, \"spectra.\"\n",
    "        if spectra is None:\n",
    "            spectra = spec\n",
    "        else:\n",
    "            spectra = specstack([spectra, spec])\n",
    "            \n",
    "zbest = spectra.extra_catalog\n"
   ]
  },
  {
   "cell_type": "markdown",
   "id": "10287603-cb71-4c9d-9810-f49dbc1bc4f5",
   "metadata": {},
   "source": [
    "### Select Quality Redshifts\n",
    "\n",
    "Select spectra with good redshifts according to redrock. We'll use this to move to the objects' restframes and look for TDE-like spectra lines."
   ]
  },
  {
   "cell_type": "code",
   "execution_count": 3,
   "id": "cb1c9601-1c4d-4dce-8ce6-2d060c76493a",
   "metadata": {},
   "outputs": [],
   "source": [
    "select = (zbest['DELTACHI2']>25) & (zbest['ZWARN']==0) & (zbest['Z']<=0.75)"
   ]
  },
  {
   "cell_type": "markdown",
   "id": "c16d50ee-52a3-4987-a3f1-1fb7325ab444",
   "metadata": {},
   "source": [
    "## TDE Filtering Code"
   ]
  },
  {
   "cell_type": "code",
   "execution_count": 4,
   "id": "934b9d64-c10f-47c9-adff-df68851c83ae",
   "metadata": {},
   "outputs": [],
   "source": [
    "# Defining the most important parts of the peak finder algorithm.\n",
    "\n",
    "def gauss2(x, b, a, x0, sigma):\n",
    "    \"\"\"Implementation of 1D Gaussian with arbitrary normalization.\n",
    "    \n",
    "    Parameters\n",
    "    ----------\n",
    "    x : ndarray\n",
    "        List of independent values (ordinates) where we perform the fit.\n",
    "    b : float\n",
    "        Free parameter: constant offset.\n",
    "    a : float\n",
    "        Free parameter: normalization.\n",
    "    x0 : float\n",
    "        Location parameter of the Gaussian.\n",
    "    sigma : float\n",
    "        Scale parameter (width) of the Gaussian.\n",
    "    \n",
    "    Returns\n",
    "    -------\n",
    "    y : ndarray\n",
    "        Gaussian function N(x|a,b,x0,sigma) evaluated for all x.\n",
    "    \"\"\"\n",
    "    return b + (a * np.exp(-(x - x0) ** 2 / (2 * sigma ** 2)))\n",
    "    \n",
    "def sub_list_into_max(thelist, flux):\n",
    "    \"\"\"Basically, return arg max(flux[j]), where j indexes local maxima.\n",
    "    \n",
    "    Parameters\n",
    "    ----------\n",
    "    thelist : ndarray of int\n",
    "        Index of values used to search.\n",
    "    flux : ndarray of float\n",
    "        List of local maxima in the flux.\n",
    "    \n",
    "    Returns\n",
    "    -------\n",
    "    argmax : int\n",
    "        Index of the global maximum out of the list of local maxima.\n",
    "    \"\"\"\n",
    "    maximum = 0\n",
    "    max_index = 0\n",
    "    for k in range(len(thelist)):\n",
    "        if flux[thelist[k]] > maximum:\n",
    "            maximum = flux[thelist[k]]\n",
    "            max_index = k\n",
    "    return max_index\n",
    "\n",
    "def has_peak_in_range(wave,flux,prom,wid,minwave,maxwave):\n",
    "    \"\"\"Find a peak (local maximum) in flux vs. wavelength within some wavelength range.\n",
    "    \n",
    "    Parameters\n",
    "    ----------\n",
    "    wave : ndarray\n",
    "        Array of input wavelengths in a spectrum.\n",
    "    \n",
    "    flux : ndarray\n",
    "        Flux values in a spectrum.\n",
    "    \n",
    "    prom : float\n",
    "        Topological prominence of the local maximum to find (threshold/cut value).\n",
    "    \n",
    "    wid : int or float\n",
    "        Minimum width (in pixels) identifying a peak.\n",
    "    \n",
    "    minwave : float\n",
    "        Minimum wavelength in search range.\n",
    "    \n",
    "    maxwave : float\n",
    "        Maximum wavelength in search range.\n",
    "    \n",
    "    Returns\n",
    "    -------\n",
    "    best_peak : int\n",
    "        Index of the best-fit peak.\n",
    "    best_width : float\n",
    "        Width of the best-fit peak.\n",
    "    \"\"\"\n",
    "    # rest wavelength in angstroms, arbitrary flux\n",
    "    good_peaks = []\n",
    "    good_widths = []\n",
    "    peaks, widths = scipy.signal.find_peaks(flux, prominence = prom, width = wid)\n",
    "    widths = widths[\"widths\"]\n",
    "    best_peak = None\n",
    "    best_width = 0\n",
    "    if len(peaks) != 0:\n",
    "        for k in range(len(peaks)):\n",
    "            if (minwave <= wave[peaks[k]]):\n",
    "                if (wave[peaks[k]] <= maxwave):\n",
    "                    good_peaks.append(peaks[k])\n",
    "                    good_widths.append(widths[k])\n",
    "        if good_peaks == []:\n",
    "            return best_peak, best_width\n",
    "        max_index = sub_list_into_max(good_peaks,flux)\n",
    "        best_peak = good_peaks[max_index]\n",
    "        best_width = good_widths[max_index]\n",
    "        return best_peak, best_width\n",
    "    else:\n",
    "        return best_peak, best_width\n",
    "    \n",
    "def snip_data_near_peak(wave,flux,good_peak,good_width):\n",
    "    \"\"\"Given a peak, select a data range for performing a Gaussian fit.\n",
    "    \n",
    "    Parameters\n",
    "    ----------\n",
    "    wave : ndarray\n",
    "        Array of input wavelengths in a spectrum.\n",
    "    \n",
    "    flux : ndarray\n",
    "        Flux values in a spectrum.\n",
    "    \n",
    "    good_peak : int\n",
    "        Index (in wave/flux arrays) of peak being fit.\n",
    "    \n",
    "    good_width : float\n",
    "        Width of peak being fit.\n",
    "    \n",
    "    Returns\n",
    "    -------\n",
    "    snipped_wave : ndarray\n",
    "        Selected wavelength range around the peak.\n",
    "    snipped_flux : ndarray\n",
    "        Selected flux values around the peak.\n",
    "    \"\"\"\n",
    "    peak_edge = math.floor(2.2*(good_width))\n",
    "    try:\n",
    "        snipped_wave = wave[good_peak-peak_edge:good_peak+peak_edge]\n",
    "        snipped_flux = flux[good_peak-peak_edge:good_peak+peak_edge]\n",
    "    except:\n",
    "        if (good_peak - peak_edge) < 0:\n",
    "            snipped_wave = wave[0:good_peak+peak_edge]\n",
    "            snipped_flux = flux[0:good_peak+peak_edge]\n",
    "        else:\n",
    "            snipped_wave = wave[good_peak - peak_edge:len(wave)-1]\n",
    "            snipped_flux = flux[good_peak - peak_edge:len(wave)-1]\n",
    "    return snipped_wave,snipped_flux\n",
    "\n",
    "def fit_gaussian_to_peak(wave,flux,good_peak,good_width):\n",
    "    \"\"\"Fit 1D Gaussian to a subselection of a spectrum using a Levenberg-Marquardt minimization.\n",
    "    \n",
    "    Parameters\n",
    "    ----------\n",
    "    wave : ndarray\n",
    "        Array of input wavelengths in a spectrum.\n",
    "    \n",
    "    flux : ndarray\n",
    "        Flux values in a spectrum.\n",
    "    \n",
    "    good_peak : int\n",
    "        Index (in wave/flux arrays) of peak being fit.\n",
    "    \n",
    "    good_width : float\n",
    "        Width of peak being fit.\n",
    "    \n",
    "    Returns\n",
    "    -------\n",
    "    params : list\n",
    "        List of best-fit 1D Gaussian parameters (xrange, offset, norm, loc, width).\n",
    "    \"\"\"\n",
    "    \n",
    "    snipped_wave, snipped_flux = snip_data_near_peak(wave,flux,good_peak,good_width)\n",
    "    params, _ = curve_fit(gauss2, snipped_wave, snipped_flux,p0=[prom,max(snipped_flux),wave[good_peak],wid])\n",
    "    return params #xrange, offset, height, average, width\n",
    "\n",
    "def is_TDE(he_params,o_params,h_params):\n",
    "    \"\"\"\n",
    "    Parameters\n",
    "    ----------\n",
    "    he_params : list\n",
    "        wrange, offset, norm, loc, width of He II line.\n",
    "    o_params : list\n",
    "        wrange, offset, norm, loc, width of O III line.\n",
    "    h_params : list\n",
    "        wrange, offset, norm, loc, width of Halpha line.\n",
    "    \n",
    "    Returns\n",
    "    -------\n",
    "    is_tde : bool\n",
    "        If true, sufficient features present for a TDE classification.\n",
    "    \"\"\"\n",
    "    if he_params == []:\n",
    "        return False\n",
    "    elif h_params == []:\n",
    "        return False\n",
    "    line_ratio = he_params[1]/h_params[1]\n",
    "    o_ratio = o_params[1]/h_params[1]\n",
    "    if line_ratio == []:\n",
    "        return False\n",
    "    if line_ratio >= 0.9:\n",
    "        print(line_ratio)\n",
    "        if o_ratio <= 0.1:\n",
    "            return True\n",
    "        elif o_params == []:\n",
    "            return True\n",
    "        return False\n",
    "    return False"
   ]
  },
  {
   "cell_type": "markdown",
   "id": "e8403bd1-b1a9-4fd4-a384-72150166fd80",
   "metadata": {},
   "source": [
    "# Test to see if the code works for DESI data"
   ]
  },
  {
   "cell_type": "code",
   "execution_count": 5,
   "id": "98fb4506-402f-4500-87fc-edf342910631",
   "metadata": {},
   "outputs": [
    {
     "ename": "SyntaxError",
     "evalue": "invalid syntax (<ipython-input-5-bf1f8730de66>, line 29)",
     "output_type": "error",
     "traceback": [
      "\u001b[0;36m  File \u001b[0;32m\"<ipython-input-5-bf1f8730de66>\"\u001b[0;36m, line \u001b[0;32m29\u001b[0m\n\u001b[0;31m    if\u001b[0m\n\u001b[0m      ^\u001b[0m\n\u001b[0;31mSyntaxError\u001b[0m\u001b[0;31m:\u001b[0m invalid syntax\n"
     ]
    }
   ],
   "source": [
    "total = sum(select)\n",
    "prom  = 0\n",
    "wid = 0\n",
    "\n",
    "for j in range(sum(select)):\n",
    "    targetid = spectra.fibermap[select][j]['TARGETID']\n",
    "    z = spectra.extra_catalog[select][j]['Z']\n",
    "    smoothed = []\n",
    "    restwave = []\n",
    "    good_he_peaks = []\n",
    "    good_o_peaks = []\n",
    "    good_h_peaks = []\n",
    "    good_he_widths = []\n",
    "    good_o_widths = []\n",
    "    good_h_widths = []\n",
    "    for band in spectra.bands:\n",
    "        smoothed.append(gaussian_filter1d(spectra.flux[band][select][j], 5))\n",
    "        restwave.append(spectra.wave[band]/(1+z))\n",
    "    for k in range(len(smoothed)):\n",
    "        he_peaks,he_widths = has_peak_in_range(restwave[k],smoothed[k],prom,wid,4670,4700)\n",
    "        o_peaks,o_widths = has_peak_in_range(restwave[k],smoothed[k],prom,wid,4992,5022)\n",
    "        h_peaks,h_widths = has_peak_in_range(restwave[k],smoothed[k],prom,wid,6540,6570)\n",
    "        good_he_peaks.extend(he_peaks)\n",
    "        good_o_peaks.extend(o_peaks)\n",
    "        good_h_peaks.extend(h_peaks)\n",
    "        good_he_widths.extend(he_widths)\n",
    "        good_o_widths.extend(o_widths)\n",
    "        good_h_widths.extend(h_widths)\n",
    "    if\n",
    "        for k in range(len(smoothed)):\n",
    "            he_params = fit_gaussian_to_peak(restwave,smoothed[k],good_he_peaks,good_he_widths)\n",
    "            o_params = fit_gaussian_to_peak(restwave,smoothed[k],good_o_peaks,good_o_widths)\n",
    "            h_params = fit_gaussian_to_peak(restwave,smoothed[k],good_h_peaks,good_h_widths)\n",
    "        if he_params == []:\n",
    "            pass\n",
    "        elif h_params == []:\n",
    "            pass\n",
    "        else:\n",
    "            result = is_TDE(he_params,o_params,h_params)\n",
    "\n",
    "            if result is True:\n",
    "                print(targetid)"
   ]
  },
  {
   "cell_type": "markdown",
   "id": "8215b2ff-fd10-44f3-bc98-3509b12fc9fa",
   "metadata": {},
   "source": [
    "# Test on TDE.space data"
   ]
  },
  {
   "cell_type": "markdown",
   "id": "fa8bef01-cd7c-410a-b41d-cc467c29e0df",
   "metadata": {},
   "source": [
    "### iPTF16axa from ApJ Screenshot (!)"
   ]
  },
  {
   "cell_type": "code",
   "execution_count": 6,
   "id": "ef261816-4552-4912-b2e4-3d692f75f50e",
   "metadata": {},
   "outputs": [
    {
     "data": {
      "image/png": "[encoded data removed]",
      "text/plain": [
       "<Figure size 1008x288 with 3 Axes>"
      ]
     },
     "metadata": {
      "needs_background": "light"
     },
     "output_type": "display_data"
    }
   ],
   "source": [
    "dct0613 = Table.read('DCT_0613.csv', names=['wave', 'flux'])\n",
    "wave = dct0613['wave']\n",
    "flux = dct0613['flux']\n",
    "\n",
    "fig, axes = plt.subplots(1,3, figsize=(14,4), tight_layout=True)\n",
    "\n",
    "ax = axes[0]\n",
    "ax.plot(wave, flux)\n",
    "ax.set(xlabel='$\\lambda$ [$\\AA$]',\n",
    "       ylabel='flux [a.u.]');\n",
    "\n",
    "ax = axes[1]\n",
    "ax.plot(wave, wave*flux)\n",
    "ax.set(xlabel='$\\lambda$ [$\\AA$]',\n",
    "       ylabel='$\\lambda F_\\lambda$ [a.u.]');\n",
    "\n",
    "ax = axes[2]\n",
    "ax.hist(wave, bins=6, weights=wave*flux, log=True)\n",
    "ax.set(xlabel='$\\lambda$ [$\\AA$]',\n",
    "       ylabel='$\\lambda F_\\lambda$ [a.u.]');"
   ]
  },
  {
   "cell_type": "code",
   "execution_count": 10,
   "id": "fea163aa-8841-4d6b-966d-8f4d0dfeb80a",
   "metadata": {},
   "outputs": [
    {
     "ename": "ValueError",
     "evalue": "empty separator",
     "output_type": "error",
     "traceback": [
      "\u001b[0;31m---------------------------------------------------------------------------\u001b[0m",
      "\u001b[0;31mValueError\u001b[0m                                Traceback (most recent call last)",
      "\u001b[0;32m<ipython-input-10-c48890be7a8b>\u001b[0m in \u001b[0;36m<module>\u001b[0;34m\u001b[0m\n\u001b[1;32m     10\u001b[0m \u001b[0;34m\u001b[0m\u001b[0m\n\u001b[1;32m     11\u001b[0m \u001b[0;32mfor\u001b[0m \u001b[0mline\u001b[0m \u001b[0;32min\u001b[0m \u001b[0mfile\u001b[0m\u001b[0;34m.\u001b[0m\u001b[0mreadlines\u001b[0m\u001b[0;34m(\u001b[0m\u001b[0;34m)\u001b[0m\u001b[0;34m:\u001b[0m\u001b[0;34m\u001b[0m\u001b[0;34m\u001b[0m\u001b[0m\n\u001b[0;32m---> 12\u001b[0;31m     \u001b[0mcurrentline\u001b[0m \u001b[0;34m=\u001b[0m \u001b[0mline\u001b[0m\u001b[0;34m.\u001b[0m\u001b[0mrstrip\u001b[0m\u001b[0;34m(\u001b[0m\u001b[0;34m)\u001b[0m\u001b[0;34m.\u001b[0m\u001b[0msplit\u001b[0m\u001b[0;34m(\u001b[0m\u001b[0;34m\"\"\u001b[0m\u001b[0;34m)\u001b[0m\u001b[0;34m\u001b[0m\u001b[0;34m\u001b[0m\u001b[0m\n\u001b[0m\u001b[1;32m     13\u001b[0m     \u001b[0mwave\u001b[0m\u001b[0;34m.\u001b[0m\u001b[0mappend\u001b[0m\u001b[0;34m(\u001b[0m\u001b[0mfloat\u001b[0m\u001b[0;34m(\u001b[0m\u001b[0mcurrentline\u001b[0m\u001b[0;34m[\u001b[0m\u001b[0;36m0\u001b[0m\u001b[0;34m]\u001b[0m\u001b[0;34m)\u001b[0m\u001b[0;34m)\u001b[0m\u001b[0;34m\u001b[0m\u001b[0;34m\u001b[0m\u001b[0m\n\u001b[1;32m     14\u001b[0m     \u001b[0mflux\u001b[0m\u001b[0;34m.\u001b[0m\u001b[0mappend\u001b[0m\u001b[0;34m(\u001b[0m\u001b[0mfloat\u001b[0m\u001b[0;34m(\u001b[0m\u001b[0mcurrentline\u001b[0m\u001b[0;34m[\u001b[0m\u001b[0;36m1\u001b[0m\u001b[0;34m]\u001b[0m\u001b[0;34m)\u001b[0m\u001b[0;34m)\u001b[0m\u001b[0;34m\u001b[0m\u001b[0;34m\u001b[0m\u001b[0m\n",
      "\u001b[0;31mValueError\u001b[0m: empty separator"
     ]
    }
   ],
   "source": [
    "wave = []\n",
    "flux = []\n",
    "new_flux = []\n",
    "restwave = []\n",
    "file = open('samplePaperTDE.txt', 'r')\n",
    "\n",
    "prom  = 0\n",
    "wid = 0\n",
    "z = 0.043671\n",
    "\n",
    "for line in file.readlines():\n",
    "    currentline = line.rstrip().split(\"\")\n",
    "    wave.append(float(currentline[0]))\n",
    "    flux.append(float(currentline[1]))\n",
    "for k in range(len(flux)):\n",
    "    new_flux.append(flux[k]*math.pow(10.0,16.0))\n",
    "    restwave.append(wave[k]/(1+z))\n",
    "smoothed = [gaussian_filter1d(new_flux, 5)]\n",
    "good_he_peaks = []\n",
    "good_o_peaks = []\n",
    "good_h_peaks = []\n",
    "good_he_widths = []\n",
    "good_o_widths = []\n",
    "good_h_widths = []\n",
    "he_params = []\n",
    "o_params = []\n",
    "h_params = []\n",
    "\n",
    "for k in range(len(smoothed)):\n",
    "    he_peaks,he_widths = has_peak_in_range(restwave,smoothed[k],prom,wid,4670,4700)\n",
    "    o_peaks,o_widths = has_peak_in_range(restwave,smoothed[k],prom,wid,4992,5022)\n",
    "    h_peaks,h_widths = has_peak_in_range(restwave,smoothed[k],prom,wid,6540,6570)\n",
    "    good_he_peaks.extend(he_peaks)\n",
    "    good_o_peaks.extend(o_peaks)\n",
    "    good_h_peaks.extend(h_peaks)\n",
    "    good_he_widths.extend(he_widths)\n",
    "    good_o_widths.extend(o_widths)\n",
    "    good_h_widths.extend(h_widths)\n",
    "\n",
    "for k in range(len(smoothed)):\n",
    "    for j in range(len(good_he_peaks)):\n",
    "        he_params.append(fit_gaussian_to_peak(restwave,smoothed[k],good_he_peaks[j],good_he_widths[j]))\n",
    "    for j in range(len(good_o_peaks)):\n",
    "        o_params.append(fit_gaussian_to_peak(restwave,smoothed[k],good_o_peaks[j],good_o_widths[j]))\n",
    "    for j in range(len(good_h_peaks)):\n",
    "        h_params.append(fit_gaussian_to_peak(restwave,smoothed[k],good_h_peaks[j],good_h_widths[j]))\n",
    "\n",
    "if he_params == []:\n",
    "    pass\n",
    "elif h_params == []:\n",
    "    pass\n",
    "else:\n",
    "    result = is_TDE(he_params,o_params,h_params)\n",
    "\n",
    "    if result is True:\n",
    "        print('It is a TDE!')\n",
    "plt.plot(restwave,new_flux)"
   ]
  },
  {
   "cell_type": "code",
   "execution_count": 8,
   "id": "dde66d0c-d111-4a6e-a34f-bc2a1390c86b",
   "metadata": {},
   "outputs": [],
   "source": [
    "lambda_F = []\n",
    "\n",
    "for k in range(len(restwave)):\n",
    "    lambda_F.append(new_flux[k]*restwave[k])\n"
   ]
  },
  {
   "cell_type": "code",
   "execution_count": 9,
   "id": "63f00415-5ace-4acd-aa42-d5629bdeb592",
   "metadata": {},
   "outputs": [
    {
     "data": {
      "text/plain": [
       "[<matplotlib.lines.Line2D at 0x2aaadf4da4c0>]"
      ]
     },
     "execution_count": 9,
     "metadata": {},
     "output_type": "execute_result"
    },
    {
     "data": {
      "image/png": "[encoded data removed]",
      "text/plain": [
       "<Figure size 432x288 with 1 Axes>"
      ]
     },
     "metadata": {
      "needs_background": "light"
     },
     "output_type": "display_data"
    }
   ],
   "source": [
    "\n",
    "plt.plot(restwave,lambda_F)"
   ]
  },
  {
   "cell_type": "code",
   "execution_count": 17,
   "id": "f7ad27f6-7f7f-4420-bb51-57b47b48495d",
   "metadata": {},
   "outputs": [
    {
     "data": {
      "image/png": "[encoded data removed]",
      "text/plain": [
       "<Figure size 432x288 with 1 Axes>"
      ]
     },
     "metadata": {
      "needs_background": "light"
     },
     "output_type": "display_data"
    }
   ],
   "source": [
    "nbins = 30\n",
    "\n",
    "n, _ = np.histogram(restwave, bins=nbins)\n",
    "sy, _ = np.histogram(restwave, bins=nbins, weights=lambda_F)\n",
    "sy2, _ = np.histogram(restwave, bins=nbins, weights=np.multiply(lambda_F,lambda_F))\n",
    "average = sy/n\n",
    "std = np.sqrt(sy2/n - average*average)\n",
    "\n",
    "plt.plot(restwave, lambda_F, 'bo')\n",
    "plt.errorbar((_[1:] + _[:-1])/2, average, yerr=std, fmt='r-')\n",
    "plt.show()"
   ]
  },
  {
   "cell_type": "code",
   "execution_count": null,
   "id": "06f97339-c094-4e43-84ad-6467cd75ce5e",
   "metadata": {},
   "outputs": [],
   "source": []
  }
 ],
 "metadata": {
  "kernelspec": {
   "display_name": "DESI master",
   "language": "python",
   "name": "desi-master"
  },
  "language_info": {
   "codemirror_mode": {
    "name": "ipython",
    "version": 3
   },
   "file_extension": ".py",
   "mimetype": "text/x-python",
   "name": "python",
   "nbconvert_exporter": "python",
   "pygments_lexer": "ipython3",
   "version": "3.8.3"
  },
  "toc-autonumbering": true
 },
 "nbformat": 4,
 "nbformat_minor": 5
}
