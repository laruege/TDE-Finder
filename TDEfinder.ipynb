{
 "cells": [
  {
   "cell_type": "markdown",
   "id": "029a3915-ff06-410b-8728-5db7636d9b8b",
   "metadata": {},
   "source": [
    "# Simple TDE Filter\n",
    "\n",
    "Search for several broad line emission features characteristic of TDE spectra and select object with all or several of those features. Examples:\n",
    "1. H$\\alpha$ emission.\n",
    "1. O III $\\lambda5007$ line.\n",
    "1. He II $\\lambda4800$ line.\n",
    "1. etc."
   ]
  },
  {
   "cell_type": "code",
   "execution_count": null,
   "id": "31577aff-b8e1-4c99-a547-eba327480802",
   "metadata": {},
   "outputs": [],
   "source": [
    "import os\n",
    "from glob import glob      # This is used for \"wildcard\" searches of folders.\n",
    "\n",
    "from abc import ABC\n",
    "\n",
    "from astropy.table import Table\n",
    "\n",
    "from desispec.io import read_spectra\n",
    "from desispec.spectra import stack as specstack\n",
    "\n",
    "import numpy as np\n",
    "import matplotlib as mpl\n",
    "import matplotlib.pyplot as plt\n",
    "import scipy.signal\n",
    "from scipy.ndimage import gaussian_filter1d\n",
    "from scipy.stats import norm\n",
    "import matplotlib.pyplot as plt\n",
    "from scipy.optimize import curve_fit\n",
    "import math\n",
    "import statistics\n",
    "\n",
    "import sys\n",
    "\n",
    "\n"
   ]
  },
  {
   "cell_type": "markdown",
   "id": "ddb002c1-0920-4c3d-9d44-2cecbed22051",
   "metadata": {},
   "source": [
    "## Access to Tile ToO from JuTy 2021\n",
    "\n",
    "This is a dummy data set we'll use as a sandbox to test the TDE filter."
   ]
  },
  {
   "cell_type": "code",
   "execution_count": 3,
   "id": "a376c1aa-cc8d-4f2d-8eed-41632b9e000a",
   "metadata": {},
   "outputs": [
    {
     "name": "stdout",
     "output_type": "stream",
     "text": [
      "INFO:spectra.py:282:read_spectra: iotime 29.110 sec to read coadd-0-80980-thru20210708.fits at 2021-08-16T13:15:34.128128\n"
     ]
    }
   ],
   "source": [
    "redux = 'daily/tiles/cumulative'\n",
    "basedir = os.environ['DESI_SPECTRO_REDUX']\n",
    "\n",
    "tiles = ['80980', '80981']\n",
    "tiledate = '20210708'\n",
    "\n",
    "spectra = None\n",
    "# Loop over all tiles in our tile list.\n",
    "for tile in tiles:\n",
    "    tilefolder = '{}/{}/{}/{}'.format(basedir, redux, tile, tiledate)\n",
    "    coadds = sorted(glob('{}/coadd*.fits'.format(tilefolder)))\n",
    "    \n",
    "    # Loop over all petals in the spectroscopic reduction.\n",
    "    for coadd in coadds:\n",
    "        # Read the spectra and the best-fit redshifts from redrock and combine into one stack of spectra.\n",
    "        spec = read_spectra(coadd)\n",
    "        zbest_files = coadd.replace('coadd', 'zbest')\n",
    "        zbest = Table.read(zbest_files, 'ZBEST')\n",
    "        spec.extra_catalog = zbest\n",
    "\n",
    "        # Accumulate spectra from all petals into one object, \"spectra.\"\n",
    "        if spectra is None:\n",
    "            spectra = spec\n",
    "        else:\n",
    "            spectra = specstack([spectra, spec])\n",
    "        \n",
    "        break\n",
    "    break\n",
    "            \n",
    "zbest = spectra.extra_catalog"
   ]
  },
  {
   "cell_type": "markdown",
   "id": "10287603-cb71-4c9d-9810-f49dbc1bc4f5",
   "metadata": {},
   "source": [
    "### Select Quality Redshifts\n",
    "\n",
    "Select spectra with good redshifts according to redrock. We'll use this to move to the objects' restframes and look for TDE-like spectra lines."
   ]
  },
  {
   "cell_type": "code",
   "execution_count": 9,
   "id": "cb1c9601-1c4d-4dce-8ce6-2d060c76493a",
   "metadata": {},
   "outputs": [],
   "source": [
    "select = (zbest['DELTACHI2']>25) & (zbest['ZWARN']==0) & (zbest['Z']<=0.75)"
   ]
  },
  {
   "cell_type": "code",
   "execution_count": 10,
   "id": "b48ba618-2e1d-48e5-b479-1c38b3b03bf1",
   "metadata": {},
   "outputs": [],
   "source": [
    "spectra = spectra[select]"
   ]
  },
  {
   "cell_type": "code",
   "execution_count": 11,
   "id": "9072b7d0-617f-477e-8113-455b9ea582fd",
   "metadata": {},
   "outputs": [
    {
     "data": {
      "text/plain": [
       "301"
      ]
     },
     "execution_count": 11,
     "metadata": {},
     "output_type": "execute_result"
    }
   ],
   "source": [
    "spectra.num_spectra()"
   ]
  },
  {
   "cell_type": "code",
   "execution_count": 63,
   "id": "ab27eb57-720a-46ce-80f2-6fd952e31fbf",
   "metadata": {},
   "outputs": [
    {
     "data": {
      "text/plain": [
       "{'prominences': array([42.10678196, 36.95031166, 43.9591918 , 55.03142667, 24.08481407,\n",
       "        37.81577873, 33.04949379]),\n",
       " 'left_bases': array([ 295,  361,  419,  462,  926,  926, 1577]),\n",
       " 'right_bases': array([2472, 2472,  462, 2472, 1005, 2472, 2472]),\n",
       " 'widths': array([ 14.13036178,  11.47884602,  32.79524467, 160.0494761 ,\n",
       "         22.86566744, 254.7370474 , 318.69834969]),\n",
       " 'width_heights': array([36.87179899, 39.08056927, 24.59338307, 29.08710039, 39.94923496,\n",
       "        36.48761082, 34.12539577]),\n",
       " 'left_ips': array([ 302.42200758,  384.5062453 ,  421.88865818,  466.4050197 ,\n",
       "         943.08618485, 1166.25942572, 1580.29384374]),\n",
       " 'right_ips': array([ 316.55236936,  395.98509132,  454.68390284,  626.4544958 ,\n",
       "         965.95185228, 1420.99647312, 1898.99219343])}"
      ]
     },
     "execution_count": 63,
     "metadata": {},
     "output_type": "execute_result"
    },
    {
     "data": {
      "image/png": "[encoded data removed]",
      "text/plain": [
       "<Figure size 432x288 with 1 Axes>"
      ]
     },
     "metadata": {
      "needs_background": "light"
     },
     "output_type": "display_data"
    }
   ],
   "source": [
    "k = 5\n",
    "plt.plot(spectra.wave['b'], spectra.flux['b'][k])\n",
    "peaks, info = scipy.signal.find_peaks(spectra.flux['b'][k], prominence=0, width=10)\n",
    "plt.scatter(spectra.wave['b'][peaks], spectra.flux['b'][k][peaks], color='r')\n",
    "info"
   ]
  },
  {
   "cell_type": "code",
   "execution_count": 47,
   "id": "ac8f464f-3fc3-4f9b-ad4a-74419ffde90f",
   "metadata": {},
   "outputs": [
    {
     "data": {
      "text/plain": [
       "array([ 312,  395,  443,  575,  965, 1211, 1806])"
      ]
     },
     "execution_count": 47,
     "metadata": {},
     "output_type": "execute_result"
    },
    {
     "data": {
      "image/png": "[encoded data removed]",
      "text/plain": [
       "<Figure size 432x288 with 1 Axes>"
      ]
     },
     "metadata": {
      "needs_background": "light"
     },
     "output_type": "display_data"
    }
   ],
   "source": [
    "plt.hist(info['widths'], bins=50)\n",
    "peaks"
   ]
  },
  {
   "cell_type": "markdown",
   "id": "c16d50ee-52a3-4987-a3f1-1fb7325ab444",
   "metadata": {},
   "source": [
    "## TDE Filtering Code"
   ]
  },
  {
   "cell_type": "code",
   "execution_count": 99,
   "id": "c85def2c-0123-431f-80d2-85d3914d5453",
   "metadata": {},
   "outputs": [],
   "source": [
    "# Search code implemented as a class.\n",
    "def gauss2(x, b, a, x0, sigma):\n",
    "    \"\"\"Implementation of 1D Gaussian with arbitrary normalization.\n",
    "    \n",
    "    Parameters\n",
    "    ----------\n",
    "    x : ndarray\n",
    "        List of independent values (ordinates) where we perform the fit.\n",
    "    b : float\n",
    "        Free parameter: constant offset.\n",
    "    a : float\n",
    "        Free parameter: normalization.\n",
    "    x0 : float\n",
    "        Location parameter of the Gaussian.\n",
    "    sigma : float\n",
    "        Scale parameter (width) of the Gaussian.\n",
    "    \n",
    "    Returns\n",
    "    -------\n",
    "    y : ndarray\n",
    "        Gaussian function N(x|a,b,x0,sigma) evaluated for all x.\n",
    "    \"\"\"\n",
    "    return b + (a * np.exp(-(x - x0) ** 2 / (2 * sigma ** 2)))\n",
    "\n",
    "class TDEFilter:\n",
    "    \n",
    "    def __init__(self):\n",
    "        self.heii_line_range = [4670., 4700.]\n",
    "        self.oiii_line_range = [4992., 5022.]\n",
    "        self.halpha_line_range = [6540., 6570.]\n",
    "        \n",
    "    def get_peak_in_range(self, wave, flux, wrange, prom=0, width=10):\n",
    "        # Pick out the desired wavelength subrange of the spectrum.\n",
    "        wmin, wmax = wrange\n",
    "        i, j = 0, len(wave)   # TEMPORARY: DELETE AFTER TESTING!\n",
    "#         i = np.abs(wmin - wave).argmin()\n",
    "#         j = np.abs(wmax - wave).argmin()\n",
    "        \n",
    "        # Apply the scipy peak finder to the subarray.\n",
    "        peaks, info = scipy.signal.find_peaks(flux[i:j], prominence=prom, width=width)\n",
    "\n",
    "        if len(peaks) > 0:\n",
    "            # Pick out the maximum flux in this range (eliminates noise/local minima).\n",
    "            k = flux[peaks].argmax()\n",
    "            peakidx = peaks[k]\n",
    "            peakflux = flux[peakidx]\n",
    "            peakwave = wave[peakidx]\n",
    "            peakwidth = info['widths'][k]\n",
    "            return peakidx, peakwave, peakwidth, peakflux\n",
    "\n",
    "        return None\n",
    "    \n",
    "    def snip_data_near_peak(self, wave, flux, good_peak, good_width):\n",
    "        # Extract a range of values in pixel space (2.2*peak finder width).\n",
    "        peak_edge = int(np.floor(2.2*(good_width)))\n",
    "        i = np.maximum(0, good_peak - peak_edge)\n",
    "        j = np.minimum(len(wave), good_peak + peak_edge)\n",
    "        \n",
    "        return wave[i:j], flux[i:j]\n",
    "    \n",
    "    def is_tde(self, wave, flux):\n",
    "        \n",
    "        # Call the peak finder for the spectrum.\n",
    "        peakinfo = self.get_peak_in_range(wave, flux, self.heii_line_range)\n",
    "        if peakinfo is not None:\n",
    "            # Extract a range around the peak.\n",
    "            print(peakinfo)\n",
    "            peakidx, peakwave, peakwidth, peakflux = peakinfo\n",
    "            subwave, subflux = self.snip_data_near_peak(wave, flux, peakidx, peakwidth)\n",
    "        \n",
    "            # Fit the feature to a 1D Gaussian.\n",
    "            pars, cov = curve_fit(gauss2, subwave, subflux, p0=[1., peakflux, peakwave, peakwidth])\n",
    "            print(pars)\n",
    "            \n",
    "        # Try to identify the TDE-like features.\n",
    "        \n",
    "        # Return true if the features are present in a certain arrangement.\n",
    "        \n",
    "        return True"
   ]
  },
  {
   "cell_type": "code",
   "execution_count": 100,
   "id": "a5435d6d-7e86-4943-b5bc-c3c0950a8b2b",
   "metadata": {},
   "outputs": [
    {
     "name": "stdout",
     "output_type": "stream",
     "text": [
      "(312, 3849.6000000000568, 14.130361779775285, 57.92518997192383)\n",
      "[  29.12172485   15.035281   3860.94457385   15.02400483]\n"
     ]
    },
    {
     "data": {
      "text/plain": [
       "True"
      ]
     },
     "execution_count": 100,
     "metadata": {},
     "output_type": "execute_result"
    }
   ],
   "source": [
    "tdefilt = TDEFilter()\n",
    "tdefilt.is_tde(spectra.wave['b'], spectra.flux['b'][k])"
   ]
  },
  {
   "cell_type": "code",
   "execution_count": 106,
   "id": "6d8f8af1-b83e-429c-90de-0032dc4f7b0a",
   "metadata": {},
   "outputs": [
    {
     "data": {
      "text/plain": [
       "[<matplotlib.lines.Line2D at 0x2aaadec63580>]"
      ]
     },
     "execution_count": 106,
     "metadata": {},
     "output_type": "execute_result"
    },
    {
     "data": {
      "image/png": "[encoded data removed]",
      "text/plain": [
       "<Figure size 432x288 with 1 Axes>"
      ]
     },
     "metadata": {
      "needs_background": "light"
     },
     "output_type": "display_data"
    }
   ],
   "source": [
    "plt.plot(spectra.wave['b'][0:500], spectra.flux['b'][k][0:500])\n",
    "\n",
    "pars = [  29.12172485,   15.035281,   3860.94457385,   15.02400483]\n",
    "\n",
    "plt.plot(spectra.wave['b'][0:500], gauss2(spectra.wave['b'], *pars)[0:500])"
   ]
  },
  {
   "cell_type": "code",
   "execution_count": null,
   "id": "934b9d64-c10f-47c9-adff-df68851c83ae",
   "metadata": {},
   "outputs": [],
   "source": [
    "# Defining the most important parts of the peak finder algorithm.\n",
    "\n",
    "def gauss2(x, b, a, x0, sigma):\n",
    "    \"\"\"Implementation of 1D Gaussian with arbitrary normalization.\n",
    "    \n",
    "    Parameters\n",
    "    ----------\n",
    "    x : ndarray\n",
    "        List of independent values (ordinates) where we perform the fit.\n",
    "    b : float\n",
    "        Free parameter: constant offset.\n",
    "    a : float\n",
    "        Free parameter: normalization.\n",
    "    x0 : float\n",
    "        Location parameter of the Gaussian.\n",
    "    sigma : float\n",
    "        Scale parameter (width) of the Gaussian.\n",
    "    \n",
    "    Returns\n",
    "    -------\n",
    "    y : ndarray\n",
    "        Gaussian function N(x|a,b,x0,sigma) evaluated for all x.\n",
    "    \"\"\"\n",
    "    return b + (a * np.exp(-(x - x0) ** 2 / (2 * sigma ** 2)))\n",
    "    \n",
    "def sub_list_into_max(thelist, flux):\n",
    "    \"\"\"Basically, return arg max(flux[j]), where j indexes local maxima.\n",
    "    \n",
    "    Parameters\n",
    "    ----------\n",
    "    thelist : ndarray of int\n",
    "        Index of values used to search.\n",
    "    flux : ndarray of float\n",
    "        List of local maxima in the flux.\n",
    "    \n",
    "    Returns\n",
    "    -------\n",
    "    argmax : int\n",
    "        Index of the global maximum out of the list of local maxima.\n",
    "    \"\"\"\n",
    "    maximum = 0\n",
    "    max_index = 0\n",
    "    for k in range(len(thelist)):\n",
    "        if flux[thelist[k]] > maximum:\n",
    "            maximum = flux[thelist[k]]\n",
    "            max_index = k\n",
    "    return max_index\n",
    "\n",
    "def has_peak_in_range(wave,flux,prom,wid,minwave,maxwave):\n",
    "    \"\"\"Find a peak (local maximum) in flux vs. wavelength within some wavelength range.\n",
    "    \n",
    "    Parameters\n",
    "    ----------\n",
    "    wave : ndarray\n",
    "        Array of input wavelengths in a spectrum.\n",
    "    \n",
    "    flux : ndarray\n",
    "        Flux values in a spectrum.\n",
    "    \n",
    "    prom : float\n",
    "        Topological prominence of the local maximum to find (threshold/cut value).\n",
    "    \n",
    "    wid : int or float\n",
    "        Minimum width (in pixels) identifying a peak.\n",
    "    \n",
    "    minwave : float\n",
    "        Minimum wavelength in search range.\n",
    "    \n",
    "    maxwave : float\n",
    "        Maximum wavelength in search range.\n",
    "    \n",
    "    Returns\n",
    "    -------\n",
    "    best_peak : int\n",
    "        Index of the best-fit peak.\n",
    "    best_width : float\n",
    "        Width of the best-fit peak.\n",
    "    \"\"\"\n",
    "    # rest wavelength in angstroms, arbitrary flux\n",
    "    good_peaks = []\n",
    "    good_widths = []\n",
    "    peaks, widths = scipy.signal.find_peaks(flux, prominence = prom, width = wid)\n",
    "    widths = widths[\"widths\"]\n",
    "    best_peak = None\n",
    "    best_width = 0\n",
    "    if len(peaks) != 0:\n",
    "        for k in range(len(peaks)):\n",
    "            if (minwave <= wave[peaks[k]]):\n",
    "                if (wave[peaks[k]] <= maxwave):\n",
    "                    good_peaks.append(peaks[k])\n",
    "                    good_widths.append(widths[k])\n",
    "        if good_peaks == []:\n",
    "            return best_peak, best_width\n",
    "        max_index = sub_list_into_max(good_peaks,flux)\n",
    "        best_peak = good_peaks[max_index]\n",
    "        best_width = good_widths[max_index]\n",
    "        return best_peak, best_width\n",
    "    else:\n",
    "        return best_peak, best_width\n",
    "    \n",
    "def snip_data_near_peak(wave,flux,good_peak,good_width):\n",
    "    \"\"\"Given a peak, select a data range for performing a Gaussian fit.\n",
    "    \n",
    "    Parameters\n",
    "    ----------\n",
    "    wave : ndarray\n",
    "        Array of input wavelengths in a spectrum.\n",
    "    \n",
    "    flux : ndarray\n",
    "        Flux values in a spectrum.\n",
    "    \n",
    "    good_peak : int\n",
    "        Index (in wave/flux arrays) of peak being fit.\n",
    "    \n",
    "    good_width : float\n",
    "        Width of peak being fit.\n",
    "    \n",
    "    Returns\n",
    "    -------\n",
    "    snipped_wave : ndarray\n",
    "        Selected wavelength range around the peak.\n",
    "    snipped_flux : ndarray\n",
    "        Selected flux values around the peak.\n",
    "    \"\"\"\n",
    "    peak_edge = math.floor(2.2*(good_width))\n",
    "    try:\n",
    "        snipped_wave = wave[good_peak-peak_edge:good_peak+peak_edge]\n",
    "        snipped_flux = flux[good_peak-peak_edge:good_peak+peak_edge]\n",
    "    except:\n",
    "        if (good_peak - peak_edge) < 0:\n",
    "            snipped_wave = wave[0:good_peak+peak_edge]\n",
    "            snipped_flux = flux[0:good_peak+peak_edge]\n",
    "        else:\n",
    "            snipped_wave = wave[good_peak - peak_edge:len(wave)-1]\n",
    "            snipped_flux = flux[good_peak - peak_edge:len(wave)-1]\n",
    "    return snipped_wave,snipped_flux\n",
    "\n",
    "def fit_gaussian_to_peak(wave,flux,good_peak,good_width):\n",
    "    \"\"\"Fit 1D Gaussian to a subselection of a spectrum using a Levenberg-Marquardt minimization.\n",
    "    \n",
    "    Parameters\n",
    "    ----------\n",
    "    wave : ndarray\n",
    "        Array of input wavelengths in a spectrum.\n",
    "    \n",
    "    flux : ndarray\n",
    "        Flux values in a spectrum.\n",
    "    \n",
    "    good_peak : int\n",
    "        Index (in wave/flux arrays) of peak being fit.\n",
    "    \n",
    "    good_width : float\n",
    "        Width of peak being fit.\n",
    "    \n",
    "    Returns\n",
    "    -------\n",
    "    params : list\n",
    "        List of best-fit 1D Gaussian parameters (xrange, offset, norm, loc, width).\n",
    "    \"\"\"\n",
    "    \n",
    "    snipped_wave, snipped_flux = snip_data_near_peak(wave,flux,good_peak,good_width)\n",
    "    params, _ = curve_fit(gauss2, snipped_wave, snipped_flux,p0=[prom,max(snipped_flux),wave[good_peak],wid])\n",
    "    return params #xrange, offset, height, average, width\n",
    "\n",
    "def is_TDE(he_params,o_params,h_params):\n",
    "    \"\"\"\n",
    "    Parameters\n",
    "    ----------\n",
    "    he_params : list\n",
    "        wrange, offset, norm, loc, width of He II line.\n",
    "    o_params : list\n",
    "        wrange, offset, norm, loc, width of O III line.\n",
    "    h_params : list\n",
    "        wrange, offset, norm, loc, width of Halpha line.\n",
    "    \n",
    "    Returns\n",
    "    -------\n",
    "    is_tde : bool\n",
    "        If true, sufficient features present for a TDE classification.\n",
    "    \"\"\"\n",
    "    if he_params == []:\n",
    "        return False\n",
    "    elif h_params == []:\n",
    "        return False\n",
    "    line_ratio = he_params[1]/h_params[1]\n",
    "    o_ratio = o_params[1]/h_params[1]\n",
    "    if line_ratio == []:\n",
    "        return False\n",
    "    if line_ratio >= 0.9:\n",
    "        print(line_ratio)\n",
    "        if o_ratio <= 0.1:\n",
    "            return True\n",
    "        elif o_params == []:\n",
    "            return True\n",
    "        return False\n",
    "    return False"
   ]
  },
  {
   "cell_type": "markdown",
   "id": "e8403bd1-b1a9-4fd4-a384-72150166fd80",
   "metadata": {},
   "source": [
    "# Test to see if the code works for DESI data"
   ]
  },
  {
   "cell_type": "code",
   "execution_count": null,
   "id": "98fb4506-402f-4500-87fc-edf342910631",
   "metadata": {},
   "outputs": [],
   "source": [
    "total = sum(select)\n",
    "prom  = 0\n",
    "wid = 0\n",
    "\n",
    "for j in range(sum(select)):\n",
    "    targetid = spectra.fibermap[select][j]['TARGETID']\n",
    "    z = spectra.extra_catalog[select][j]['Z']\n",
    "    smoothed = []\n",
    "    restwave = []\n",
    "    good_he_peaks = []\n",
    "    good_o_peaks = []\n",
    "    good_h_peaks = []\n",
    "    good_he_widths = []\n",
    "    good_o_widths = []\n",
    "    good_h_widths = []\n",
    "    for band in spectra.bands:\n",
    "        smoothed.append(gaussian_filter1d(spectra.flux[band][select][j], 5))\n",
    "        restwave.append(spectra.wave[band]/(1+z))\n",
    "    for k in range(len(smoothed)):\n",
    "        he_peaks,he_widths = has_peak_in_range(restwave[k],smoothed[k],prom,wid,4670,4700)\n",
    "        o_peaks,o_widths = has_peak_in_range(restwave[k],smoothed[k],prom,wid,4992,5022)\n",
    "        h_peaks,h_widths = has_peak_in_range(restwave[k],smoothed[k],prom,wid,6540,6570)\n",
    "        good_he_peaks.extend(he_peaks)\n",
    "        good_o_peaks.extend(o_peaks)\n",
    "        good_h_peaks.extend(h_peaks)\n",
    "        good_he_widths.extend(he_widths)\n",
    "        good_o_widths.extend(o_widths)\n",
    "        good_h_widths.extend(h_widths)\n",
    "    if\n",
    "        for k in range(len(smoothed)):\n",
    "            he_params = fit_gaussian_to_peak(restwave,smoothed[k],good_he_peaks,good_he_widths)\n",
    "            o_params = fit_gaussian_to_peak(restwave,smoothed[k],good_o_peaks,good_o_widths)\n",
    "            h_params = fit_gaussian_to_peak(restwave,smoothed[k],good_h_peaks,good_h_widths)\n",
    "        if he_params == []:\n",
    "            pass\n",
    "        elif h_params == []:\n",
    "            pass\n",
    "        else:\n",
    "            result = is_TDE(he_params,o_params,h_params)\n",
    "\n",
    "            if result is True:\n",
    "                print(targetid)"
   ]
  },
  {
   "cell_type": "markdown",
   "id": "8215b2ff-fd10-44f3-bc98-3509b12fc9fa",
   "metadata": {},
   "source": [
    "# Test on TDE.space data"
   ]
  },
  {
   "cell_type": "markdown",
   "id": "fa8bef01-cd7c-410a-b41d-cc467c29e0df",
   "metadata": {},
   "source": [
    "### iPTF16axa from ApJ Screenshot (!)"
   ]
  },
  {
   "cell_type": "code",
   "execution_count": null,
   "id": "ef261816-4552-4912-b2e4-3d692f75f50e",
   "metadata": {},
   "outputs": [],
   "source": [
    "dct0613 = Table.read('DCT_0613.csv', names=['wave', 'flux'])\n",
    "wave = dct0613['wave']\n",
    "flux = dct0613['flux']\n",
    "\n",
    "fig, axes = plt.subplots(1,3, figsize=(14,4), tight_layout=True)\n",
    "\n",
    "ax = axes[0]\n",
    "ax.plot(wave, flux)\n",
    "ax.set(xlabel='$\\lambda$ [$\\AA$]',\n",
    "       ylabel='flux [a.u.]');\n",
    "\n",
    "ax = axes[1]\n",
    "ax.plot(wave, wave*flux)\n",
    "ax.set(xlabel='$\\lambda$ [$\\AA$]',\n",
    "       ylabel='$\\lambda F_\\lambda$ [a.u.]');\n",
    "\n",
    "ax = axes[2]\n",
    "ax.hist(wave, bins=6, weights=wave*flux, log=True)\n",
    "ax.set(xlabel='$\\lambda$ [$\\AA$]',\n",
    "       ylabel='$\\lambda F_\\lambda$ [a.u.]');"
   ]
  },
  {
   "cell_type": "code",
   "execution_count": null,
   "id": "fea163aa-8841-4d6b-966d-8f4d0dfeb80a",
   "metadata": {},
   "outputs": [],
   "source": [
    "wave = []\n",
    "flux = []\n",
    "new_flux = []\n",
    "restwave = []\n",
    "file = open('samplePaperTDE.txt', 'r')\n",
    "\n",
    "prom  = 0\n",
    "wid = 0\n",
    "z = 0.043671\n",
    "\n",
    "for line in file.readlines():\n",
    "    currentline = line.rstrip().split(\"\")\n",
    "    wave.append(float(currentline[0]))\n",
    "    flux.append(float(currentline[1]))\n",
    "for k in range(len(flux)):\n",
    "    new_flux.append(flux[k]*math.pow(10.0,16.0))\n",
    "    restwave.append(wave[k]/(1+z))\n",
    "smoothed = [gaussian_filter1d(new_flux, 5)]\n",
    "good_he_peaks = []\n",
    "good_o_peaks = []\n",
    "good_h_peaks = []\n",
    "good_he_widths = []\n",
    "good_o_widths = []\n",
    "good_h_widths = []\n",
    "he_params = []\n",
    "o_params = []\n",
    "h_params = []\n",
    "\n",
    "for k in range(len(smoothed)):\n",
    "    he_peaks,he_widths = has_peak_in_range(restwave,smoothed[k],prom,wid,4670,4700)\n",
    "    o_peaks,o_widths = has_peak_in_range(restwave,smoothed[k],prom,wid,4992,5022)\n",
    "    h_peaks,h_widths = has_peak_in_range(restwave,smoothed[k],prom,wid,6540,6570)\n",
    "    good_he_peaks.extend(he_peaks)\n",
    "    good_o_peaks.extend(o_peaks)\n",
    "    good_h_peaks.extend(h_peaks)\n",
    "    good_he_widths.extend(he_widths)\n",
    "    good_o_widths.extend(o_widths)\n",
    "    good_h_widths.extend(h_widths)\n",
    "\n",
    "for k in range(len(smoothed)):\n",
    "    for j in range(len(good_he_peaks)):\n",
    "        he_params.append(fit_gaussian_to_peak(restwave,smoothed[k],good_he_peaks[j],good_he_widths[j]))\n",
    "    for j in range(len(good_o_peaks)):\n",
    "        o_params.append(fit_gaussian_to_peak(restwave,smoothed[k],good_o_peaks[j],good_o_widths[j]))\n",
    "    for j in range(len(good_h_peaks)):\n",
    "        h_params.append(fit_gaussian_to_peak(restwave,smoothed[k],good_h_peaks[j],good_h_widths[j]))\n",
    "\n",
    "if he_params == []:\n",
    "    pass\n",
    "elif h_params == []:\n",
    "    pass\n",
    "else:\n",
    "    result = is_TDE(he_params,o_params,h_params)\n",
    "\n",
    "    if result is True:\n",
    "        print('It is a TDE!')\n",
    "plt.plot(restwave,new_flux)"
   ]
  },
  {
   "cell_type": "code",
   "execution_count": null,
   "id": "dde66d0c-d111-4a6e-a34f-bc2a1390c86b",
   "metadata": {},
   "outputs": [],
   "source": [
    "lambda_F = []\n",
    "\n",
    "for k in range(len(restwave)):\n",
    "    lambda_F.append(new_flux[k]*restwave[k])\n"
   ]
  },
  {
   "cell_type": "code",
   "execution_count": null,
   "id": "63f00415-5ace-4acd-aa42-d5629bdeb592",
   "metadata": {},
   "outputs": [],
   "source": [
    "\n",
    "plt.plot(restwave,lambda_F)"
   ]
  },
  {
   "cell_type": "code",
   "execution_count": null,
   "id": "f7ad27f6-7f7f-4420-bb51-57b47b48495d",
   "metadata": {},
   "outputs": [],
   "source": [
    "nbins = 30\n",
    "\n",
    "n, _ = np.histogram(restwave, bins=nbins)\n",
    "sy, _ = np.histogram(restwave, bins=nbins, weights=lambda_F)\n",
    "sy2, _ = np.histogram(restwave, bins=nbins, weights=np.multiply(lambda_F,lambda_F))\n",
    "average = sy/n\n",
    "std = np.sqrt(sy2/n - average*average)\n",
    "\n",
    "plt.plot(restwave, lambda_F, 'bo')\n",
    "plt.errorbar((_[1:] + _[:-1])/2, average, yerr=std, fmt='r-')\n",
    "plt.show()"
   ]
  },
  {
   "cell_type": "code",
   "execution_count": null,
   "id": "06f97339-c094-4e43-84ad-6467cd75ce5e",
   "metadata": {},
   "outputs": [],
   "source": []
  }
 ],
 "metadata": {
  "kernelspec": {
   "display_name": "DESI master",
   "language": "python",
   "name": "desi-master"
  },
  "language_info": {
   "codemirror_mode": {
    "name": "ipython",
    "version": 3
   },
   "file_extension": ".py",
   "mimetype": "text/x-python",
   "name": "python",
   "nbconvert_exporter": "python",
   "pygments_lexer": "ipython3",
   "version": "3.8.3"
  },
  "toc-autonumbering": true
 },
 "nbformat": 4,
 "nbformat_minor": 5
}
